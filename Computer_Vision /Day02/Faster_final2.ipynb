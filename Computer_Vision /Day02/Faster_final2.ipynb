{
  "nbformat": 4,
  "nbformat_minor": 0,
  "metadata": {
    "colab": {
      "provenance": [],
      "gpuType": "T4",
      "authorship_tag": "ABX9TyMFBN/wPvLB8LCQrTxaNe9Z",
      "include_colab_link": true
    },
    "kernelspec": {
      "name": "python3",
      "display_name": "Python 3"
    },
    "language_info": {
      "name": "python"
    },
    "accelerator": "GPU"
  },
  "cells": [
    {
      "cell_type": "markdown",
      "metadata": {
        "id": "view-in-github",
        "colab_type": "text"
      },
      "source": [
        "<a href=\"https://colab.research.google.com/github/mohamedshouaib/iti/blob/main/Computer_Vision%20/Day02/Faster_final2.ipynb\" target=\"_parent\"><img src=\"https://colab.research.google.com/assets/colab-badge.svg\" alt=\"Open In Colab\"/></a>"
      ]
    },
    {
      "cell_type": "code",
      "execution_count": 1,
      "metadata": {
        "colab": {
          "base_uri": "https://localhost:8080/"
        },
        "id": "31A3x_AzRFa3",
        "outputId": "545cb6b0-4a7a-4f43-bc0f-80a6e427b1cb"
      },
      "outputs": [
        {
          "output_type": "stream",
          "name": "stdout",
          "text": [
            "Cloning into 'iti'...\n",
            "remote: Enumerating objects: 2436, done.\u001b[K\n",
            "remote: Counting objects: 100% (1745/1745), done.\u001b[K\n",
            "^C\n",
            "/bin/bash: line 1: cd: iti/Computer_Vision/Day02: No such file or directory\n"
          ]
        }
      ],
      "source": [
        "!git clone https://github.com/mohamedshouaib/iti.git\n",
        "!cd iti/Computer_Vision/Day02"
      ]
    },
    {
      "cell_type": "code",
      "source": [
        "import torch\n",
        "import torchvision.transforms as T\n",
        "import os\n",
        "import cv2\n",
        "import numpy as np\n",
        "from PIL import Image\n",
        "import matplotlib.pyplot as plt\n",
        "from torch.utils.data import Dataset, DataLoader\n",
        "from torchvision.models.detection import FasterRCNN\n",
        "from torchvision.models.detection.rpn import AnchorGenerator\n",
        "from torchvision.models import resnet50\n",
        "import torch.nn as nn\n",
        "from torchvision.ops import MultiScaleRoIAlign, box_iou\n",
        "import torch.optim as optim\n",
        "from tqdm import tqdm"
      ],
      "metadata": {
        "id": "et0IrQLTRPre"
      },
      "execution_count": 2,
      "outputs": []
    },
    {
      "cell_type": "code",
      "source": [
        "BATCH_SIZE = 2\n",
        "LEARNING_RATE = 0.001\n",
        "WEIGHT_DECAY = 0.0005\n",
        "NUM_EPOCHS = 10\n",
        "PATIENCE = 3\n",
        "ANCHOR_SIZES = ((32, 64, 128),)\n",
        "ASPECT_RATIOS = ((0.5, 1.0, 2.0),)\n",
        "IOU_THRESHOLD = 0.5"
      ],
      "metadata": {
        "id": "ne52Pb-njxnQ"
      },
      "execution_count": 3,
      "outputs": []
    },
    {
      "cell_type": "code",
      "source": [
        "class Load_Dataset(Dataset):\n",
        "    def __init__(self, image_dir, label_dir, transforms=None):\n",
        "        self.image_dir = image_dir\n",
        "        self.label_dir = label_dir\n",
        "        self.transforms = transforms\n",
        "\n",
        "        self.valid_samples = []\n",
        "        for img_name in sorted(os.listdir(image_dir)):\n",
        "            if not img_name.lower().endswith(('.jpg', '.png', '.jpeg', '.tif')):\n",
        "                continue\n",
        "\n",
        "            label_path = os.path.join(label_dir, os.path.splitext(img_name)[0] + \".txt\")\n",
        "            if not os.path.exists(label_path):\n",
        "                continue\n",
        "\n",
        "            with open(label_path, 'r') as f:\n",
        "                has_valid_boxes = False\n",
        "                for line in f:\n",
        "                    parts = line.strip().replace(\",\", \" \").split()\n",
        "                    if len(parts) == 4:\n",
        "                        x1, y1, x2, y2 = map(int, parts)\n",
        "                        if x2 > x1 and y2 > y1:\n",
        "                            has_valid_boxes = True\n",
        "                            break\n",
        "\n",
        "            if has_valid_boxes:\n",
        "                self.valid_samples.append(img_name)\n",
        "\n",
        "    def __len__(self):\n",
        "        return len(self.valid_samples)\n",
        "\n",
        "    def __getitem__(self, idx):\n",
        "        img_name = self.valid_samples[idx]\n",
        "        img_path = os.path.join(self.image_dir, img_name)\n",
        "        label_path = os.path.join(self.label_dir, os.path.splitext(img_name)[0] + \".txt\")\n",
        "\n",
        "        img = Image.open(img_path).convert(\"RGB\")\n",
        "\n",
        "        boxes = []\n",
        "        with open(label_path, 'r') as f:\n",
        "            for line in f:\n",
        "                parts = line.strip().replace(\",\", \" \").split()\n",
        "                if len(parts) == 4:\n",
        "                    x1, y1, x2, y2 = map(int, parts)\n",
        "                    if x2 > x1 and y2 > y1:\n",
        "                        boxes.append([x1, y1, x2, y2])\n",
        "\n",
        "        if self.transforms:\n",
        "            img = self.transforms(img)\n",
        "\n",
        "        boxes = torch.tensor(boxes, dtype=torch.float32)\n",
        "        labels = torch.ones((len(boxes),), dtype=torch.int64)\n",
        "        target = {'boxes': boxes, 'labels': labels}\n",
        "\n",
        "        return img, target"
      ],
      "metadata": {
        "id": "aUPGQx1BRQ3e"
      },
      "execution_count": 4,
      "outputs": []
    },
    {
      "cell_type": "code",
      "source": [
        "transform = T.Compose([\n",
        "    T.ToTensor(),\n",
        "    T.RandomHorizontalFlip(p=0.5),\n",
        "    T.ColorJitter(brightness=0.2, contrast=0.2, saturation=0.2),\n",
        "    T.Normalize(mean=[0.485, 0.456, 0.406], std=[0.229, 0.224, 0.225])\n",
        "])\n",
        "\n",
        "train_dataset = Load_Dataset(\"iti/Computer_Vision/Day02/TrainImages\", \"iti/Computer_Vision/Day02/TrainGroundTruth\", transforms=transform)\n",
        "val_dataset = Load_Dataset(\"iti/Computer_Vision/Day02/TestImages\", \"iti/Computer_Vision/Day02/TestGroundTruth\", transforms=transform)\n",
        "\n",
        "print(f\"Train samples: {len(train_dataset)}\")\n",
        "print(f\"Validation samples: {len(val_dataset)}\")\n",
        "\n",
        "if len(train_dataset) == 0 or len(val_dataset) == 0:\n",
        "    raise ValueError(\"No valid training samples found. Check your data paths and label files.\")\n",
        "\n",
        "def collate_fn(batch):\n",
        "    return tuple(zip(*batch))\n",
        "\n",
        "train_loader = DataLoader(train_dataset, batch_size=BATCH_SIZE, shuffle=True, collate_fn=collate_fn, num_workers=2)\n",
        "val_loader = DataLoader(val_dataset, batch_size=BATCH_SIZE, shuffle=False, collate_fn=collate_fn, num_workers=2)"
      ],
      "metadata": {
        "colab": {
          "base_uri": "https://localhost:8080/",
          "height": 388
        },
        "id": "fb1Adl8DRQ5r",
        "outputId": "8a2a09f0-9bb3-43a0-8600-3cc722619af5"
      },
      "execution_count": 5,
      "outputs": [
        {
          "output_type": "error",
          "ename": "FileNotFoundError",
          "evalue": "[Errno 2] No such file or directory: 'iti/Computer_Vision/Day02/TrainImages'",
          "traceback": [
            "\u001b[0;31m---------------------------------------------------------------------------\u001b[0m",
            "\u001b[0;31mFileNotFoundError\u001b[0m                         Traceback (most recent call last)",
            "\u001b[0;32m<ipython-input-5-45b4e0469c1c>\u001b[0m in \u001b[0;36m<cell line: 0>\u001b[0;34m()\u001b[0m\n\u001b[1;32m      6\u001b[0m ])\n\u001b[1;32m      7\u001b[0m \u001b[0;34m\u001b[0m\u001b[0m\n\u001b[0;32m----> 8\u001b[0;31m \u001b[0mtrain_dataset\u001b[0m \u001b[0;34m=\u001b[0m \u001b[0mLoad_Dataset\u001b[0m\u001b[0;34m(\u001b[0m\u001b[0;34m\"iti/Computer_Vision/Day02/TrainImages\"\u001b[0m\u001b[0;34m,\u001b[0m \u001b[0;34m\"iti/Computer_Vision/Day02/TrainGroundTruth\"\u001b[0m\u001b[0;34m,\u001b[0m \u001b[0mtransforms\u001b[0m\u001b[0;34m=\u001b[0m\u001b[0mtransform\u001b[0m\u001b[0;34m)\u001b[0m\u001b[0;34m\u001b[0m\u001b[0;34m\u001b[0m\u001b[0m\n\u001b[0m\u001b[1;32m      9\u001b[0m \u001b[0mval_dataset\u001b[0m \u001b[0;34m=\u001b[0m \u001b[0mLoad_Dataset\u001b[0m\u001b[0;34m(\u001b[0m\u001b[0;34m\"iti/Computer_Vision/Day02/TestImages\"\u001b[0m\u001b[0;34m,\u001b[0m \u001b[0;34m\"iti/Computer_Vision/Day02/TestGroundTruth\"\u001b[0m\u001b[0;34m,\u001b[0m \u001b[0mtransforms\u001b[0m\u001b[0;34m=\u001b[0m\u001b[0mtransform\u001b[0m\u001b[0;34m)\u001b[0m\u001b[0;34m\u001b[0m\u001b[0;34m\u001b[0m\u001b[0m\n\u001b[1;32m     10\u001b[0m \u001b[0;34m\u001b[0m\u001b[0m\n",
            "\u001b[0;32m<ipython-input-4-cda567a666c0>\u001b[0m in \u001b[0;36m__init__\u001b[0;34m(self, image_dir, label_dir, transforms)\u001b[0m\n\u001b[1;32m      6\u001b[0m \u001b[0;34m\u001b[0m\u001b[0m\n\u001b[1;32m      7\u001b[0m         \u001b[0mself\u001b[0m\u001b[0;34m.\u001b[0m\u001b[0mvalid_samples\u001b[0m \u001b[0;34m=\u001b[0m \u001b[0;34m[\u001b[0m\u001b[0;34m]\u001b[0m\u001b[0;34m\u001b[0m\u001b[0;34m\u001b[0m\u001b[0m\n\u001b[0;32m----> 8\u001b[0;31m         \u001b[0;32mfor\u001b[0m \u001b[0mimg_name\u001b[0m \u001b[0;32min\u001b[0m \u001b[0msorted\u001b[0m\u001b[0;34m(\u001b[0m\u001b[0mos\u001b[0m\u001b[0;34m.\u001b[0m\u001b[0mlistdir\u001b[0m\u001b[0;34m(\u001b[0m\u001b[0mimage_dir\u001b[0m\u001b[0;34m)\u001b[0m\u001b[0;34m)\u001b[0m\u001b[0;34m:\u001b[0m\u001b[0;34m\u001b[0m\u001b[0;34m\u001b[0m\u001b[0m\n\u001b[0m\u001b[1;32m      9\u001b[0m             \u001b[0;32mif\u001b[0m \u001b[0;32mnot\u001b[0m \u001b[0mimg_name\u001b[0m\u001b[0;34m.\u001b[0m\u001b[0mlower\u001b[0m\u001b[0;34m(\u001b[0m\u001b[0;34m)\u001b[0m\u001b[0;34m.\u001b[0m\u001b[0mendswith\u001b[0m\u001b[0;34m(\u001b[0m\u001b[0;34m(\u001b[0m\u001b[0;34m'.jpg'\u001b[0m\u001b[0;34m,\u001b[0m \u001b[0;34m'.png'\u001b[0m\u001b[0;34m,\u001b[0m \u001b[0;34m'.jpeg'\u001b[0m\u001b[0;34m,\u001b[0m \u001b[0;34m'.tif'\u001b[0m\u001b[0;34m)\u001b[0m\u001b[0;34m)\u001b[0m\u001b[0;34m:\u001b[0m\u001b[0;34m\u001b[0m\u001b[0;34m\u001b[0m\u001b[0m\n\u001b[1;32m     10\u001b[0m                 \u001b[0;32mcontinue\u001b[0m\u001b[0;34m\u001b[0m\u001b[0;34m\u001b[0m\u001b[0m\n",
            "\u001b[0;31mFileNotFoundError\u001b[0m: [Errno 2] No such file or directory: 'iti/Computer_Vision/Day02/TrainImages'"
          ]
        }
      ]
    },
    {
      "cell_type": "code",
      "source": [
        "class MyFasterRCNN(nn.Module):\n",
        "    def __init__(self, num_classes=2):\n",
        "        super().__init__()\n",
        "        backbone = resnet50(weights=None)\n",
        "        self.backbone = nn.Sequential(*list(resnet50(weights=None).children())[:-2], nn.Dropout(0.2))\n",
        "        self.backbone.out_channels = 2048\n",
        "\n",
        "        anchor_generator = AnchorGenerator(\n",
        "            sizes=ANCHOR_SIZES,\n",
        "            aspect_ratios=ASPECT_RATIOS\n",
        "        )\n",
        "\n",
        "        roi_pooler = MultiScaleRoIAlign(\n",
        "            featmap_names=['0'],\n",
        "            output_size=7,\n",
        "            sampling_ratio=2\n",
        "        )\n",
        "\n",
        "        self.model = FasterRCNN(\n",
        "            backbone=self.backbone,\n",
        "            num_classes=num_classes,\n",
        "            rpn_anchor_generator=anchor_generator,\n",
        "            box_roi_pool=roi_pooler\n",
        "        )\n",
        "\n",
        "    def forward(self, images, targets=None):\n",
        "        return self.model(images, targets)\n",
        "\n",
        "\n",
        "device = torch.device(\"cuda\" if torch.cuda.is_available() else \"cpu\")\n",
        "model = MyFasterRCNN().to(device)\n",
        "optimizer = optim.AdamW(model.parameters(), lr=LEARNING_RATE, weight_decay=0.001)\n",
        "scheduler = optim.lr_scheduler.ReduceLROnPlateau(optimizer, mode='min', factor=0.1, patience=3)"
      ],
      "metadata": {
        "id": "U30QzF8PRQ8E"
      },
      "execution_count": null,
      "outputs": []
    },
    {
      "cell_type": "code",
      "source": [
        "def train_one_epoch(model, optimizer, data_loader, device):\n",
        "    model.train()\n",
        "    total_loss = 0\n",
        "    for images, targets in tqdm(data_loader, desc=\"Training\"):\n",
        "        images = [img.to(device) for img in images]\n",
        "        targets = [{k: v.to(device) for k, v in t.items()} for t in targets]\n",
        "\n",
        "        optimizer.zero_grad()\n",
        "        loss_dict = model(images, targets)\n",
        "        losses = sum(loss for loss in loss_dict.values())\n",
        "        losses.backward()\n",
        "        optimizer.step()\n",
        "        total_loss += losses.item()\n",
        "    return total_loss / len(data_loader)\n"
      ],
      "metadata": {
        "id": "L3_f9XHHRQ-T"
      },
      "execution_count": null,
      "outputs": []
    },
    {
      "cell_type": "code",
      "source": [
        "def validate(model, data_loader, device):\n",
        "    model.train()\n",
        "    val_loss = 0\n",
        "    with torch.no_grad():\n",
        "        for images, targets in tqdm(data_loader, desc=\"Validating\"):\n",
        "            if not images or not targets:\n",
        "                continue\n",
        "\n",
        "            images = [img.to(device) for img in images]\n",
        "            targets = [{k: v.to(device) for k, v in t.items()} for t in targets]\n",
        "\n",
        "            loss_dict = model(images, targets)\n",
        "\n",
        "            losses = sum(loss for loss in loss_dict.values())\n",
        "            val_loss += losses.item()\n",
        "\n",
        "    model.eval()\n",
        "    return val_loss / len(data_loader) if len(data_loader) > 0 else 0\n"
      ],
      "metadata": {
        "id": "eqd_L95BRRAw"
      },
      "execution_count": null,
      "outputs": []
    },
    {
      "cell_type": "code",
      "source": [
        "def evaluate_model(model, data_loader, device, iou_threshold=0.5):\n",
        "    model.eval()\n",
        "    total_acc = 0\n",
        "    total_images = 0\n",
        "\n",
        "    def compute_iou(pred_boxes, gt_boxes):\n",
        "        if len(gt_boxes) == 0:\n",
        "            return 1.0 if len(pred_boxes) == 0 else 0.0\n",
        "        if len(pred_boxes) == 0:\n",
        "            return 0.0\n",
        "        ious = box_iou(pred_boxes, gt_boxes)\n",
        "        matched_gt = set()\n",
        "        correct = 0\n",
        "        for i in range(len(pred_boxes)):\n",
        "            max_iou, max_j = ious[i].max(0)\n",
        "            if max_iou.item() > iou_threshold and max_j.item() not in matched_gt:\n",
        "                matched_gt.add(max_j.item())\n",
        "                correct += 1\n",
        "        return correct / len(gt_boxes)\n",
        "\n",
        "    with torch.no_grad():\n",
        "        for images, targets in tqdm(data_loader, desc=\"Evaluating\"):\n",
        "            images = [img.to(device) for img in images]\n",
        "            outputs = model(images)\n",
        "            for output, target in zip(outputs, targets):\n",
        "                pred_boxes = output[\"boxes\"].cpu()\n",
        "                gt_boxes = target[\"boxes\"].cpu()\n",
        "                acc = compute_iou(pred_boxes, gt_boxes)\n",
        "                total_acc += acc\n",
        "                total_images += 1\n",
        "\n",
        "    return total_acc / total_images if total_images > 0 else 0"
      ],
      "metadata": {
        "id": "UVpyS_5aRRCw"
      },
      "execution_count": null,
      "outputs": []
    },
    {
      "cell_type": "code",
      "source": [
        "train_losses = []\n",
        "val_losses = []\n",
        "best_loss = float('inf')\n",
        "counter = 0\n",
        "\n",
        "for epoch in range(NUM_EPOCHS):\n",
        "    model.train()\n",
        "    train_loss = train_one_epoch(model, optimizer, train_loader, device)\n",
        "    train_losses.append(train_loss)\n",
        "\n",
        "    val_loss = validate(model, val_loader, device)\n",
        "    val_losses.append(val_loss)\n",
        "\n",
        "    scheduler.step(val_loss)\n",
        "\n",
        "    print(f\"Epoch {epoch+1}/{NUM_EPOCHS} - \"\n",
        "          f\"Train Loss: {train_loss:.4f}, \"\n",
        "          f\"Val Loss: {val_loss:.4f}, \"\n",
        "          f\"LR: {optimizer.param_groups[0]['lr']:.6f}\")\n",
        "\n",
        "    if val_loss < best_loss:\n",
        "        best_loss = val_loss\n",
        "        counter = 0\n",
        "        torch.save(model.state_dict(), 'iti/Computer_Vision/Day02/best_model.pth')\n",
        "        print(\"Saved new best model\")\n",
        "    else:\n",
        "        counter += 1\n",
        "        print(f\"No improvement for {counter} epoch(s)\")\n",
        "\n",
        "    if counter >= patience:\n",
        "        print(f\"Early stopping triggered after {epoch+1} epochs.\")\n",
        "        break\n"
      ],
      "metadata": {
        "id": "ksjYJI7uRRFk"
      },
      "execution_count": null,
      "outputs": []
    },
    {
      "cell_type": "code",
      "source": [
        "def plot_losses(train_losses, val_losses):\n",
        "    plt.figure(figsize=(10, 5))\n",
        "    plt.plot(train_losses, label='Training Loss')\n",
        "    plt.plot(val_losses, label='Validation Loss')\n",
        "    plt.xlabel('Epochs')\n",
        "    plt.ylabel('Loss')\n",
        "    plt.title('Training and Validation Loss Curves')\n",
        "    plt.legend()\n",
        "    plt.grid(True)\n",
        "    plt.show()\n",
        "\n",
        "plot_losses(train_losses, val_losses)"
      ],
      "metadata": {
        "id": "G4wTITIFRPwO"
      },
      "execution_count": null,
      "outputs": []
    },
    {
      "cell_type": "code",
      "source": [
        "model.load_state_dict(torch.load(\"iti/Computer_Vision/Day02/best_model.pth\"))\n",
        "accuracy = evaluate_model(model, val_loader, device, IOU_THRESHOLD)\n",
        "print(f\"Model Accuracy (IoU > {IOU_THRESHOLD}): {accuracy:.4f}\")"
      ],
      "metadata": {
        "id": "mAU03u7luuXU"
      },
      "execution_count": null,
      "outputs": []
    },
    {
      "cell_type": "code",
      "source": [
        "def visualize_ground_truth(image_dir, label_dir, num_samples=5):\n",
        "    dataset = Load_Dataset(image_dir, label_dir, transforms=T.ToTensor())\n",
        "    for i in range(min(num_samples, len(dataset))):\n",
        "        img, target = dataset[i]\n",
        "        img = img.permute(1, 2, 0).numpy()\n",
        "\n",
        "        # Draw ground truth boxes\n",
        "        img_gt = img.copy()\n",
        "        for box in target['boxes']:\n",
        "            x1, y1, x2, y2 = map(int, box)\n",
        "            cv2.rectangle(img_gt, (x1, y1), (x2, y2), (0, 255, 0), 2)\n",
        "\n",
        "        plt.figure(figsize=(12, 6))\n",
        "        plt.subplot(1, 2, 1)\n",
        "        plt.imshow(img)\n",
        "        plt.title(\"Original Image\")\n",
        "        plt.axis('off')\n",
        "\n",
        "        plt.subplot(1, 2, 2)\n",
        "        plt.imshow(img_gt)\n",
        "        plt.title(\"Ground Truth Boxes\")\n",
        "        plt.axis('off')\n",
        "        plt.show()\n",
        "\n",
        "visualize_ground_truth(\"TestImages\", \"TestGroundTruth\")"
      ],
      "metadata": {
        "id": "oEYSq5cChQh6"
      },
      "execution_count": null,
      "outputs": []
    },
    {
      "cell_type": "code",
      "source": [
        "def visualize_predictions(model, image_dir, label_dir, num_images=5):\n",
        "    model.eval()\n",
        "    dataset = Load_Dataset(image_dir, label_dir, transforms=transform)\n",
        "\n",
        "    for i in range(min(num_images, len(dataset))):\n",
        "        img, target = dataset[i]\n",
        "        img_tensor = img.unsqueeze(0).to(device)\n",
        "\n",
        "        with torch.no_grad():\n",
        "            predictions = model(img_tensor)[0]\n",
        "\n",
        "        # Convert image for display\n",
        "        img_np = img.permute(1, 2, 0).cpu().numpy()\n",
        "        img_np = (img_np * np.array([0.229, 0.224, 0.225]) + np.array([0.485, 0.456, 0.406]))  # Unnormalize\n",
        "        img_np = np.clip(img_np, 0, 1)\n",
        "\n",
        "        # Create plot\n",
        "        plt.figure(figsize=(15, 6))\n",
        "\n",
        "        # Ground Truth\n",
        "        plt.subplot(1, 2, 1)\n",
        "        plt.imshow(img_np)\n",
        "        for box in target['boxes']:\n",
        "            x1, y1, x2, y2 = map(int, box)\n",
        "            cv2.rectangle(img_np, (x1, y1), (x2, y2), (0, 255, 0), 2)\n",
        "        plt.title(\"Ground Truth\")\n",
        "        plt.axis('off')\n",
        "\n",
        "        # Predictions\n",
        "        plt.subplot(1, 2, 2)\n",
        "        plt.imshow(img_np)\n",
        "        for box in predictions['boxes'].cpu().numpy():\n",
        "            x1, y1, x2, y2 = map(int, box)\n",
        "            cv2.rectangle(img_np, (x1, y1), (x2, y2), (255, 0, 0), 2)\n",
        "        plt.title(\"Predictions (Blue)\")\n",
        "        plt.axis('off')\n",
        "\n",
        "        plt.show()\n",
        "\n",
        "visualize_predictions(model, \"TestImages\", \"TestGroundTruth\")"
      ],
      "metadata": {
        "id": "obDDdhoxhWX6"
      },
      "execution_count": null,
      "outputs": []
    },
    {
      "cell_type": "code",
      "source": [
        "def visualize_predictions(model, image_dir, num_images=5):\n",
        "    model.eval()\n",
        "    image_files = sorted([f for f in os.listdir(image_dir) if f.endswith(('.jpg', '.png', '.tif'))])[num_images:2*num_images]\n",
        "\n",
        "    for img_name in image_files:\n",
        "        img_path = os.path.join(image_dir, img_name)\n",
        "        img = Image.open(img_path).convert(\"RGB\")\n",
        "        img_tensor = transform(img).unsqueeze(0).to(device)\n",
        "\n",
        "        with torch.no_grad():\n",
        "            prediction = model(img_tensor)\n",
        "\n",
        "        img_np = np.array(img)\n",
        "        for box in prediction[0]['boxes'].cpu().numpy():\n",
        "            x1, y1, x2, y2 = map(int, box)\n",
        "            cv2.rectangle(img_np, (x1, y1), (x2, y2), (0, 255, 0), 2)\n",
        "\n",
        "        plt.figure(figsize=(12, 8))\n",
        "        plt.imshow(img_np)\n",
        "        plt.axis('off')\n",
        "        plt.title(f'Predictions: {img_name}')\n",
        "        plt.show()\n",
        "\n",
        "visualize_predictions(model, \"iti/Computer_Vision/Day02/TestImages\")"
      ],
      "metadata": {
        "id": "8vd_CUoAkfYD"
      },
      "execution_count": null,
      "outputs": []
    }
  ]
}