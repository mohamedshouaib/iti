{
  "nbformat": 4,
  "nbformat_minor": 0,
  "metadata": {
    "colab": {
      "provenance": [],
      "gpuType": "T4",
      "authorship_tag": "ABX9TyO1X3ogm0AVuOAkRwOxIiPC",
      "include_colab_link": true
    },
    "kernelspec": {
      "name": "python3",
      "display_name": "Python 3"
    },
    "language_info": {
      "name": "python"
    },
    "accelerator": "GPU"
  },
  "cells": [
    {
      "cell_type": "markdown",
      "metadata": {
        "id": "view-in-github",
        "colab_type": "text"
      },
      "source": [
        "<a href=\"https://colab.research.google.com/github/mohamedshouaib/iti/blob/main/Computer_Vision%20/Day02/Faster_final2.ipynb\" target=\"_parent\"><img src=\"https://colab.research.google.com/assets/colab-badge.svg\" alt=\"Open In Colab\"/></a>"
      ]
    },
    {
      "cell_type": "code",
      "execution_count": 4,
      "metadata": {
        "colab": {
          "base_uri": "https://localhost:8080/"
        },
        "id": "31A3x_AzRFa3",
        "outputId": "7bbb3b5c-964f-46d7-b166-56a532f23268"
      },
      "outputs": [
        {
          "output_type": "stream",
          "name": "stdout",
          "text": [
            "Cloning into 'iti'...\n",
            "remote: Enumerating objects: 2426, done.\u001b[K\n",
            "remote: Counting objects: 100% (1735/1735), done.\u001b[K\n",
            "remote: Compressing objects: 100% (977/977), done.\u001b[K\n",
            "remote: Total 2426 (delta 132), reused 5 (delta 5), pack-reused 691 (from 2)\u001b[K\n",
            "Receiving objects: 100% (2426/2426), 124.28 MiB | 25.18 MiB/s, done.\n",
            "Resolving deltas: 100% (302/302), done.\n",
            "Updating files: 100% (1857/1857), done.\n"
          ]
        }
      ],
      "source": [
        "!git clone https://github.com/mohamedshouaib/iti.git\n",
        "!cd iti/Computer_Vision/Day02"
      ]
    },
    {
      "cell_type": "code",
      "source": [
        "import torch\n",
        "import torchvision.transforms as T\n",
        "import os\n",
        "import cv2\n",
        "import numpy as np\n",
        "from PIL import Image\n",
        "import matplotlib.pyplot as plt\n",
        "from torch.utils.data import Dataset, DataLoader\n",
        "from torchvision.models.detection import FasterRCNN\n",
        "from torchvision.models.detection.rpn import AnchorGenerator\n",
        "from torchvision.models import resnet50\n",
        "import torch.nn as nn\n",
        "from torchvision.ops import MultiScaleRoIAlign, box_iou\n",
        "import torch.optim as optim\n",
        "from tqdm import tqdm"
      ],
      "metadata": {
        "id": "et0IrQLTRPre"
      },
      "execution_count": 5,
      "outputs": []
    },
    {
      "cell_type": "code",
      "source": [
        "BATCH_SIZE = 2\n",
        "LEARNING_RATE = 0.001\n",
        "WEIGHT_DECAY = 0.0005\n",
        "NUM_EPOCHS = 25\n",
        "PATIENCE = 5\n",
        "ANCHOR_SIZES = ((32, 64, 128, 256, 512),)\n",
        "ASPECT_RATIOS = ((0.5, 1.0, 2.0),)\n",
        "IOU_THRESHOLD = 0.5"
      ],
      "metadata": {
        "id": "ne52Pb-njxnQ"
      },
      "execution_count": 6,
      "outputs": []
    },
    {
      "cell_type": "code",
      "source": [
        "class Load_Dataset(Dataset):\n",
        "    def __init__(self, image_dir, label_dir, transforms=None):\n",
        "        self.image_dir = image_dir\n",
        "        self.label_dir = label_dir\n",
        "        self.transforms = transforms\n",
        "\n",
        "        self.valid_samples = []\n",
        "        for img_name in sorted(os.listdir(image_dir)):\n",
        "            if not img_name.lower().endswith(('.jpg', '.png', '.jpeg', '.tif')):\n",
        "                continue\n",
        "\n",
        "            label_path = os.path.join(label_dir, os.path.splitext(img_name)[0] + \".txt\")\n",
        "            if not os.path.exists(label_path):\n",
        "                continue\n",
        "\n",
        "            with open(label_path, 'r') as f:\n",
        "                has_valid_boxes = False\n",
        "                for line in f:\n",
        "                    parts = line.strip().replace(\",\", \" \").split()\n",
        "                    if len(parts) == 4:\n",
        "                        x1, y1, x2, y2 = map(int, parts)\n",
        "                        if x2 > x1 and y2 > y1:\n",
        "                            has_valid_boxes = True\n",
        "                            break\n",
        "\n",
        "            if has_valid_boxes:\n",
        "                self.valid_samples.append(img_name)\n",
        "\n",
        "    def __len__(self):\n",
        "        return len(self.valid_samples)\n",
        "\n",
        "    def __getitem__(self, idx):\n",
        "        img_name = self.valid_samples[idx]\n",
        "        img_path = os.path.join(self.image_dir, img_name)\n",
        "        label_path = os.path.join(self.label_dir, os.path.splitext(img_name)[0] + \".txt\")\n",
        "\n",
        "        img = Image.open(img_path).convert(\"RGB\")\n",
        "\n",
        "        boxes = []\n",
        "        with open(label_path, 'r') as f:\n",
        "            for line in f:\n",
        "                parts = line.strip().replace(\",\", \" \").split()\n",
        "                if len(parts) == 4:\n",
        "                    x1, y1, x2, y2 = map(int, parts)\n",
        "                    if x2 > x1 and y2 > y1:\n",
        "                        boxes.append([x1, y1, x2, y2])\n",
        "\n",
        "        if self.transforms:\n",
        "            img = self.transforms(img)\n",
        "\n",
        "        boxes = torch.tensor(boxes, dtype=torch.float32)\n",
        "        labels = torch.ones((len(boxes),), dtype=torch.int64)\n",
        "        target = {'boxes': boxes, 'labels': labels}\n",
        "\n",
        "        return img, target"
      ],
      "metadata": {
        "id": "aUPGQx1BRQ3e"
      },
      "execution_count": 7,
      "outputs": []
    },
    {
      "cell_type": "code",
      "source": [
        "transform = T.Compose([\n",
        "    T.ToTensor(),\n",
        "    T.Normalize(mean=[0.485, 0.456, 0.406], std=[0.229, 0.224, 0.225])\n",
        "])\n",
        "\n",
        "train_dataset = Load_Dataset(\"iti/Computer_Vision/Day02/TrainImages\", \"iti/Computer_Vision/Day02/TrainGroundTruth\", transforms=transform)\n",
        "val_dataset = Load_Dataset(\"iti/Computer_Vision/Day02/TestImages\", \"iti/Computer_Vision/Day02/TestGroundTruth\", transforms=transform)\n",
        "\n",
        "print(f\"Train samples: {len(train_dataset)}\")\n",
        "print(f\"Validation samples: {len(val_dataset)}\")\n",
        "\n",
        "if len(train_dataset) == 0 or len(val_dataset) == 0:\n",
        "    raise ValueError(\"No valid training samples found. Check your data paths and label files.\")\n",
        "\n",
        "def collate_fn(batch):\n",
        "    return tuple(zip(*batch))\n",
        "\n",
        "train_loader = DataLoader(train_dataset, batch_size=BATCH_SIZE, shuffle=True, collate_fn=collate_fn, num_workers=2)\n",
        "val_loader = DataLoader(val_dataset, batch_size=BATCH_SIZE, shuffle=False, collate_fn=collate_fn, num_workers=2)"
      ],
      "metadata": {
        "colab": {
          "base_uri": "https://localhost:8080/"
        },
        "id": "fb1Adl8DRQ5r",
        "outputId": "a75826a7-6e00-49df-c749-7588266f4601"
      },
      "execution_count": 8,
      "outputs": [
        {
          "output_type": "stream",
          "name": "stdout",
          "text": [
            "Train samples: 660\n",
            "Validation samples: 115\n"
          ]
        }
      ]
    },
    {
      "cell_type": "code",
      "source": [
        "class MyFasterRCNN(nn.Module):\n",
        "    def __init__(self, num_classes=2):\n",
        "        super().__init__()\n",
        "        backbone = resnet50(weights=None)\n",
        "        self.backbone = nn.Sequential(*list(backbone.children())[:-2])\n",
        "        self.backbone.out_channels = 2048\n",
        "\n",
        "        anchor_generator = AnchorGenerator(\n",
        "            sizes=ANCHOR_SIZES,\n",
        "            aspect_ratios=ASPECT_RATIOS\n",
        "        )\n",
        "\n",
        "        roi_pooler = MultiScaleRoIAlign(\n",
        "            featmap_names=['0'],\n",
        "            output_size=7,\n",
        "            sampling_ratio=2\n",
        "        )\n",
        "\n",
        "        self.model = FasterRCNN(\n",
        "            backbone=self.backbone,\n",
        "            num_classes=num_classes,\n",
        "            rpn_anchor_generator=anchor_generator,\n",
        "            box_roi_pool=roi_pooler\n",
        "        )\n",
        "\n",
        "    def forward(self, images, targets=None):\n",
        "        return self.model(images, targets)\n",
        "\n",
        "\n",
        "device = torch.device(\"cuda\" if torch.cuda.is_available() else \"cpu\")\n",
        "model = MyFasterRCNN().to(device)\n",
        "optimizer = optim.AdamW(model.parameters(), lr=LEARNING_RATE, weight_decay=WEIGHT_DECAY)\n",
        "scheduler = optim.lr_scheduler.ReduceLROnPlateau(optimizer, mode='min', factor=0.1, patience=3)"
      ],
      "metadata": {
        "id": "U30QzF8PRQ8E"
      },
      "execution_count": 9,
      "outputs": []
    },
    {
      "cell_type": "code",
      "source": [
        "def train_one_epoch(model, optimizer, data_loader, device):\n",
        "    model.train()\n",
        "    total_loss = 0\n",
        "    for images, targets in tqdm(data_loader, desc=\"Training\"):\n",
        "        images = [img.to(device) for img in images]\n",
        "        targets = [{k: v.to(device) for k, v in t.items()} for t in targets]\n",
        "\n",
        "        optimizer.zero_grad()\n",
        "        loss_dict = model(images, targets)\n",
        "        losses = sum(loss for loss in loss_dict.values())\n",
        "        losses.backward()\n",
        "        optimizer.step()\n",
        "        total_loss += losses.item()\n",
        "    return total_loss / len(data_loader)\n"
      ],
      "metadata": {
        "id": "L3_f9XHHRQ-T"
      },
      "execution_count": 7,
      "outputs": []
    },
    {
      "cell_type": "code",
      "source": [
        "def validate(model, data_loader, device):\n",
        "    model.train()\n",
        "    val_loss = 0\n",
        "    with torch.no_grad():\n",
        "        for images, targets in tqdm(data_loader, desc=\"Validating\"):\n",
        "            if not images or not targets:\n",
        "                continue\n",
        "\n",
        "            images = [img.to(device) for img in images]\n",
        "            targets = [{k: v.to(device) for k, v in t.items()} for t in targets]\n",
        "\n",
        "            loss_dict = model(images, targets)\n",
        "\n",
        "            losses = sum(loss for loss in loss_dict.values())\n",
        "            val_loss += losses.item()\n",
        "\n",
        "    model.eval()\n",
        "    return val_loss / len(data_loader) if len(data_loader) > 0 else 0\n"
      ],
      "metadata": {
        "id": "eqd_L95BRRAw"
      },
      "execution_count": 8,
      "outputs": []
    },
    {
      "cell_type": "code",
      "source": [
        "def evaluate_model(model, data_loader, device, iou_threshold=0.5):\n",
        "    model.eval()\n",
        "    total_acc = 0\n",
        "    total_images = 0\n",
        "\n",
        "    def compute_iou(pred_boxes, gt_boxes):\n",
        "        if len(gt_boxes) == 0:\n",
        "            return 1.0 if len(pred_boxes) == 0 else 0.0\n",
        "        if len(pred_boxes) == 0:\n",
        "            return 0.0\n",
        "        ious = box_iou(pred_boxes, gt_boxes)\n",
        "        matched_gt = set()\n",
        "        correct = 0\n",
        "        for i in range(len(pred_boxes)):\n",
        "            max_iou, max_j = ious[i].max(0)\n",
        "            if max_iou.item() > iou_threshold and max_j.item() not in matched_gt:\n",
        "                matched_gt.add(max_j.item())\n",
        "                correct += 1\n",
        "        return correct / len(gt_boxes)\n",
        "\n",
        "    with torch.no_grad():\n",
        "        for images, targets in tqdm(data_loader, desc=\"Evaluating\"):\n",
        "            images = [img.to(device) for img in images]\n",
        "            outputs = model(images)\n",
        "            for output, target in zip(outputs, targets):\n",
        "                pred_boxes = output[\"boxes\"].cpu()\n",
        "                gt_boxes = target[\"boxes\"].cpu()\n",
        "                acc = compute_iou(pred_boxes, gt_boxes)\n",
        "                total_acc += acc\n",
        "                total_images += 1\n",
        "\n",
        "    return total_acc / total_images if total_images > 0 else 0"
      ],
      "metadata": {
        "id": "UVpyS_5aRRCw"
      },
      "execution_count": 9,
      "outputs": []
    },
    {
      "cell_type": "code",
      "source": [
        "train_losses = []\n",
        "val_losses = []\n",
        "best_loss = float('inf')\n",
        "patience = 3\n",
        "counter = 0\n",
        "\n",
        "for epoch in range(NUM_EPOCHS):\n",
        "    model.train()\n",
        "    train_loss = train_one_epoch(model, optimizer, train_loader, device)\n",
        "    train_losses.append(train_loss)\n",
        "\n",
        "    val_loss = validate(model, val_loader, device)\n",
        "    val_losses.append(val_loss)\n",
        "\n",
        "    scheduler.step(val_loss)\n",
        "\n",
        "    print(f\"Epoch {epoch+1}/{NUM_EPOCHS} - \"\n",
        "          f\"Train Loss: {train_loss:.4f}, \"\n",
        "          f\"Val Loss: {val_loss:.4f}, \"\n",
        "          f\"LR: {optimizer.param_groups[0]['lr']:.6f}\")\n",
        "\n",
        "    if val_loss < best_loss:\n",
        "        best_loss = val_loss\n",
        "        counter = 0\n",
        "        torch.save(model.state_dict(), 'iti/Computer_Vision/Day02/best_model.pth')\n",
        "        print(\"Saved new best model\")\n",
        "    else:\n",
        "        counter += 1\n",
        "        print(f\"No improvement for {counter} epoch(s)\")\n",
        "\n",
        "    if counter >= patience:\n",
        "        print(f\"Early stopping triggered after {epoch+1} epochs.\")\n",
        "        break\n"
      ],
      "metadata": {
        "colab": {
          "base_uri": "https://localhost:8080/"
        },
        "id": "ksjYJI7uRRFk",
        "outputId": "8ab784c5-085e-4d59-ae92-772853a36bc1"
      },
      "execution_count": 10,
      "outputs": [
        {
          "output_type": "stream",
          "name": "stderr",
          "text": [
            "Training: 100%|██████████| 330/330 [03:41<00:00,  1.49it/s]\n",
            "Validating: 100%|██████████| 58/58 [00:12<00:00,  4.52it/s]\n"
          ]
        },
        {
          "output_type": "stream",
          "name": "stdout",
          "text": [
            "Epoch 1/25 - Train Loss: 0.2708, Val Loss: 0.0732, LR: 0.001000\n",
            "Saved new best model\n"
          ]
        },
        {
          "output_type": "stream",
          "name": "stderr",
          "text": [
            "Training: 100%|██████████| 330/330 [03:41<00:00,  1.49it/s]\n",
            "Validating: 100%|██████████| 58/58 [00:12<00:00,  4.47it/s]\n"
          ]
        },
        {
          "output_type": "stream",
          "name": "stdout",
          "text": [
            "Epoch 2/25 - Train Loss: 0.0718, Val Loss: 0.0665, LR: 0.001000\n",
            "Saved new best model\n"
          ]
        },
        {
          "output_type": "stream",
          "name": "stderr",
          "text": [
            "Training: 100%|██████████| 330/330 [03:41<00:00,  1.49it/s]\n",
            "Validating: 100%|██████████| 58/58 [00:12<00:00,  4.50it/s]\n"
          ]
        },
        {
          "output_type": "stream",
          "name": "stdout",
          "text": [
            "Epoch 3/25 - Train Loss: 0.0601, Val Loss: 0.0568, LR: 0.001000\n",
            "Saved new best model\n"
          ]
        },
        {
          "output_type": "stream",
          "name": "stderr",
          "text": [
            "Training: 100%|██████████| 330/330 [03:41<00:00,  1.49it/s]\n",
            "Validating: 100%|██████████| 58/58 [00:13<00:00,  4.41it/s]\n"
          ]
        },
        {
          "output_type": "stream",
          "name": "stdout",
          "text": [
            "Epoch 4/25 - Train Loss: 0.0559, Val Loss: 0.0518, LR: 0.001000\n",
            "Saved new best model\n"
          ]
        },
        {
          "output_type": "stream",
          "name": "stderr",
          "text": [
            "Training: 100%|██████████| 330/330 [03:42<00:00,  1.48it/s]\n",
            "Validating: 100%|██████████| 58/58 [00:12<00:00,  4.48it/s]\n"
          ]
        },
        {
          "output_type": "stream",
          "name": "stdout",
          "text": [
            "Epoch 5/25 - Train Loss: 0.0547, Val Loss: 0.0502, LR: 0.001000\n",
            "Saved new best model\n"
          ]
        },
        {
          "output_type": "stream",
          "name": "stderr",
          "text": [
            "Training: 100%|██████████| 330/330 [03:42<00:00,  1.48it/s]\n",
            "Validating: 100%|██████████| 58/58 [00:12<00:00,  4.46it/s]\n"
          ]
        },
        {
          "output_type": "stream",
          "name": "stdout",
          "text": [
            "Epoch 6/25 - Train Loss: 0.0548, Val Loss: 0.0512, LR: 0.001000\n",
            "No improvement for 1 epoch(s)\n"
          ]
        },
        {
          "output_type": "stream",
          "name": "stderr",
          "text": [
            "Training: 100%|██████████| 330/330 [03:41<00:00,  1.49it/s]\n",
            "Validating: 100%|██████████| 58/58 [00:12<00:00,  4.47it/s]\n"
          ]
        },
        {
          "output_type": "stream",
          "name": "stdout",
          "text": [
            "Epoch 7/25 - Train Loss: 0.0486, Val Loss: 0.0488, LR: 0.001000\n",
            "Saved new best model\n"
          ]
        },
        {
          "output_type": "stream",
          "name": "stderr",
          "text": [
            "Training: 100%|██████████| 330/330 [03:42<00:00,  1.49it/s]\n",
            "Validating: 100%|██████████| 58/58 [00:12<00:00,  4.47it/s]\n"
          ]
        },
        {
          "output_type": "stream",
          "name": "stdout",
          "text": [
            "Epoch 8/25 - Train Loss: 0.0460, Val Loss: 0.0478, LR: 0.001000\n",
            "Saved new best model\n"
          ]
        },
        {
          "output_type": "stream",
          "name": "stderr",
          "text": [
            "Training: 100%|██████████| 330/330 [03:40<00:00,  1.50it/s]\n",
            "Validating: 100%|██████████| 58/58 [00:12<00:00,  4.53it/s]\n"
          ]
        },
        {
          "output_type": "stream",
          "name": "stdout",
          "text": [
            "Epoch 9/25 - Train Loss: 0.2018, Val Loss: 0.0884, LR: 0.001000\n",
            "No improvement for 1 epoch(s)\n"
          ]
        },
        {
          "output_type": "stream",
          "name": "stderr",
          "text": [
            "Training: 100%|██████████| 330/330 [03:34<00:00,  1.54it/s]\n",
            "Validating: 100%|██████████| 58/58 [00:12<00:00,  4.58it/s]\n"
          ]
        },
        {
          "output_type": "stream",
          "name": "stdout",
          "text": [
            "Epoch 10/25 - Train Loss: 0.4605, Val Loss: 0.0895, LR: 0.001000\n",
            "No improvement for 2 epoch(s)\n"
          ]
        },
        {
          "output_type": "stream",
          "name": "stderr",
          "text": [
            "Training: 100%|██████████| 330/330 [03:33<00:00,  1.55it/s]\n",
            "Validating: 100%|██████████| 58/58 [00:12<00:00,  4.56it/s]"
          ]
        },
        {
          "output_type": "stream",
          "name": "stdout",
          "text": [
            "Epoch 11/25 - Train Loss: 0.3767, Val Loss: 0.0783, LR: 0.001000\n",
            "No improvement for 3 epoch(s)\n",
            "Early stopping triggered after 11 epochs.\n"
          ]
        },
        {
          "output_type": "stream",
          "name": "stderr",
          "text": [
            "\n"
          ]
        }
      ]
    },
    {
      "cell_type": "code",
      "source": [
        "def plot_losses(train_losses, val_losses):\n",
        "    plt.figure(figsize=(10, 5))\n",
        "    plt.plot(train_losses, label='Training Loss')\n",
        "    plt.plot(val_losses, label='Validation Loss')\n",
        "    plt.xlabel('Epochs')\n",
        "    plt.ylabel('Loss')\n",
        "    plt.title('Training and Validation Loss Curves')\n",
        "    plt.legend()\n",
        "    plt.grid(True)\n",
        "    plt.show()\n",
        "\n",
        "plot_losses(train_losses, val_losses)"
      ],
      "metadata": {
        "colab": {
          "base_uri": "https://localhost:8080/",
          "height": 487
        },
        "id": "G4wTITIFRPwO",
        "outputId": "cfa22827-147f-4bb5-e038-d6d466a5efd1"
      },
      "execution_count": 11,
      "outputs": [
        {
          "output_type": "display_data",
          "data": {
            "text/plain": [
              "<Figure size 1000x500 with 1 Axes>"
            ],
            "image/png": "[encoded data removed]"
          },
          "metadata": {}
        }
      ]
    },
    {
      "cell_type": "code",
      "source": [
        "model.load_state_dict(torch.load(\"iti/Computer_Vision/Day02/best_model.pth\"))\n",
        "accuracy = evaluate_model(model, val_loader, device, IOU_THRESHOLD)\n",
        "print(f\"Model Accuracy (IoU > {IOU_THRESHOLD}): {accuracy:.4f}\")"
      ],
      "metadata": {
        "colab": {
          "base_uri": "https://localhost:8080/",
          "height": 338
        },
        "id": "mAU03u7luuXU",
        "outputId": "753aa7be-b228-47e0-e0a3-c07ace284d76"
      },
      "execution_count": 10,
      "outputs": [
        {
          "output_type": "error",
          "ename": "FileNotFoundError",
          "evalue": "[Errno 2] No such file or directory: 'iti/Computer_Vision/Day02/best_model.pth'",
          "traceback": [
            "\u001b[0;31m---------------------------------------------------------------------------\u001b[0m",
            "\u001b[0;31mFileNotFoundError\u001b[0m                         Traceback (most recent call last)",
            "\u001b[0;32m<ipython-input-10-fb51f8a9c9a6>\u001b[0m in \u001b[0;36m<cell line: 0>\u001b[0;34m()\u001b[0m\n\u001b[0;32m----> 1\u001b[0;31m \u001b[0mmodel\u001b[0m\u001b[0;34m.\u001b[0m\u001b[0mload_state_dict\u001b[0m\u001b[0;34m(\u001b[0m\u001b[0mtorch\u001b[0m\u001b[0;34m.\u001b[0m\u001b[0mload\u001b[0m\u001b[0;34m(\u001b[0m\u001b[0;34m\"iti/Computer_Vision/Day02/best_model.pth\"\u001b[0m\u001b[0;34m)\u001b[0m\u001b[0;34m)\u001b[0m\u001b[0;34m\u001b[0m\u001b[0;34m\u001b[0m\u001b[0m\n\u001b[0m\u001b[1;32m      2\u001b[0m \u001b[0maccuracy\u001b[0m \u001b[0;34m=\u001b[0m \u001b[0mevaluate_model\u001b[0m\u001b[0;34m(\u001b[0m\u001b[0mmodel\u001b[0m\u001b[0;34m,\u001b[0m \u001b[0mval_loader\u001b[0m\u001b[0;34m,\u001b[0m \u001b[0mdevice\u001b[0m\u001b[0;34m,\u001b[0m \u001b[0mIOU_THRESHOLD\u001b[0m\u001b[0;34m)\u001b[0m\u001b[0;34m\u001b[0m\u001b[0;34m\u001b[0m\u001b[0m\n\u001b[1;32m      3\u001b[0m \u001b[0mprint\u001b[0m\u001b[0;34m(\u001b[0m\u001b[0;34mf\"Model Accuracy (IoU > {IOU_THRESHOLD}): {accuracy:.4f}\"\u001b[0m\u001b[0;34m)\u001b[0m\u001b[0;34m\u001b[0m\u001b[0;34m\u001b[0m\u001b[0m\n",
            "\u001b[0;32m/usr/local/lib/python3.11/dist-packages/torch/serialization.py\u001b[0m in \u001b[0;36mload\u001b[0;34m(f, map_location, pickle_module, weights_only, mmap, **pickle_load_args)\u001b[0m\n\u001b[1;32m   1423\u001b[0m         \u001b[0mpickle_load_args\u001b[0m\u001b[0;34m[\u001b[0m\u001b[0;34m\"encoding\"\u001b[0m\u001b[0;34m]\u001b[0m \u001b[0;34m=\u001b[0m \u001b[0;34m\"utf-8\"\u001b[0m\u001b[0;34m\u001b[0m\u001b[0;34m\u001b[0m\u001b[0m\n\u001b[1;32m   1424\u001b[0m \u001b[0;34m\u001b[0m\u001b[0m\n\u001b[0;32m-> 1425\u001b[0;31m     \u001b[0;32mwith\u001b[0m \u001b[0m_open_file_like\u001b[0m\u001b[0;34m(\u001b[0m\u001b[0mf\u001b[0m\u001b[0;34m,\u001b[0m \u001b[0;34m\"rb\"\u001b[0m\u001b[0;34m)\u001b[0m \u001b[0;32mas\u001b[0m \u001b[0mopened_file\u001b[0m\u001b[0;34m:\u001b[0m\u001b[0;34m\u001b[0m\u001b[0;34m\u001b[0m\u001b[0m\n\u001b[0m\u001b[1;32m   1426\u001b[0m         \u001b[0;32mif\u001b[0m \u001b[0m_is_zipfile\u001b[0m\u001b[0;34m(\u001b[0m\u001b[0mopened_file\u001b[0m\u001b[0;34m)\u001b[0m\u001b[0;34m:\u001b[0m\u001b[0;34m\u001b[0m\u001b[0;34m\u001b[0m\u001b[0m\n\u001b[1;32m   1427\u001b[0m             \u001b[0;31m# The zipfile reader is going to advance the current file position.\u001b[0m\u001b[0;34m\u001b[0m\u001b[0;34m\u001b[0m\u001b[0m\n",
            "\u001b[0;32m/usr/local/lib/python3.11/dist-packages/torch/serialization.py\u001b[0m in \u001b[0;36m_open_file_like\u001b[0;34m(name_or_buffer, mode)\u001b[0m\n\u001b[1;32m    749\u001b[0m \u001b[0;32mdef\u001b[0m \u001b[0m_open_file_like\u001b[0m\u001b[0;34m(\u001b[0m\u001b[0mname_or_buffer\u001b[0m\u001b[0;34m,\u001b[0m \u001b[0mmode\u001b[0m\u001b[0;34m)\u001b[0m\u001b[0;34m:\u001b[0m\u001b[0;34m\u001b[0m\u001b[0;34m\u001b[0m\u001b[0m\n\u001b[1;32m    750\u001b[0m     \u001b[0;32mif\u001b[0m \u001b[0m_is_path\u001b[0m\u001b[0;34m(\u001b[0m\u001b[0mname_or_buffer\u001b[0m\u001b[0;34m)\u001b[0m\u001b[0;34m:\u001b[0m\u001b[0;34m\u001b[0m\u001b[0;34m\u001b[0m\u001b[0m\n\u001b[0;32m--> 751\u001b[0;31m         \u001b[0;32mreturn\u001b[0m \u001b[0m_open_file\u001b[0m\u001b[0;34m(\u001b[0m\u001b[0mname_or_buffer\u001b[0m\u001b[0;34m,\u001b[0m \u001b[0mmode\u001b[0m\u001b[0;34m)\u001b[0m\u001b[0;34m\u001b[0m\u001b[0;34m\u001b[0m\u001b[0m\n\u001b[0m\u001b[1;32m    752\u001b[0m     \u001b[0;32melse\u001b[0m\u001b[0;34m:\u001b[0m\u001b[0;34m\u001b[0m\u001b[0;34m\u001b[0m\u001b[0m\n\u001b[1;32m    753\u001b[0m         \u001b[0;32mif\u001b[0m \u001b[0;34m\"w\"\u001b[0m \u001b[0;32min\u001b[0m \u001b[0mmode\u001b[0m\u001b[0;34m:\u001b[0m\u001b[0;34m\u001b[0m\u001b[0;34m\u001b[0m\u001b[0m\n",
            "\u001b[0;32m/usr/local/lib/python3.11/dist-packages/torch/serialization.py\u001b[0m in \u001b[0;36m__init__\u001b[0;34m(self, name, mode)\u001b[0m\n\u001b[1;32m    730\u001b[0m \u001b[0;32mclass\u001b[0m \u001b[0m_open_file\u001b[0m\u001b[0;34m(\u001b[0m\u001b[0m_opener\u001b[0m\u001b[0;34m)\u001b[0m\u001b[0;34m:\u001b[0m\u001b[0;34m\u001b[0m\u001b[0;34m\u001b[0m\u001b[0m\n\u001b[1;32m    731\u001b[0m     \u001b[0;32mdef\u001b[0m \u001b[0m__init__\u001b[0m\u001b[0;34m(\u001b[0m\u001b[0mself\u001b[0m\u001b[0;34m,\u001b[0m \u001b[0mname\u001b[0m\u001b[0;34m,\u001b[0m \u001b[0mmode\u001b[0m\u001b[0;34m)\u001b[0m\u001b[0;34m:\u001b[0m\u001b[0;34m\u001b[0m\u001b[0;34m\u001b[0m\u001b[0m\n\u001b[0;32m--> 732\u001b[0;31m         \u001b[0msuper\u001b[0m\u001b[0;34m(\u001b[0m\u001b[0;34m)\u001b[0m\u001b[0;34m.\u001b[0m\u001b[0m__init__\u001b[0m\u001b[0;34m(\u001b[0m\u001b[0mopen\u001b[0m\u001b[0;34m(\u001b[0m\u001b[0mname\u001b[0m\u001b[0;34m,\u001b[0m \u001b[0mmode\u001b[0m\u001b[0;34m)\u001b[0m\u001b[0;34m)\u001b[0m\u001b[0;34m\u001b[0m\u001b[0;34m\u001b[0m\u001b[0m\n\u001b[0m\u001b[1;32m    733\u001b[0m \u001b[0;34m\u001b[0m\u001b[0m\n\u001b[1;32m    734\u001b[0m     \u001b[0;32mdef\u001b[0m \u001b[0m__exit__\u001b[0m\u001b[0;34m(\u001b[0m\u001b[0mself\u001b[0m\u001b[0;34m,\u001b[0m \u001b[0;34m*\u001b[0m\u001b[0margs\u001b[0m\u001b[0;34m)\u001b[0m\u001b[0;34m:\u001b[0m\u001b[0;34m\u001b[0m\u001b[0;34m\u001b[0m\u001b[0m\n",
            "\u001b[0;31mFileNotFoundError\u001b[0m: [Errno 2] No such file or directory: 'iti/Computer_Vision/Day02/best_model.pth'"
          ]
        }
      ]
    },
    {
      "cell_type": "code",
      "source": [
        "def visualize_predictions(model, image_dir, num_images=5):\n",
        "    model.eval()\n",
        "    image_files = sorted([f for f in os.listdir(image_dir) if f.endswith(('.jpg', '.png', '.tif'))])[num_images:2*num_images]\n",
        "\n",
        "    for img_name in image_files:\n",
        "        img_path = os.path.join(image_dir, img_name)\n",
        "        img = Image.open(img_path).convert(\"RGB\")\n",
        "        img_tensor = transform(img).unsqueeze(0).to(device)\n",
        "\n",
        "        with torch.no_grad():\n",
        "            prediction = model(img_tensor)\n",
        "\n",
        "        img_np = np.array(img)\n",
        "        for box in prediction[0]['boxes'].cpu().numpy():\n",
        "            x1, y1, x2, y2 = map(int, box)\n",
        "            cv2.rectangle(img_np, (x1, y1), (x2, y2), (0, 255, 0), 2)\n",
        "\n",
        "        plt.figure(figsize=(12, 8))\n",
        "        plt.imshow(img_np)\n",
        "        plt.axis('off')\n",
        "        plt.title(f'Predictions: {img_name}')\n",
        "        plt.show()\n",
        "\n",
        "visualize_predictions(model, \"iti/Computer_Vision/Day02/TestImages\")"
      ],
      "metadata": {
        "colab": {
          "base_uri": "https://localhost:8080/",
          "height": 185
        },
        "id": "8vd_CUoAkfYD",
        "outputId": "531b9aca-af4a-49d0-8ef2-42892178369c"
      },
      "execution_count": 1,
      "outputs": [
        {
          "output_type": "error",
          "ename": "NameError",
          "evalue": "name 'model' is not defined",
          "traceback": [
            "\u001b[0;31m---------------------------------------------------------------------------\u001b[0m",
            "\u001b[0;31mNameError\u001b[0m                                 Traceback (most recent call last)",
            "\u001b[0;32m<ipython-input-1-1b04e2e0f592>\u001b[0m in \u001b[0;36m<cell line: 0>\u001b[0;34m()\u001b[0m\n\u001b[1;32m     22\u001b[0m         \u001b[0mplt\u001b[0m\u001b[0;34m.\u001b[0m\u001b[0mshow\u001b[0m\u001b[0;34m(\u001b[0m\u001b[0;34m)\u001b[0m\u001b[0;34m\u001b[0m\u001b[0;34m\u001b[0m\u001b[0m\n\u001b[1;32m     23\u001b[0m \u001b[0;34m\u001b[0m\u001b[0m\n\u001b[0;32m---> 24\u001b[0;31m \u001b[0mvisualize_predictions\u001b[0m\u001b[0;34m(\u001b[0m\u001b[0mmodel\u001b[0m\u001b[0;34m,\u001b[0m \u001b[0;34m\"iti/Computer_Vision/Day02/TestImages\"\u001b[0m\u001b[0;34m)\u001b[0m\u001b[0;34m\u001b[0m\u001b[0;34m\u001b[0m\u001b[0m\n\u001b[0m",
            "\u001b[0;31mNameError\u001b[0m: name 'model' is not defined"
          ]
        }
      ]
    }
  ]
}