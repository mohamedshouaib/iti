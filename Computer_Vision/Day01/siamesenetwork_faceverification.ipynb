{
  "cells": [
    {
      "cell_type": "markdown",
      "metadata": {
        "id": "view-in-github",
        "colab_type": "text"
      },
      "source": [
        "<a href=\"https://colab.research.google.com/github/mohamedshouaib/iti/blob/main/Computer_Vision/Day01/siamesenetwork_faceverification.ipynb\" target=\"_parent\"><img src=\"https://colab.research.google.com/assets/colab-badge.svg\" alt=\"Open In Colab\"/></a>"
      ]
    },
    {
      "cell_type": "code",
      "execution_count": 1,
      "metadata": {
        "execution": {
          "iopub.execute_input": "2022-04-02T08:35:02.563543Z",
          "iopub.status.busy": "2022-04-02T08:35:02.563198Z",
          "iopub.status.idle": "2022-04-02T08:35:08.798471Z",
          "shell.execute_reply": "2022-04-02T08:35:08.797717Z",
          "shell.execute_reply.started": "2022-04-02T08:35:02.563479Z"
        },
        "id": "E_Qf6ev236Hm",
        "outputId": "d812084b-b798-4495-9d5f-11a0efb90a6d",
        "colab": {
          "base_uri": "https://localhost:8080/"
        }
      },
      "outputs": [
        {
          "output_type": "stream",
          "name": "stdout",
          "text": [
            "Cloning into 'iti'...\n",
            "remote: Enumerating objects: 638, done.\u001b[K\n",
            "remote: Counting objects: 100% (423/423), done.\u001b[K\n",
            "remote: Compressing objects: 100% (414/414), done.\u001b[K\n",
            "remote: Total 638 (delta 73), reused 0 (delta 0), pack-reused 215 (from 1)\u001b[K\n",
            "Receiving objects: 100% (638/638), 26.68 MiB | 8.30 MiB/s, done.\n",
            "Resolving deltas: 100% (145/145), done.\n",
            "Updating files: 100% (294/294), done.\n"
          ]
        }
      ],
      "source": [
        "!git clone https://github.com/mohamedshouaib/iti.git\n",
        "!cd iti/Computer_Vision/Day01/Siamese"
      ]
    },
    {
      "cell_type": "code",
      "source": [
        "import os\n",
        "import cv2\n",
        "import csv\n",
        "import time\n",
        "import random\n",
        "import numpy as np\n",
        "from google.colab.patches import cv2_imshow\n",
        "from itertools import combinations\n",
        "import tensorflow as tf\n",
        "from tensorflow.keras.applications.inception_v3 import preprocess_input\n",
        "from tensorflow.keras import layers, models, backend as K\n",
        "\n",
        "\n",
        "import seaborn as sns\n",
        "import matplotlib.pyplot as plt\n",
        "tf.__version__, np.__version__"
      ],
      "metadata": {
        "id": "2_U5_fzuAD0b",
        "outputId": "92a87f29-8215-4a7f-9f0f-1837de104b74",
        "colab": {
          "base_uri": "https://localhost:8080/"
        }
      },
      "execution_count": 90,
      "outputs": [
        {
          "output_type": "execute_result",
          "data": {
            "text/plain": [
              "('2.18.0', '2.0.2')"
            ]
          },
          "metadata": {},
          "execution_count": 90
        }
      ]
    },
    {
      "cell_type": "code",
      "source": [
        "def load_dataset(base_path=\"iti/Computer_Vision/Day01/Siamese\"):\n",
        "    data = {'train': {}, 'test': {}}\n",
        "\n",
        "    for person in os.listdir(base_path):\n",
        "        person_path = os.path.join(base_path, person)\n",
        "        if not os.path.isdir(person_path):\n",
        "            continue\n",
        "\n",
        "        for split in ['Train', 'Test']:\n",
        "            split_path = os.path.join(person_path, split)\n",
        "            if not os.path.exists(split_path):\n",
        "                print(f\"Missing {split} folder for {person}\")\n",
        "                continue\n",
        "\n",
        "            # Find ANY CSV file\n",
        "            csv_files = [f for f in os.listdir(split_path) if f.endswith('.csv')]\n",
        "            if not csv_files:\n",
        "                print(f\"No CSV found in {split_path}\")\n",
        "                continue\n",
        "\n",
        "            csv_path = os.path.join(split_path, csv_files[0])\n",
        "\n",
        "            genuine = []\n",
        "            forged = []\n",
        "\n",
        "            with open(csv_path, 'r') as f:\n",
        "                # Try different delimiters and column names\n",
        "                try:\n",
        "                    reader = csv.DictReader(f)\n",
        "                    row = next(reader)  # Peek first row\n",
        "\n",
        "                    # Detect column names\n",
        "                    img_col = None\n",
        "                    label_col = None\n",
        "\n",
        "                    for col in row.keys():\n",
        "                        col_lower = col.lower()\n",
        "                        if 'image' in col_lower or 'name' in col_lower:\n",
        "                            img_col = col\n",
        "                        elif 'label' in col_lower or 'class' in col_lower:\n",
        "                            label_col = col\n",
        "\n",
        "                    if not img_col or not label_col:\n",
        "                        raise ValueError(\"Couldn't detect required columns\")\n",
        "\n",
        "                    # Reset reader\n",
        "                    f.seek(0)\n",
        "                    next(reader)  # Skip header\n",
        "\n",
        "                    for row in reader:\n",
        "                        img_name = row[img_col].strip()\n",
        "                        img_path = os.path.join(split_path, img_name)\n",
        "\n",
        "                        if not os.path.exists(img_path):\n",
        "                            print(f\"Missing image: {img_path}\")\n",
        "                            continue\n",
        "\n",
        "                        label = row[label_col].strip().lower()\n",
        "                        if label == 'real' or label == 'genuine':\n",
        "                            genuine.append(img_path)\n",
        "                        elif label == 'forged' or label == 'fake':\n",
        "                            forged.append(img_path)\n",
        "\n",
        "                except Exception as e:\n",
        "                    print(f\"Error reading {csv_path}: {str(e)}\")\n",
        "                    continue\n",
        "\n",
        "            if genuine or forged:  # Only add if we found data\n",
        "                data[split.lower()][person] = {\n",
        "                    'genuine': genuine,\n",
        "                    'forged': forged\n",
        "                }\n",
        "\n",
        "    return data['train'], data['test']\n",
        "\n",
        "# Test with debug info\n",
        "print(\"Checking folder structure...\")\n",
        "base_path = \"iti/Computer_Vision/Day01/Siamese\"\n",
        "print(f\"Root contents: {os.listdir(base_path)}\")\n",
        "sample_person = os.listdir(base_path)[0]\n",
        "print(f\"Sample person contents: {os.listdir(os.path.join(base_path, sample_person))}\")\n",
        "\n",
        "train_data, test_data = load_dataset(base_path)\n",
        "\n",
        "print(\"\\nLoaded successfully!\")\n",
        "print(f\"Persons in train: {list(train_data.keys())}\")\n",
        "print(f\"Persons in test: {list(test_data.keys())}\")"
      ],
      "metadata": {
        "id": "e47yhiSxIHIl",
        "outputId": "1b1c9cb3-557f-4da0-a8f2-366055163c9b",
        "colab": {
          "base_uri": "https://localhost:8080/"
        }
      },
      "execution_count": 71,
      "outputs": [
        {
          "output_type": "stream",
          "name": "stdout",
          "text": [
            "Checking folder structure...\n",
            "Root contents: ['personA', 'personD', 'personB', 'personC', 'personE']\n",
            "Sample person contents: ['Train', 'Test']\n",
            "\n",
            "Loaded successfully!\n",
            "Persons in train: ['personA', 'personD', 'personB', 'personC', 'personE']\n",
            "Persons in test: ['personA', 'personD', 'personB', 'personC', 'personE']\n"
          ]
        }
      ]
    },
    {
      "cell_type": "code",
      "source": [
        "def generate_triplets(data_dict, split='train'):\n",
        "    triplets = []\n",
        "    persons = list(data_dict[split].keys())\n",
        "\n",
        "    for person in persons:\n",
        "        genuine = data_dict[split][person]['genuine']\n",
        "        forged = data_dict[split][person]['forged']\n",
        "\n",
        "        # Generate all possible genuine pairs (anchor, positive)\n",
        "        for i in range(len(genuine)):\n",
        "            for j in range(i+1, len(genuine)):\n",
        "                anchor = genuine[i]\n",
        "                positive = genuine[j]\n",
        "\n",
        "                # Pair with ALL forged signatures\n",
        "                for neg in forged:\n",
        "                    triplets.append((anchor, positive, neg))\n",
        "\n",
        "                # # Also pair with genuine from DIFFERENT person (optional)\n",
        "                # other_persons = [p for p in persons if p != person]\n",
        "                # if other_persons:\n",
        "                #     other_person = random.choice(other_persons)\n",
        "                #     other_genuine = data_dict[split][other_person]['genuine']\n",
        "                #     if other_genuine:\n",
        "                #         triplets.append((anchor, positive, random.choice(other_genuine)))\n",
        "\n",
        "    return triplets"
      ],
      "metadata": {
        "id": "7-Dk4UXBcZno"
      },
      "execution_count": 91,
      "outputs": []
    },
    {
      "cell_type": "code",
      "source": [
        "# Generate triplets\n",
        "train_triplets = generate_triplets({'train': train_data, 'test': test_data}, split='train')\n",
        "test_triplets = generate_triplets({'train': train_data, 'test': test_data}, split='test')"
      ],
      "metadata": {
        "id": "h5_hTUtMn1Pe"
      },
      "execution_count": 92,
      "outputs": []
    },
    {
      "cell_type": "code",
      "source": [
        "# Check the actual dimensions of your images\n",
        "sample_path = train_triplets[0][0]  # First anchor path\n",
        "sample_img = cv2.imread(sample_path, cv2.IMREAD_GRAYSCALE)\n",
        "true_height, true_width = sample_img.shape\n",
        "print(f\"Actual image dimensions: {true_height}x{true_width}\")\n",
        "\n",
        "# Update your input shape\n",
        "input_shape = (true_height, true_width, 1)"
      ],
      "metadata": {
        "id": "uW9yOXJ8nmYn",
        "outputId": "a4b792bc-e82e-4368-cb3c-6e796e7a9922",
        "colab": {
          "base_uri": "https://localhost:8080/"
        }
      },
      "execution_count": 93,
      "outputs": [
        {
          "output_type": "stream",
          "name": "stdout",
          "text": [
            "Actual image dimensions: 312x342\n"
          ]
        }
      ]
    },
    {
      "cell_type": "code",
      "source": [
        "def load_triplet_images(triplet, img_size=(150, 150)):\n",
        "    def load_image(path):\n",
        "        img = cv2.imread(path, cv2.IMREAD_GRAYSCALE)\n",
        "        if img is None:\n",
        "            raise ValueError(f\"Failed to load image: {path}\")\n",
        "        img = cv2.resize(img, img_size)\n",
        "        return img.astype(np.float32) / 255.0  # Normalize to [0,1]\n",
        "\n",
        "    anchor = load_image(triplet[0])\n",
        "    positive = load_image(triplet[1])\n",
        "    negative = load_image(triplet[2])\n",
        "\n",
        "    return anchor, positive, negative"
      ],
      "metadata": {
        "id": "tOEa4Tm_IHQg"
      },
      "execution_count": 94,
      "outputs": []
    },
    {
      "cell_type": "code",
      "source": [
        "# Usage Example\n",
        "train_data, test_data = load_dataset(\"iti/Computer_Vision/Day01/Siamese\")"
      ],
      "metadata": {
        "id": "YVh3zCDpSph3"
      },
      "execution_count": 95,
      "outputs": []
    },
    {
      "cell_type": "code",
      "source": [
        "def show_triplet(triplet):\n",
        "    try:\n",
        "        anchor, positive, negative = load_triplet_images(triplet)\n",
        "\n",
        "        # Convert to 8-bit for display (if normalized to [0,1])\n",
        "        if anchor.max() <= 1.0:\n",
        "            anchor = (anchor * 255).astype(np.uint8)\n",
        "            positive = (positive * 255).astype(np.uint8)\n",
        "            negative = (negative * 255).astype(np.uint8)\n",
        "\n",
        "        # Create a combined display image\n",
        "        h, w = anchor.shape\n",
        "        separator = np.ones((h, 5), dtype=np.uint8) * 255  # White separator\n",
        "        combined = np.hstack([anchor, separator, positive, separator, negative])\n",
        "\n",
        "        # Add labels\n",
        "        font = cv2.FONT_HERSHEY_SIMPLEX\n",
        "        cv2.putText(combined, 'Anchor', (5, 20), font, 0.5, 255, 1)\n",
        "        cv2.putText(combined, 'Positive', (w+10, 20), font, 0.5, 255, 1)\n",
        "        cv2.putText(combined, 'Negative', (2*w+15, 20), font, 0.5, 255, 1)\n",
        "\n",
        "        # Display (use cv2_imshow in Colab, cv2.imshow otherwise)\n",
        "        try:\n",
        "            from google.colab.patches import cv2_imshow\n",
        "            cv2_imshow(combined)\n",
        "        except:\n",
        "            cv2.imshow('Triplet', combined)\n",
        "            cv2.waitKey(0)\n",
        "            cv2.destroyAllWindows()\n",
        "\n",
        "    except Exception as e:\n",
        "        print(f\"Error displaying triplet: {e}\")\n",
        "        print(f\"Triplet paths: {triplet}\")"
      ],
      "metadata": {
        "id": "y2prKGo9Yohl"
      },
      "execution_count": 96,
      "outputs": []
    },
    {
      "cell_type": "code",
      "source": [
        "print(f\"Generated {len(train_triplets)} train triplets\")\n",
        "print(f\"Generated {len(test_triplets)} test triplets\")\n",
        "show_triplet(train_triplets[0])  # Display first training triplet"
      ],
      "metadata": {
        "id": "FtWMpSBvIHXx",
        "outputId": "d4562746-2133-424a-a1a8-a16c521d0dea",
        "colab": {
          "base_uri": "https://localhost:8080/",
          "height": 202
        }
      },
      "execution_count": 97,
      "outputs": [
        {
          "output_type": "stream",
          "name": "stdout",
          "text": [
            "Generated 19000 train triplets\n",
            "Generated 120 test triplets\n"
          ]
        },
        {
          "output_type": "display_data",
          "data": {
            "text/plain": [
              "<PIL.Image.Image image mode=L size=460x150>"
            ],
            "image/png": "[encoded data removed]",
            "image/jpeg": "[encoded data removed]"
          },
          "metadata": {}
        }
      ]
    },
    {
      "cell_type": "code",
      "source": [
        "# 1. Embedding Network Architecture\n",
        "def create_embedding_network(input_shape):\n",
        "    \"\"\"Creates the shared weights network for signature embeddings\"\"\"\n",
        "    model = models.Sequential([\n",
        "        # Convolutional Base\n",
        "        layers.Conv2D(32, (5,5), activation='relu', input_shape=input_shape),\n",
        "        layers.MaxPooling2D((2,2)),\n",
        "        layers.BatchNormalization(),\n",
        "\n",
        "        layers.Conv2D(64, (3,3), activation='relu'),\n",
        "        layers.MaxPooling2D((2,2)),\n",
        "        layers.BatchNormalization(),\n",
        "\n",
        "        layers.Conv2D(128, (3,3), activation='relu'),\n",
        "        layers.MaxPooling2D((2,2)),\n",
        "        layers.BatchNormalization(),\n",
        "\n",
        "        # Dense Head\n",
        "        layers.Flatten(),\n",
        "        layers.Dense(256, activation='relu'),\n",
        "        layers.Dropout(0.3),\n",
        "        layers.Dense(128, activation=None),  # No activation for embedding space\n",
        "        layers.Lambda(lambda x: tf.math.l2_normalize(x, axis=1))  # L2 normalize embeddings\n",
        "    ])\n",
        "    return model"
      ],
      "metadata": {
        "id": "-un6c44BBt6Z"
      },
      "execution_count": 98,
      "outputs": []
    },
    {
      "cell_type": "code",
      "source": [
        "# 2. Triplet Loss Function\n",
        "class TripletLoss(layers.Layer):\n",
        "    def __init__(self, margin=0.2, **kwargs):\n",
        "        super().__init__(**kwargs)\n",
        "        self.margin = margin\n",
        "\n",
        "    def call(self, inputs):\n",
        "        anchor, positive, negative = inputs\n",
        "        pos_dist = tf.reduce_sum(tf.square(anchor - positive), axis=-1)\n",
        "        neg_dist = tf.reduce_sum(tf.square(anchor - negative), axis=-1)\n",
        "        return tf.maximum(pos_dist - neg_dist + self.margin, 0.0)\n",
        "\n",
        "    def get_config(self):\n",
        "        return {'margin': self.margin}"
      ],
      "metadata": {
        "id": "as2ZOMIdBt9I"
      },
      "execution_count": 99,
      "outputs": []
    },
    {
      "cell_type": "code",
      "source": [
        "# 3. Data Generator (Optimized Version)\n",
        "class SignatureTripletGenerator(tf.keras.utils.Sequence):\n",
        "    def __init__(self, triplets, batch_size=32, img_size=(150,150), augment=False):\n",
        "        self.triplets = triplets\n",
        "        self.batch_size = batch_size\n",
        "        self.img_size = img_size\n",
        "        self.augment = augment\n",
        "        self.on_epoch_end()\n",
        "\n",
        "    def __len__(self):\n",
        "        return int(np.ceil(len(self.triplets) / self.batch_size))\n",
        "\n",
        "    def __getitem__(self, idx):\n",
        "        batch = self.triplets[idx*self.batch_size : (idx+1)*self.batch_size]\n",
        "\n",
        "        anchors = np.zeros((len(batch), *self.img_size, 1))\n",
        "        positives = np.zeros((len(batch), *self.img_size, 1))\n",
        "        negatives = np.zeros((len(batch), *self.img_size, 1))\n",
        "\n",
        "        for i, (a_path, p_path, n_path) in enumerate(batch):\n",
        "            # Load images with error handling\n",
        "            anchors[i] = self._load_image(a_path)\n",
        "            positives[i] = self._load_image(p_path)\n",
        "            negatives[i] = self._load_image(n_path)\n",
        "\n",
        "        return [anchors, positives, negatives], np.zeros(len(batch))\n",
        "\n",
        "    def _load_image(self, path):\n",
        "        img = cv2.imread(path, cv2.IMREAD_GRAYSCALE)\n",
        "        if img is None:\n",
        "            raise ValueError(f\"Failed to load image: {path}\")\n",
        "\n",
        "        # Resize to target dimensions\n",
        "        img = cv2.resize(img, self.img_size)\n",
        "\n",
        "        # Data augmentation\n",
        "        if self.augment and np.random.rand() > 0.5:\n",
        "            img = cv2.flip(img, 1)  # Horizontal flip\n",
        "            if np.random.rand() > 0.5:\n",
        "                angle = np.random.uniform(-10, 10)\n",
        "                M = cv2.getRotationMatrix2D((self.img_size[0]//2, self.img_size[1]//2), angle, 1)\n",
        "                img = cv2.warpAffine(img, M, self.img_size)\n",
        "\n",
        "        return np.expand_dims(img, axis=-1) / 255.0  # Add channel and normalize\n",
        "\n",
        "    def on_epoch_end(self):\n",
        "        \"\"\"Shuffle triplets after each epoch\"\"\"\n",
        "        np.random.shuffle(self.triplets)"
      ],
      "metadata": {
        "id": "Uh7Y23LUBuAL"
      },
      "execution_count": 100,
      "outputs": []
    },
    {
      "cell_type": "code",
      "source": [
        "# 4. Complete Siamese Model\n",
        "def build_siamese_model(input_shape):\n",
        "    # Input layers\n",
        "    anchor_input = layers.Input(input_shape, name='anchor_input')\n",
        "    positive_input = layers.Input(input_shape, name='positive_input')\n",
        "    negative_input = layers.Input(input_shape, name='negative_input')\n",
        "\n",
        "    # Shared embedding network\n",
        "    embedding_network = create_embedding_network(input_shape)\n",
        "\n",
        "    # Generate embeddings\n",
        "    anchor_embedding = embedding_network(anchor_input)\n",
        "    positive_embedding = embedding_network(positive_input)\n",
        "    negative_embedding = embedding_network(negative_input)\n",
        "\n",
        "    # Calculate triplet loss\n",
        "    loss_layer = TripletLoss(margin=0.2, name='triplet_loss')\n",
        "    loss = loss_layer([anchor_embedding, positive_embedding, negative_embedding])\n",
        "\n",
        "    # Connect inputs and outputs\n",
        "    model = models.Model(\n",
        "        inputs=[anchor_input, positive_input, negative_input],\n",
        "        outputs=loss\n",
        "    )\n",
        "\n",
        "    return model, embedding_network"
      ],
      "metadata": {
        "id": "EKsGHhCABuDV"
      },
      "execution_count": 101,
      "outputs": []
    },
    {
      "cell_type": "code",
      "source": [
        "# 5. Model Training Setup\n",
        "# Get actual image dimensions from your data\n",
        "input_shape = (true_height, true_width, 1)\n",
        "\n",
        "# Build model\n",
        "siamese_model, embedding_model = build_siamese_model(input_shape)\n",
        "\n",
        "# Custom compile with dummy optimizer (loss is computed in model)\n",
        "siamese_model.compile(optimizer=tf.keras.optimizers.Adam(0.0001))\n",
        "\n",
        "# Create data generators\n",
        "train_generator = SignatureTripletGenerator(\n",
        "    train_triplets,\n",
        "    batch_size=32,\n",
        "    img_size=(true_width, true_height),  # OpenCV uses (width, height)\n",
        "    augment=True\n",
        ")\n",
        "\n",
        "test_generator = SignatureTripletGenerator(\n",
        "    test_triplets,\n",
        "    batch_size=32,\n",
        "    img_size=(true_width, true_height)\n",
        ")"
      ],
      "metadata": {
        "id": "QVTx_7kfBuGM"
      },
      "execution_count": 102,
      "outputs": []
    },
    {
      "cell_type": "code",
      "source": [
        "# 6. Training Callbacks\n",
        "callbacks = [\n",
        "    tf.keras.callbacks.EarlyStopping(patience=10, restore_best_weights=True),\n",
        "    tf.keras.callbacks.ModelCheckpoint(\n",
        "        'siamese_best.h5',\n",
        "        save_best_only=True,\n",
        "        save_weights_only=True\n",
        "    ),\n",
        "    tf.keras.callbacks.ReduceLROnPlateau(factor=0.5, patience=3)\n",
        "]"
      ],
      "metadata": {
        "id": "KBDUN15uBuJI",
        "outputId": "3f130ec0-7037-4e37-88cd-c841a1208797",
        "colab": {
          "base_uri": "https://localhost:8080/",
          "height": 367
        }
      },
      "execution_count": 103,
      "outputs": [
        {
          "output_type": "error",
          "ename": "ValueError",
          "evalue": "When using `save_weights_only=True` in `ModelCheckpoint`, the filepath provided must end in `.weights.h5` (Keras weights format). Received: filepath=siamese_best.h5",
          "traceback": [
            "\u001b[0;31m---------------------------------------------------------------------------\u001b[0m",
            "\u001b[0;31mValueError\u001b[0m                                Traceback (most recent call last)",
            "\u001b[0;32m<ipython-input-103-420ec469dbe3>\u001b[0m in \u001b[0;36m<cell line: 0>\u001b[0;34m()\u001b[0m\n\u001b[1;32m      2\u001b[0m callbacks = [\n\u001b[1;32m      3\u001b[0m     \u001b[0mtf\u001b[0m\u001b[0;34m.\u001b[0m\u001b[0mkeras\u001b[0m\u001b[0;34m.\u001b[0m\u001b[0mcallbacks\u001b[0m\u001b[0;34m.\u001b[0m\u001b[0mEarlyStopping\u001b[0m\u001b[0;34m(\u001b[0m\u001b[0mpatience\u001b[0m\u001b[0;34m=\u001b[0m\u001b[0;36m10\u001b[0m\u001b[0;34m,\u001b[0m \u001b[0mrestore_best_weights\u001b[0m\u001b[0;34m=\u001b[0m\u001b[0;32mTrue\u001b[0m\u001b[0;34m)\u001b[0m\u001b[0;34m,\u001b[0m\u001b[0;34m\u001b[0m\u001b[0;34m\u001b[0m\u001b[0m\n\u001b[0;32m----> 4\u001b[0;31m     tf.keras.callbacks.ModelCheckpoint(\n\u001b[0m\u001b[1;32m      5\u001b[0m         \u001b[0;34m'siamese_best.h5'\u001b[0m\u001b[0;34m,\u001b[0m\u001b[0;34m\u001b[0m\u001b[0;34m\u001b[0m\u001b[0m\n\u001b[1;32m      6\u001b[0m         \u001b[0msave_best_only\u001b[0m\u001b[0;34m=\u001b[0m\u001b[0;32mTrue\u001b[0m\u001b[0;34m,\u001b[0m\u001b[0;34m\u001b[0m\u001b[0;34m\u001b[0m\u001b[0m\n",
            "\u001b[0;32m/usr/local/lib/python3.11/dist-packages/keras/src/callbacks/model_checkpoint.py\u001b[0m in \u001b[0;36m__init__\u001b[0;34m(self, filepath, monitor, verbose, save_best_only, save_weights_only, mode, save_freq, initial_value_threshold)\u001b[0m\n\u001b[1;32m    182\u001b[0m         \u001b[0;32mif\u001b[0m \u001b[0msave_weights_only\u001b[0m\u001b[0;34m:\u001b[0m\u001b[0;34m\u001b[0m\u001b[0;34m\u001b[0m\u001b[0m\n\u001b[1;32m    183\u001b[0m             \u001b[0;32mif\u001b[0m \u001b[0;32mnot\u001b[0m \u001b[0mself\u001b[0m\u001b[0;34m.\u001b[0m\u001b[0mfilepath\u001b[0m\u001b[0;34m.\u001b[0m\u001b[0mendswith\u001b[0m\u001b[0;34m(\u001b[0m\u001b[0;34m\".weights.h5\"\u001b[0m\u001b[0;34m)\u001b[0m\u001b[0;34m:\u001b[0m\u001b[0;34m\u001b[0m\u001b[0;34m\u001b[0m\u001b[0m\n\u001b[0;32m--> 184\u001b[0;31m                 raise ValueError(\n\u001b[0m\u001b[1;32m    185\u001b[0m                     \u001b[0;34m\"When using `save_weights_only=True` in `ModelCheckpoint`\"\u001b[0m\u001b[0;34m\u001b[0m\u001b[0;34m\u001b[0m\u001b[0m\n\u001b[1;32m    186\u001b[0m                     \u001b[0;34m\", the filepath provided must end in `.weights.h5` \"\u001b[0m\u001b[0;34m\u001b[0m\u001b[0;34m\u001b[0m\u001b[0m\n",
            "\u001b[0;31mValueError\u001b[0m: When using `save_weights_only=True` in `ModelCheckpoint`, the filepath provided must end in `.weights.h5` (Keras weights format). Received: filepath=siamese_best.h5"
          ]
        }
      ]
    },
    {
      "cell_type": "code",
      "source": [
        "# 7. Train the Model\n",
        "history = siamese_model.fit(\n",
        "    train_generator,\n",
        "    validation_data=test_generator,\n",
        "    epochs=50,\n",
        "    callbacks=callbacks\n",
        ")"
      ],
      "metadata": {
        "id": "uNKyAXeyBuLS"
      },
      "execution_count": 87,
      "outputs": []
    },
    {
      "cell_type": "code",
      "source": [
        "# 8. Save the Embedding Model\n",
        "embedding_model.save('signature_embedder.h5')"
      ],
      "metadata": {
        "id": "qH_FpMcRjL7I"
      },
      "execution_count": 88,
      "outputs": []
    },
    {
      "cell_type": "code",
      "source": [],
      "metadata": {
        "id": "MskKE_O2jMDi"
      },
      "execution_count": null,
      "outputs": []
    },
    {
      "cell_type": "code",
      "source": [],
      "metadata": {
        "id": "v_jVparLrpRD"
      },
      "execution_count": null,
      "outputs": []
    },
    {
      "cell_type": "code",
      "source": [],
      "metadata": {
        "id": "Pbl6AIncrpT9"
      },
      "execution_count": null,
      "outputs": []
    },
    {
      "cell_type": "code",
      "source": [],
      "metadata": {
        "id": "J1UZcCQcrpWw"
      },
      "execution_count": null,
      "outputs": []
    },
    {
      "cell_type": "code",
      "source": [],
      "metadata": {
        "id": "XJIxHevHrpZ6"
      },
      "execution_count": null,
      "outputs": []
    },
    {
      "cell_type": "code",
      "source": [],
      "metadata": {
        "id": "pGu8SjgFrpco"
      },
      "execution_count": null,
      "outputs": []
    },
    {
      "cell_type": "code",
      "source": [],
      "metadata": {
        "id": "OYd8f0e3rpfp"
      },
      "execution_count": null,
      "outputs": []
    },
    {
      "cell_type": "code",
      "source": [],
      "metadata": {
        "id": "1-Opt9pCrphV"
      },
      "execution_count": null,
      "outputs": []
    },
    {
      "cell_type": "code",
      "source": [
        "def verify_signatures(anchor_path, test_path, threshold=0.5):\n",
        "    # Load models\n",
        "    embedding_model = tf.keras.models.load_model('signature_embedding.h5')\n",
        "\n",
        "    # Preprocess images\n",
        "    def preprocess(path):\n",
        "        img = cv2.imread(path, cv2.IMREAD_GRAYSCALE)\n",
        "        img = cv2.resize(img, (150, 150)).reshape(1, 150, 150, 1)/255.0\n",
        "        return img\n",
        "\n",
        "    # Get embeddings\n",
        "    anchor_embed = embedding_model.predict(preprocess(anchor_path))\n",
        "    test_embed = embedding_model.predict(preprocess(test_path))\n",
        "\n",
        "    # Calculate distance\n",
        "    distance = np.sum(np.square(anchor_embed - test_embed))\n",
        "\n",
        "    # Verification decision\n",
        "    return distance < threshold, distance\n",
        "\n",
        "# Example usage\n",
        "is_genuine, dist = verify_signatures(\n",
        "    anchor_path=\"path/to/genuine_sample.png\",\n",
        "    test_path=\"path/to/test_sample.png\"\n",
        ")\n",
        "print(f\"Genuine: {is_genuine} (Distance: {dist:.4f})\")"
      ],
      "metadata": {
        "id": "uebD7FK2jMFn"
      },
      "execution_count": null,
      "outputs": []
    }
  ],
  "metadata": {
    "kernelspec": {
      "display_name": "Python 3 (ipykernel)",
      "language": "python",
      "name": "python3"
    },
    "language_info": {
      "codemirror_mode": {
        "name": "ipython",
        "version": 3
      },
      "file_extension": ".py",
      "mimetype": "text/x-python",
      "name": "python",
      "nbconvert_exporter": "python",
      "pygments_lexer": "ipython3",
      "version": "3.9.7"
    },
    "colab": {
      "provenance": [],
      "include_colab_link": true
    }
  },
  "nbformat": 4,
  "nbformat_minor": 0
}