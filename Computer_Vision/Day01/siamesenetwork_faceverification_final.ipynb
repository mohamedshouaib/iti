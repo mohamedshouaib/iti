{
  "cells": [
    {
      "cell_type": "markdown",
      "metadata": {
        "id": "view-in-github",
        "colab_type": "text"
      },
      "source": [
        "<a href=\"https://colab.research.google.com/github/mohamedshouaib/iti/blob/main/Computer_Vision/Day01/siamesenetwork_faceverification_final.ipynb\" target=\"_parent\"><img src=\"https://colab.research.google.com/assets/colab-badge.svg\" alt=\"Open In Colab\"/></a>"
      ]
    },
    {
      "cell_type": "code",
      "execution_count": 1,
      "metadata": {
        "execution": {
          "iopub.execute_input": "2022-04-02T08:35:02.563543Z",
          "iopub.status.busy": "2022-04-02T08:35:02.563198Z",
          "iopub.status.idle": "2022-04-02T08:35:08.798471Z",
          "shell.execute_reply": "2022-04-02T08:35:08.797717Z",
          "shell.execute_reply.started": "2022-04-02T08:35:02.563479Z"
        },
        "id": "E_Qf6ev236Hm",
        "outputId": "4c136603-ce40-4162-83df-0a313a76ebec",
        "colab": {
          "base_uri": "https://localhost:8080/"
        }
      },
      "outputs": [
        {
          "output_type": "stream",
          "name": "stdout",
          "text": [
            "Cloning into 'iti'...\n",
            "remote: Enumerating objects: 668, done.\u001b[K\n",
            "remote: Counting objects: 100% (453/453), done.\u001b[K\n",
            "remote: Compressing objects: 100% (444/444), done.\u001b[K\n",
            "remote: Total 668 (delta 86), reused 0 (delta 0), pack-reused 215 (from 1)\u001b[K\n",
            "Receiving objects: 100% (668/668), 27.23 MiB | 20.79 MiB/s, done.\n",
            "Resolving deltas: 100% (158/158), done.\n"
          ]
        }
      ],
      "source": [
        "!git clone https://github.com/mohamedshouaib/iti.git\n",
        "!cd iti/Computer_Vision/Day01/Siamese"
      ]
    },
    {
      "cell_type": "code",
      "source": [
        "import os\n",
        "import cv2\n",
        "import csv\n",
        "import time\n",
        "import random\n",
        "import numpy as np\n",
        "from google.colab.patches import cv2_imshow\n",
        "from itertools import combinations\n",
        "import torch\n",
        "from torch.utils.data import Dataset, DataLoader\n",
        "import torchvision.transforms as transforms\n",
        "import torch.nn as nn\n",
        "import torch.nn.functional as F\n",
        "\n",
        "from tqdm import tqdm\n",
        "import seaborn as sns\n",
        "import matplotlib.pyplot as plt"
      ],
      "metadata": {
        "id": "2_U5_fzuAD0b"
      },
      "execution_count": 2,
      "outputs": []
    },
    {
      "cell_type": "code",
      "source": [
        "def load_dataset(base_path=\"iti/Computer_Vision/Day01/Siamese\"):\n",
        "    data = {'train': {}, 'test': {}}\n",
        "\n",
        "    for person in os.listdir(base_path):\n",
        "        person_path = os.path.join(base_path, person)\n",
        "        if not os.path.isdir(person_path):\n",
        "            continue\n",
        "\n",
        "        for split in ['Train', 'Test']:\n",
        "            split_path = os.path.join(person_path, split)\n",
        "            if not os.path.exists(split_path):\n",
        "                print(f\"Missing {split} folder for {person}\")\n",
        "                continue\n",
        "\n",
        "            # Find ANY CSV file\n",
        "            csv_files = [f for f in os.listdir(split_path) if f.endswith('.csv')]\n",
        "            if not csv_files:\n",
        "                print(f\"No CSV found in {split_path}\")\n",
        "                continue\n",
        "\n",
        "            csv_path = os.path.join(split_path, csv_files[0])\n",
        "\n",
        "            genuine = []\n",
        "            forged = []\n",
        "\n",
        "            with open(csv_path, 'r') as f:\n",
        "                # Try different delimiters and column names\n",
        "                try:\n",
        "                    reader = csv.DictReader(f)\n",
        "                    row = next(reader)  # Peek first row\n",
        "\n",
        "                    # Detect column names\n",
        "                    img_col = None\n",
        "                    label_col = None\n",
        "\n",
        "                    for col in row.keys():\n",
        "                        col_lower = col.lower()\n",
        "                        if 'image' in col_lower or 'name' in col_lower:\n",
        "                            img_col = col\n",
        "                        elif 'label' in col_lower or 'class' in col_lower:\n",
        "                            label_col = col\n",
        "\n",
        "                    if not img_col or not label_col:\n",
        "                        raise ValueError(\"Couldn't detect required columns\")\n",
        "\n",
        "                    # Reset reader\n",
        "                    f.seek(0)\n",
        "                    next(reader)  # Skip header\n",
        "\n",
        "                    for row in reader:\n",
        "                        img_name = row[img_col].strip()\n",
        "                        img_path = os.path.join(split_path, img_name)\n",
        "\n",
        "                        if not os.path.exists(img_path):\n",
        "                            print(f\"Missing image: {img_path}\")\n",
        "                            continue\n",
        "\n",
        "                        label = row[label_col].strip().lower()\n",
        "                        if label == 'real' or label == 'genuine':\n",
        "                            genuine.append(img_path)\n",
        "                        elif label == 'forged' or label == 'fake':\n",
        "                            forged.append(img_path)\n",
        "\n",
        "                except Exception as e:\n",
        "                    print(f\"Error reading {csv_path}: {str(e)}\")\n",
        "                    continue\n",
        "\n",
        "            if genuine or forged:  # Only add if we found data\n",
        "                data[split.lower()][person] = {\n",
        "                    'genuine': genuine,\n",
        "                    'forged': forged\n",
        "                }\n",
        "\n",
        "    return data['train'], data['test']\n",
        "\n",
        "# Test with debug info\n",
        "print(\"Checking folder structure...\")\n",
        "base_path = \"iti/Computer_Vision/Day01/Siamese\"\n",
        "print(f\"Root contents: {os.listdir(base_path)}\")\n",
        "sample_person = os.listdir(base_path)[0]\n",
        "print(f\"Sample person contents: {os.listdir(os.path.join(base_path, sample_person))}\")\n",
        "\n",
        "train_data, test_data = load_dataset(base_path)\n",
        "\n",
        "print(\"\\nLoaded successfully!\")\n",
        "print(f\"Persons in train: {list(train_data.keys())}\")\n",
        "print(f\"Persons in test: {list(test_data.keys())}\")"
      ],
      "metadata": {
        "colab": {
          "base_uri": "https://localhost:8080/"
        },
        "id": "e47yhiSxIHIl",
        "outputId": "7c803736-4c34-447c-c31b-cd0cd3ae9704"
      },
      "execution_count": 3,
      "outputs": [
        {
          "output_type": "stream",
          "name": "stdout",
          "text": [
            "Checking folder structure...\n",
            "Root contents: ['personC', 'personA', 'personD', 'personE', 'personB']\n",
            "Sample person contents: ['Test', 'Train']\n",
            "\n",
            "Loaded successfully!\n",
            "Persons in train: ['personC', 'personA', 'personD', 'personE', 'personB']\n",
            "Persons in test: ['personC', 'personA', 'personD', 'personE', 'personB']\n"
          ]
        }
      ]
    },
    {
      "cell_type": "code",
      "source": [
        "def generate_triplets(data_dict, split='train'):\n",
        "    triplets = []\n",
        "    persons = list(data_dict[split].keys())\n",
        "\n",
        "    for person in persons:\n",
        "        genuine = data_dict[split][person]['genuine']\n",
        "        forged = data_dict[split][person]['forged']\n",
        "\n",
        "        # Generate all possible genuine pairs (anchor, positive)\n",
        "        for i in range(len(genuine)):\n",
        "            for j in range(i+1, len(genuine)):\n",
        "                anchor = genuine[i]\n",
        "                positive = genuine[j]\n",
        "\n",
        "                # Pair with ALL forged signatures\n",
        "                for neg in forged:\n",
        "                    triplets.append((anchor, positive, neg))\n",
        "\n",
        "                # # Also pair with genuine from DIFFERENT person (optional)\n",
        "                # other_persons = [p for p in persons if p != person]\n",
        "                # if other_persons:\n",
        "                #     other_person = random.choice(other_persons)\n",
        "                #     other_genuine = data_dict[split][other_person]['genuine']\n",
        "                #     if other_genuine:\n",
        "                #         triplets.append((anchor, positive, random.choice(other_genuine)))\n",
        "\n",
        "    return triplets"
      ],
      "metadata": {
        "id": "7-Dk4UXBcZno"
      },
      "execution_count": 4,
      "outputs": []
    },
    {
      "cell_type": "code",
      "source": [
        "# Generate triplets\n",
        "train_triplets = generate_triplets({'train': train_data, 'test': test_data}, split='train')\n",
        "test_triplets = generate_triplets({'train': train_data, 'test': test_data}, split='test')"
      ],
      "metadata": {
        "id": "h5_hTUtMn1Pe"
      },
      "execution_count": 5,
      "outputs": []
    },
    {
      "cell_type": "code",
      "source": [
        "# Check the actual dimensions of your images\n",
        "sample_path = train_triplets[0][0]  # First anchor path\n",
        "sample_img = cv2.imread(sample_path, cv2.IMREAD_GRAYSCALE)\n",
        "true_height, true_width = sample_img.shape\n",
        "print(f\"Actual image dimensions: {true_height}x{true_width}\")\n",
        "\n",
        "# Update your input shape\n",
        "input_shape = (true_height, true_width, 1)"
      ],
      "metadata": {
        "colab": {
          "base_uri": "https://localhost:8080/"
        },
        "id": "uW9yOXJ8nmYn",
        "outputId": "847f7001-8cf8-4c8a-ee21-e9182e8f6e9f"
      },
      "execution_count": 6,
      "outputs": [
        {
          "output_type": "stream",
          "name": "stdout",
          "text": [
            "Actual image dimensions: 456x594\n"
          ]
        }
      ]
    },
    {
      "cell_type": "code",
      "source": [
        "def load_triplet_images(triplet, img_size=(150, 150)):\n",
        "    def load_image(path):\n",
        "        img = cv2.imread(path, cv2.IMREAD_GRAYSCALE)\n",
        "        if img is None:\n",
        "            raise ValueError(f\"Failed to load image: {path}\")\n",
        "        img = cv2.resize(img, img_size)\n",
        "        return img.astype(np.float32) / 255.0  # Normalize to [0,1]\n",
        "\n",
        "    anchor = load_image(triplet[0])\n",
        "    positive = load_image(triplet[1])\n",
        "    negative = load_image(triplet[2])\n",
        "\n",
        "    return anchor, positive, negative"
      ],
      "metadata": {
        "id": "tOEa4Tm_IHQg"
      },
      "execution_count": 7,
      "outputs": []
    },
    {
      "cell_type": "code",
      "source": [
        "# Usage Example\n",
        "train_data, test_data = load_dataset(\"iti/Computer_Vision/Day01/Siamese\")"
      ],
      "metadata": {
        "id": "YVh3zCDpSph3"
      },
      "execution_count": 8,
      "outputs": []
    },
    {
      "cell_type": "code",
      "source": [
        "def show_triplet(triplet):\n",
        "    try:\n",
        "        anchor, positive, negative = load_triplet_images(triplet)\n",
        "\n",
        "        # Convert to 8-bit for display (if normalized to [0,1])\n",
        "        if anchor.max() <= 1.0:\n",
        "            anchor = (anchor * 255).astype(np.uint8)\n",
        "            positive = (positive * 255).astype(np.uint8)\n",
        "            negative = (negative * 255).astype(np.uint8)\n",
        "\n",
        "        # Create a combined display image\n",
        "        h, w = anchor.shape\n",
        "        separator = np.ones((h, 5), dtype=np.uint8) * 255  # White separator\n",
        "        combined = np.hstack([anchor, separator, positive, separator, negative])\n",
        "\n",
        "        # Add labels\n",
        "        font = cv2.FONT_HERSHEY_SIMPLEX\n",
        "        cv2.putText(combined, 'Anchor', (5, 20), font, 0.5, 255, 1)\n",
        "        cv2.putText(combined, 'Positive', (w+10, 20), font, 0.5, 255, 1)\n",
        "        cv2.putText(combined, 'Negative', (2*w+15, 20), font, 0.5, 255, 1)\n",
        "\n",
        "        # Display (use cv2_imshow in Colab, cv2.imshow otherwise)\n",
        "        try:\n",
        "            from google.colab.patches import cv2_imshow\n",
        "            cv2_imshow(combined)\n",
        "        except:\n",
        "            cv2.imshow('Triplet', combined)\n",
        "            cv2.waitKey(0)\n",
        "            cv2.destroyAllWindows()\n",
        "\n",
        "    except Exception as e:\n",
        "        print(f\"Error displaying triplet: {e}\")\n",
        "        print(f\"Triplet paths: {triplet}\")"
      ],
      "metadata": {
        "id": "y2prKGo9Yohl"
      },
      "execution_count": 9,
      "outputs": []
    },
    {
      "cell_type": "code",
      "source": [
        "print(f\"Generated {len(train_triplets)} train triplets\")\n",
        "print(f\"Generated {len(test_triplets)} test triplets\")\n",
        "show_triplet(train_triplets[0])  # Display first training triplet"
      ],
      "metadata": {
        "colab": {
          "base_uri": "https://localhost:8080/",
          "height": 202
        },
        "id": "FtWMpSBvIHXx",
        "outputId": "3f36d4a8-573d-438d-ed82-d2b6b2ca381b"
      },
      "execution_count": 10,
      "outputs": [
        {
          "output_type": "stream",
          "name": "stdout",
          "text": [
            "Generated 19000 train triplets\n",
            "Generated 120 test triplets\n"
          ]
        },
        {
          "output_type": "display_data",
          "data": {
            "text/plain": [
              "<PIL.Image.Image image mode=L size=460x150>"
            ],
            "image/png": "[encoded data removed]",
            "image/jpeg": "[encoded data removed]"
          },
          "metadata": {}
        }
      ]
    },
    {
      "cell_type": "code",
      "source": [
        "class SiameseNetwork(nn.Module):\n",
        "    def __init__(self):\n",
        "        super(SiameseNetwork, self).__init__()\n",
        "\n",
        "        self.cnn = nn.Sequential(\n",
        "            nn.Conv2d(1, 32, kernel_size=5),\n",
        "            nn.ReLU(),\n",
        "            nn.MaxPool2d(2),\n",
        "\n",
        "            nn.Conv2d(32, 64, kernel_size=5),\n",
        "            nn.ReLU(),\n",
        "            nn.MaxPool2d(2),\n",
        "        )\n",
        "\n",
        "        with torch.no_grad():\n",
        "            dummy_input = torch.zeros(1, 1, 150, 150)\n",
        "            dummy_output = self.cnn(dummy_input)\n",
        "            self.flattened_size = dummy_output.view(1, -1).shape[1]\n",
        "            print(f\"[INFO] Flattened feature size: {self.flattened_size}\")\n",
        "\n",
        "        self.fc = nn.Sequential(\n",
        "            nn.Linear(self.flattened_size, 512),\n",
        "            nn.ReLU(),\n",
        "            nn.Linear(512, 128)\n",
        "        )\n",
        "\n",
        "    def forward_once(self, x):\n",
        "        x = self.cnn(x)\n",
        "        x = x.view(x.size(0), -1)\n",
        "        x = self.fc(x)\n",
        "        return x\n",
        "\n",
        "    def forward(self, anchor, positive, negative):\n",
        "        out_anchor = self.forward_once(anchor)\n",
        "        out_positive = self.forward_once(positive)\n",
        "        out_negative = self.forward_once(negative)\n",
        "        return out_anchor, out_positive, out_negative\n"
      ],
      "metadata": {
        "id": "EGswz_0douM8"
      },
      "execution_count": 11,
      "outputs": []
    },
    {
      "cell_type": "code",
      "source": [
        "class TripletLoss(nn.Module):\n",
        "    def __init__(self, margin=1.0):\n",
        "        super(TripletLoss, self).__init__()\n",
        "        self.margin = margin\n",
        "\n",
        "    def forward(self, anchor, positive, negative):\n",
        "        distance_pos = F.pairwise_distance(anchor, positive)\n",
        "        distance_neg = F.pairwise_distance(anchor, negative)\n",
        "        losses = F.relu(distance_pos - distance_neg + self.margin)\n",
        "        return losses.mean()\n"
      ],
      "metadata": {
        "id": "c2_HzaSxouPx"
      },
      "execution_count": 12,
      "outputs": []
    },
    {
      "cell_type": "code",
      "source": [
        "class TripletDataset(Dataset):\n",
        "    def __init__(self, triplets, img_size=(150, 150)):\n",
        "        self.triplets = triplets\n",
        "        self.img_size = img_size\n",
        "\n",
        "    def __len__(self):\n",
        "        return len(self.triplets)\n",
        "\n",
        "    def __getitem__(self, idx):\n",
        "        a, p, n = self.triplets[idx]\n",
        "        anchor, positive, negative = load_triplet_images((a, p, n), self.img_size)\n",
        "\n",
        "        anchor = torch.tensor(anchor).unsqueeze(0)\n",
        "        positive = torch.tensor(positive).unsqueeze(0)\n",
        "        negative = torch.tensor(negative).unsqueeze(0)\n",
        "\n",
        "        return anchor, positive, negative"
      ],
      "metadata": {
        "id": "z86GLa5xouTG"
      },
      "execution_count": 13,
      "outputs": []
    },
    {
      "cell_type": "code",
      "source": [
        "device = torch.device(\"cuda\" if torch.cuda.is_available() else \"cpu\")\n",
        "model = SiameseNetwork().to(device)\n",
        "loss_fn = TripletLoss(margin=1.0)\n",
        "optimizer = torch.optim.Adam(model.parameters(), lr=1e-5)\n",
        "\n",
        "train_dataset = TripletDataset(train_triplets)\n",
        "train_loader = DataLoader(train_dataset, batch_size=32, shuffle=True)\n",
        "\n",
        "# Train\n",
        "num_epochs = 5\n",
        "for epoch in range(num_epochs):\n",
        "    model.train()\n",
        "    epoch_loss = 0\n",
        "    loop = tqdm(train_loader, desc=f\"Epoch {epoch+1}/{num_epochs}\")\n",
        "\n",
        "    for anchor, positive, negative in loop:\n",
        "        anchor, positive, negative = anchor.to(device), positive.to(device), negative.to(device)\n",
        "\n",
        "        out_a, out_p, out_n = model(anchor, positive, negative)\n",
        "        loss = loss_fn(out_a, out_p, out_n)\n",
        "\n",
        "        optimizer.zero_grad()\n",
        "        loss.backward()\n",
        "        optimizer.step()\n",
        "\n",
        "        loop.set_postfix(loss=loss.item())\n",
        "        epoch_loss += loss.item()\n",
        "\n",
        "    print(f\"Epoch {epoch+1}, Loss: {epoch_loss/len(train_loader)}\")\n"
      ],
      "metadata": {
        "colab": {
          "base_uri": "https://localhost:8080/"
        },
        "id": "ak6K1vOhT1Ab",
        "outputId": "a99da5da-799d-4230-8067-6c10b1c52b42"
      },
      "execution_count": 14,
      "outputs": [
        {
          "output_type": "stream",
          "name": "stdout",
          "text": [
            "[INFO] Flattened feature size: 73984\n"
          ]
        },
        {
          "output_type": "stream",
          "name": "stderr",
          "text": [
            "Epoch 1/5: 100%|██████████| 594/594 [43:20<00:00,  4.38s/it, loss=0]\n"
          ]
        },
        {
          "output_type": "stream",
          "name": "stdout",
          "text": [
            "Epoch 1, Loss: 0.05675937105221078\n"
          ]
        },
        {
          "output_type": "stream",
          "name": "stderr",
          "text": [
            "Epoch 2/5: 100%|██████████| 594/594 [44:28<00:00,  4.49s/it, loss=0]\n"
          ]
        },
        {
          "output_type": "stream",
          "name": "stdout",
          "text": [
            "Epoch 2, Loss: 0.0\n"
          ]
        },
        {
          "output_type": "stream",
          "name": "stderr",
          "text": [
            "Epoch 3/5: 100%|██████████| 594/594 [43:48<00:00,  4.43s/it, loss=0]\n"
          ]
        },
        {
          "output_type": "stream",
          "name": "stdout",
          "text": [
            "Epoch 3, Loss: 0.0\n"
          ]
        },
        {
          "output_type": "stream",
          "name": "stderr",
          "text": [
            "Epoch 4/5: 100%|██████████| 594/594 [43:52<00:00,  4.43s/it, loss=0]\n"
          ]
        },
        {
          "output_type": "stream",
          "name": "stdout",
          "text": [
            "Epoch 4, Loss: 0.0\n"
          ]
        },
        {
          "output_type": "stream",
          "name": "stderr",
          "text": [
            "Epoch 5/5: 100%|██████████| 594/594 [44:17<00:00,  4.47s/it, loss=0]"
          ]
        },
        {
          "output_type": "stream",
          "name": "stdout",
          "text": [
            "Epoch 5, Loss: 0.0\n"
          ]
        },
        {
          "output_type": "stream",
          "name": "stderr",
          "text": [
            "\n"
          ]
        }
      ]
    },
    {
      "cell_type": "code",
      "source": [
        "def evaluate_model(model, test_triplets):\n",
        "    model.eval()\n",
        "    correct = 0\n",
        "    total = 0\n",
        "\n",
        "    with torch.no_grad():\n",
        "        for triplet in test_triplets:\n",
        "            a, p, n = load_triplet_images(triplet)\n",
        "            a = torch.tensor(a).unsqueeze(0).unsqueeze(0).to(device)\n",
        "            p = torch.tensor(p).unsqueeze(0).unsqueeze(0).to(device)\n",
        "            n = torch.tensor(n).unsqueeze(0).unsqueeze(0).to(device)\n",
        "\n",
        "            out_a, out_p = model.forward_once(a), model.forward_once(p)\n",
        "            out_n = model.forward_once(n)\n",
        "\n",
        "            d_ap = F.pairwise_distance(out_a, out_p)\n",
        "            d_an = F.pairwise_distance(out_a, out_n)\n",
        "\n",
        "            if d_ap.item() < d_an.item():\n",
        "                correct += 1\n",
        "            total += 1\n",
        "\n",
        "    print(f\"Accuracy on test set: {correct / total:.2f}\")\n"
      ],
      "metadata": {
        "id": "Xt-h10kqouVR"
      },
      "execution_count": 15,
      "outputs": []
    },
    {
      "cell_type": "code",
      "source": [
        "# Evaluate model on the test triplets\n",
        "evaluate_model(model, test_triplets)"
      ],
      "metadata": {
        "id": "cuIgyx1ERk4g",
        "outputId": "3623e798-659b-4f20-9073-e9e7bf5cff78",
        "colab": {
          "base_uri": "https://localhost:8080/"
        }
      },
      "execution_count": 16,
      "outputs": [
        {
          "output_type": "stream",
          "name": "stdout",
          "text": [
            "Accuracy on test set: 0.80\n"
          ]
        }
      ]
    },
    {
      "cell_type": "code",
      "source": [
        "torch.save(model.state_dict(), 'siamese_signature_model.pth')\n",
        "\n",
        "# To load later\n",
        "# model.load_state_dict(torch.load('siamese_signature_model.pth'))\n",
        "# model.eval()\n"
      ],
      "metadata": {
        "id": "_AxePUUmouXZ"
      },
      "execution_count": 17,
      "outputs": []
    },
    {
      "cell_type": "code",
      "source": [
        "def test_signature_pair(img_path1, img_path2, model, threshold=0.5):\n",
        "    model.eval()\n",
        "    img1, img2 = load_triplet_images((img_path1, img_path2, img_path2))[:2]\n",
        "\n",
        "    img1 = torch.tensor(img1).unsqueeze(0).unsqueeze(0).to(device)\n",
        "    img2 = torch.tensor(img2).unsqueeze(0).unsqueeze(0).to(device)\n",
        "\n",
        "    with torch.no_grad():\n",
        "        out1 = model.forward_once(img1)\n",
        "        out2 = model.forward_once(img2)\n",
        "\n",
        "    distance = F.pairwise_distance(out1, out2).item()\n",
        "    print(f\"Distance: {distance:.4f}\")\n",
        "    return distance < threshold  # True if similar\n"
      ],
      "metadata": {
        "id": "YLU0DlhOousF"
      },
      "execution_count": 20,
      "outputs": []
    },
    {
      "cell_type": "code",
      "source": [
        "# Example real vs. real (should return True if genuine match)\n",
        "img_path1 = 'iti/Computer_Vision/Day01/Siamese/personA/Test/personA_29.png'\n",
        "img_path2 = 'iti/Computer_Vision/Day01/Siamese/personA/Test/personA_13.png'\n",
        "\n",
        "# Example real vs. forged (should return False if forged)\n",
        "img_path3 = 'iti/Computer_Vision/Day01/Siamese/personA/Test/personA_29.png'\n",
        "img_path4 = 'iti/Computer_Vision/Day01/Siamese/personA/Test/personA_33.png'\n",
        "\n",
        "# Test genuine match\n",
        "is_match = test_signature_pair(img_path1, img_path2, model)\n",
        "print(\"Match (real vs. real):\", is_match)\n",
        "\n",
        "# Test forged case\n",
        "is_forged = test_signature_pair(img_path3, img_path4, model)\n",
        "print(\"Match (real vs. forged):\", is_forged)"
      ],
      "metadata": {
        "id": "yUjdinFtouu3",
        "outputId": "7457236f-8c01-4393-e1cc-69ecb2b265b5",
        "colab": {
          "base_uri": "https://localhost:8080/"
        }
      },
      "execution_count": 21,
      "outputs": [
        {
          "output_type": "stream",
          "name": "stdout",
          "text": [
            "Distance: 0.2668\n",
            "Match (real vs. real): True\n",
            "Distance: 1.1023\n",
            "Match (real vs. forged): False\n"
          ]
        }
      ]
    }
  ],
  "metadata": {
    "kernelspec": {
      "display_name": "Python 3",
      "name": "python3"
    },
    "language_info": {
      "codemirror_mode": {
        "name": "ipython",
        "version": 3
      },
      "file_extension": ".py",
      "mimetype": "text/x-python",
      "name": "python",
      "nbconvert_exporter": "python",
      "pygments_lexer": "ipython3",
      "version": "3.9.7"
    },
    "colab": {
      "provenance": [],
      "gpuType": "T4",
      "include_colab_link": true
    },
    "accelerator": "GPU"
  },
  "nbformat": 4,
  "nbformat_minor": 0
}