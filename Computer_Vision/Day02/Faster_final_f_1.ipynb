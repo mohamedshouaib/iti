{
  "nbformat": 4,
  "nbformat_minor": 0,
  "metadata": {
    "colab": {
      "provenance": [],
      "gpuType": "T4",
      "include_colab_link": true
    },
    "kernelspec": {
      "name": "python3",
      "display_name": "Python 3"
    },
    "language_info": {
      "name": "python"
    },
    "accelerator": "GPU"
  },
  "cells": [
    {
      "cell_type": "markdown",
      "metadata": {
        "id": "view-in-github",
        "colab_type": "text"
      },
      "source": [
        "<a href=\"https://colab.research.google.com/github/mohamedshouaib/iti/blob/main/Computer_Vision/Day02/Faster_final_f_1.ipynb\" target=\"_parent\"><img src=\"https://colab.research.google.com/assets/colab-badge.svg\" alt=\"Open In Colab\"/></a>"
      ]
    },
    {
      "cell_type": "code",
      "execution_count": 1,
      "metadata": {
        "colab": {
          "base_uri": "https://localhost:8080/"
        },
        "id": "31A3x_AzRFa3",
        "outputId": "a59d9fcb-02ab-4fd2-aa71-098e1c4f531d"
      },
      "outputs": [
        {
          "output_type": "stream",
          "name": "stdout",
          "text": [
            "fatal: destination path 'iti' already exists and is not an empty directory.\n"
          ]
        }
      ],
      "source": [
        "!git clone https://github.com/mohamedshouaib/iti.git\n",
        "!cd iti/Computer_Vision/Day02"
      ]
    },
    {
      "cell_type": "code",
      "source": [
        "import torch\n",
        "import torchvision.transforms as T\n",
        "import os\n",
        "import cv2\n",
        "import numpy as np\n",
        "from PIL import Image\n",
        "import matplotlib.pyplot as plt\n",
        "from torch.utils.data import Dataset, DataLoader\n",
        "from torchvision.models.detection import FasterRCNN\n",
        "from torchvision.models.detection.rpn import AnchorGenerator\n",
        "from torchvision.models import resnet50\n",
        "import torch.nn as nn\n",
        "from torchvision.ops import MultiScaleRoIAlign, box_iou\n",
        "from torchvision.models.detection.rpn import AnchorGenerator\n",
        "from torchvision.models.detection.backbone_utils import resnet_fpn_backbone\n",
        "from torchvision.ops import MultiScaleRoIAlign\n",
        "import torch.optim as optim\n",
        "from tqdm import tqdm\n",
        "import torchvision"
      ],
      "metadata": {
        "id": "et0IrQLTRPre"
      },
      "execution_count": 2,
      "outputs": []
    },
    {
      "cell_type": "code",
      "source": [
        "BATCH_SIZE = 8\n",
        "LEARNING_RATE = 0.005\n",
        "NUM_EPOCHS = 30\n",
        "PATIENCE = 3\n",
        "MOMENTUM = 0.9\n",
        "WEIGHT_DECAY = 0.00005"
      ],
      "metadata": {
        "id": "ne52Pb-njxnQ"
      },
      "execution_count": 3,
      "outputs": []
    },
    {
      "cell_type": "code",
      "source": [
        "class Load_Dataset(Dataset):\n",
        "    def __init__(self, image_dir, label_dir, transforms=None):\n",
        "        self.image_dir = image_dir\n",
        "        self.label_dir = label_dir\n",
        "        self.transforms = transforms\n",
        "        self.valid_samples = []\n",
        "\n",
        "        for img_name in sorted(os.listdir(image_dir)):\n",
        "            if not img_name.lower().endswith(('.jpg', '.png', '.jpeg', '.tif')):\n",
        "                continue\n",
        "            label_path = os.path.join(label_dir, os.path.splitext(img_name)[0] + \".txt\")\n",
        "            if not os.path.exists(label_path):\n",
        "                continue\n",
        "            with open(label_path, 'r') as f:\n",
        "                for line in f:\n",
        "                    parts = line.strip().replace(\",\", \" \").split()\n",
        "                    if len(parts) == 4:\n",
        "                        x1, y1, x2, y2 = map(int, parts)\n",
        "                        if x2 > x1 and y2 > y1:\n",
        "                            self.valid_samples.append(img_name)\n",
        "                            break\n",
        "\n",
        "    def __len__(self):\n",
        "        return len(self.valid_samples)\n",
        "\n",
        "    def __getitem__(self, idx):\n",
        "        img_name = self.valid_samples[idx]\n",
        "        img_path = os.path.join(self.image_dir, img_name)\n",
        "        label_path = os.path.join(self.label_dir, os.path.splitext(img_name)[0] + \".txt\")\n",
        "        img = Image.open(img_path).convert(\"RGB\")\n",
        "\n",
        "        boxes = []\n",
        "        with open(label_path, 'r') as f:\n",
        "            for line in f:\n",
        "                parts = line.strip().replace(\",\", \" \").split()\n",
        "                if len(parts) == 4:\n",
        "                    x1, y1, x2, y2 = map(int, parts)\n",
        "                    if x2 > x1 and y2 > y1:\n",
        "                        boxes.append([x1, y1, x2, y2])\n",
        "\n",
        "        if self.transforms:\n",
        "            img = self.transforms(img)\n",
        "\n",
        "        boxes = torch.tensor(boxes, dtype=torch.float32)\n",
        "        labels = torch.ones((len(boxes),), dtype=torch.int64)\n",
        "        target = {'boxes': boxes, 'labels': labels}\n",
        "\n",
        "        return img, target\n"
      ],
      "metadata": {
        "id": "aUPGQx1BRQ3e"
      },
      "execution_count": 4,
      "outputs": []
    },
    {
      "cell_type": "code",
      "source": [
        "# transform = T.Compose([\n",
        "#     T.ToTensor(),\n",
        "#     T.RandomHorizontalFlip(p=0.5)\n",
        "# ])\n",
        "\n",
        "transform = torchvision.transforms.Compose([\n",
        "    torchvision.transforms.ToTensor(),\n",
        "    torchvision.transforms.RandomHorizontalFlip(p=0.5),\n",
        "    torchvision.transforms.ColorJitter(brightness=0.2, contrast=0.2, saturation=0.2),\n",
        "])\n",
        "\n",
        "train_dataset = Load_Dataset(\"iti/Computer_Vision/Day02/TrainImages\",\n",
        "                           \"iti/Computer_Vision/Day02/TrainGroundTruth\",\n",
        "                           transforms=transform)\n",
        "val_dataset = Load_Dataset(\"iti/Computer_Vision/Day02/TestImages\",\n",
        "                         \"iti/Computer_Vision/Day02/TestGroundTruth\",\n",
        "                         transforms=transform)\n",
        "\n",
        "print(f\"Train samples: {len(train_dataset)}\")\n",
        "print(f\"Validation samples: {len(val_dataset)}\")\n",
        "\n",
        "def collate_fn(batch):\n",
        "    return tuple(zip(*batch))\n",
        "\n",
        "train_loader = DataLoader(train_dataset, batch_size=BATCH_SIZE, shuffle=True, collate_fn=collate_fn)\n",
        "val_loader = DataLoader(val_dataset, batch_size=BATCH_SIZE, shuffle=False, collate_fn=collate_fn)"
      ],
      "metadata": {
        "colab": {
          "base_uri": "https://localhost:8080/"
        },
        "id": "fb1Adl8DRQ5r",
        "outputId": "515ad41d-a88d-479e-fbef-74f171af5d29"
      },
      "execution_count": 5,
      "outputs": [
        {
          "output_type": "stream",
          "name": "stdout",
          "text": [
            "Train samples: 660\n",
            "Validation samples: 115\n"
          ]
        }
      ]
    },
    {
      "cell_type": "code",
      "source": [
        "class MyFasterRCNN(nn.Module):\n",
        "    def __init__(self, num_classes=2, pretrained=True):\n",
        "        super().__init__()\n",
        "        self.backbone = resnet_fpn_backbone(\n",
        "            backbone_name='resnet50',\n",
        "            weights='ResNet50_Weights.DEFAULT' if pretrained else None,\n",
        "            trainable_layers=5\n",
        "        )\n",
        "\n",
        "        anchor_sizes = ((32,), (64,), (128,), (256,), (512,))\n",
        "        aspect_ratios = ((0.25, 0.5, 1.0, 2.0, 4.0),) * len(anchor_sizes)\n",
        "        anchor_generator = AnchorGenerator(\n",
        "            sizes=anchor_sizes,\n",
        "            aspect_ratios=aspect_ratios\n",
        "        )\n",
        "\n",
        "        roi_pooler = MultiScaleRoIAlign(\n",
        "            featmap_names=['0', '1', '2', '3'],\n",
        "            output_size=7,\n",
        "            sampling_ratio=2\n",
        "        )\n",
        "\n",
        "        self.model = FasterRCNN(\n",
        "            backbone=self.backbone,\n",
        "            num_classes=num_classes,\n",
        "            rpn_anchor_generator=anchor_generator,\n",
        "            box_roi_pool=roi_pooler,\n",
        "        )\n",
        "\n",
        "\n",
        "    def forward(self, images, targets=None):\n",
        "        return self.model(images, targets)\n",
        "\n",
        "device = torch.device(\"cuda\" if torch.cuda.is_available() else \"cpu\")\n",
        "model = MyFasterRCNN().to(device)\n",
        "# optimizer = optim.SGD(model.parameters(), lr=LEARNING_RATE, momentum=MOMENTUM, weight_decay=WEIGHT_DECAY)\n",
        "\n",
        "optimizer = optim.SGD(\n",
        "    model.parameters(),\n",
        "    lr=0.005,  # Initial learning rate\n",
        "    momentum=0.9,\n",
        "    weight_decay=0.0005,\n",
        "    nesterov=True  # Nesterov momentum for better convergence\n",
        ")\n",
        "\n",
        "# Learning rate scheduler\n",
        "scheduler = optim.lr_scheduler.MultiStepLR(\n",
        "    optimizer,\n",
        "    milestones=[8, 11],  # Reduce LR at these epochs\n",
        "    gamma=0.1\n",
        ")\n"
      ],
      "metadata": {
        "id": "A85wr_QrQjuv"
      },
      "execution_count": 6,
      "outputs": []
    },
    {
      "cell_type": "code",
      "source": [
        "# class MyFasterRCNN(nn.Module):\n",
        "#     def __init__(self, num_classes=2):\n",
        "#         super().__init__()\n",
        "#         backbone = resnet50(weights=None)\n",
        "#         self.backbone = nn.Sequential(*list(backbone.children())[:-2])\n",
        "#         self.backbone.out_channels = 2048\n",
        "\n",
        "#         anchor_generator = AnchorGenerator(\n",
        "#             sizes=((32, 64, 128, 256, 512),),\n",
        "#             aspect_ratios=((0.5, 1.0, 2.0),)\n",
        "#         )\n",
        "\n",
        "#         roi_pooler = MultiScaleRoIAlign(\n",
        "#             featmap_names=['0'],\n",
        "#             output_size=7,\n",
        "#             sampling_ratio=2\n",
        "#         )\n",
        "\n",
        "#         self.model = FasterRCNN(\n",
        "#             backbone=self.backbone,\n",
        "#             num_classes=num_classes,\n",
        "#             rpn_anchor_generator=anchor_generator,\n",
        "#             box_roi_pool=roi_pooler,\n",
        "#         )\n",
        "\n",
        "#     def forward(self, images, targets=None):\n",
        "#         return self.model(images, targets)\n",
        "\n",
        "# device = torch.device(\"cuda\" if torch.cuda.is_available() else \"cpu\")\n",
        "# model = MyFasterRCNN().to(device)\n",
        "# optimizer = optim.SGD(model.parameters(), lr=LEARNING_RATE, momentum=MOMENTUM, weight_decay=WEIGHT_DECAY)"
      ],
      "metadata": {
        "id": "U30QzF8PRQ8E"
      },
      "execution_count": 7,
      "outputs": []
    },
    {
      "cell_type": "code",
      "source": [
        "def train_one_epoch(model, optimizer, data_loader, device):\n",
        "    model.train()\n",
        "    total_loss = 0\n",
        "    for images, targets in tqdm(data_loader, desc=\"Training\"):\n",
        "        if not images or not targets:\n",
        "            continue\n",
        "\n",
        "        images = [img.to(device) for img in images]\n",
        "        targets = [{k: v.to(device) for k, v in t.items()} for t in targets]\n",
        "\n",
        "        optimizer.zero_grad()\n",
        "        loss_dict = model(images, targets)\n",
        "        losses = sum(loss for loss in loss_dict.values())\n",
        "        losses.backward()\n",
        "        optimizer.step()\n",
        "        total_loss += losses.item()\n",
        "    return total_loss / len(data_loader)"
      ],
      "metadata": {
        "id": "L3_f9XHHRQ-T"
      },
      "execution_count": 8,
      "outputs": []
    },
    {
      "cell_type": "code",
      "source": [
        "def validate(model, data_loader, device):\n",
        "    model.train()\n",
        "    val_loss = 0\n",
        "    with torch.no_grad():\n",
        "        for images, targets in tqdm(data_loader, desc=\"Validating\"):\n",
        "            if not images or not targets:\n",
        "                continue\n",
        "\n",
        "            images = [img.to(device) for img in images]\n",
        "            targets = [{k: v.to(device) for k, v in t.items()} for t in targets]\n",
        "\n",
        "            loss_dict = model(images, targets)\n",
        "\n",
        "            losses = sum(loss for loss in loss_dict.values())\n",
        "            val_loss += losses.item()\n",
        "\n",
        "    model.eval()\n",
        "    return val_loss / len(data_loader) if len(data_loader) > 0 else 0"
      ],
      "metadata": {
        "id": "eqd_L95BRRAw"
      },
      "execution_count": 9,
      "outputs": []
    },
    {
      "cell_type": "code",
      "source": [
        "def evaluate_model(model, data_loader, device, iou_threshold=0.5):\n",
        "    model.eval()\n",
        "    total_acc = 0\n",
        "    total_images = 0\n",
        "\n",
        "    def compute_iou(pred_boxes, gt_boxes):\n",
        "        if len(gt_boxes) == 0:\n",
        "            return 1.0 if len(pred_boxes) == 0 else 0.0\n",
        "        if len(pred_boxes) == 0:\n",
        "            return 0.0\n",
        "        ious = box_iou(pred_boxes, gt_boxes)\n",
        "        matched_gt = set()\n",
        "        correct = 0\n",
        "        for i in range(len(pred_boxes)):\n",
        "            max_iou, max_j = ious[i].max(0)\n",
        "            if max_iou.item() > iou_threshold and max_j.item() not in matched_gt:\n",
        "                matched_gt.add(max_j.item())\n",
        "                correct += 1\n",
        "        return correct / len(gt_boxes)\n",
        "\n",
        "    with torch.no_grad():\n",
        "        for images, targets in tqdm(data_loader, desc=\"Evaluating\"):\n",
        "            images = [img.to(device) for img in images]\n",
        "            outputs = model(images)\n",
        "            for output, target in zip(outputs, targets):\n",
        "                pred_boxes = output[\"boxes\"].cpu()\n",
        "                gt_boxes = target[\"boxes\"].cpu()\n",
        "                acc = compute_iou(pred_boxes, gt_boxes)\n",
        "                total_acc += acc\n",
        "                total_images += 1\n",
        "\n",
        "    return total_acc / total_images if total_images > 0 else 0\n"
      ],
      "metadata": {
        "id": "UVpyS_5aRRCw"
      },
      "execution_count": 10,
      "outputs": []
    },
    {
      "cell_type": "code",
      "source": [
        "train_losses = []\n",
        "val_losses = []\n",
        "best_loss = float('inf')\n",
        "counter = 0\n",
        "\n",
        "for epoch in range(NUM_EPOCHS):\n",
        "    train_loss = train_one_epoch(model, optimizer, train_loader, device)\n",
        "    train_losses.append(train_loss)\n",
        "    val_loss = validate(model, val_loader, device)\n",
        "    val_losses.append(val_loss)\n",
        "\n",
        "    print(f\"Epoch {epoch+1}/{NUM_EPOCHS} - Train Loss: {train_loss:.4f}, Val Loss: {val_loss:.4f}, LR: {optimizer.param_groups[0]['lr']:.6f}\")\n",
        "\n",
        "    if val_loss < best_loss:\n",
        "        best_loss = val_loss\n",
        "        counter = 0\n",
        "        torch.save(model.state_dict(), 'iti/Computer_Vision/Day02/best_model.pth')\n",
        "        print(\"Saved new best model\")\n",
        "    else:\n",
        "        counter += 1\n",
        "        print(f\"No improvement for {counter} epoch(s)\")\n",
        "        if counter >= PATIENCE:\n",
        "            print(f\"Early stopping triggered after {epoch+1} epochs.\")\n",
        "            break"
      ],
      "metadata": {
        "colab": {
          "base_uri": "https://localhost:8080/"
        },
        "id": "ksjYJI7uRRFk",
        "outputId": "7ae0ebc7-2784-42e9-a10b-1699f6f51669"
      },
      "execution_count": null,
      "outputs": [
        {
          "output_type": "stream",
          "name": "stderr",
          "text": [
            "Training: 100%|██████████| 83/83 [03:11<00:00,  2.31s/it]\n",
            "Validating: 100%|██████████| 15/15 [00:16<00:00,  1.10s/it]\n"
          ]
        },
        {
          "output_type": "stream",
          "name": "stdout",
          "text": [
            "Epoch 1/30 - Train Loss: 0.1990, Val Loss: 0.1511, LR: 0.005000\n",
            "Saved new best model\n"
          ]
        },
        {
          "output_type": "stream",
          "name": "stderr",
          "text": [
            "Training: 100%|██████████| 83/83 [03:06<00:00,  2.25s/it]\n",
            "Validating: 100%|██████████| 15/15 [00:16<00:00,  1.10s/it]\n"
          ]
        },
        {
          "output_type": "stream",
          "name": "stdout",
          "text": [
            "Epoch 2/30 - Train Loss: 0.1670, Val Loss: 0.1665, LR: 0.005000\n",
            "No improvement for 1 epoch(s)\n"
          ]
        },
        {
          "output_type": "stream",
          "name": "stderr",
          "text": [
            "Training:  29%|██▉       | 24/83 [00:54<02:14,  2.28s/it]"
          ]
        }
      ]
    },
    {
      "cell_type": "code",
      "source": [
        "def plot_losses(train_losses, val_losses):\n",
        "    plt.figure(figsize=(10, 5))\n",
        "    plt.plot(train_losses, label='Training Loss')\n",
        "    plt.plot(val_losses, label='Validation Loss')\n",
        "    plt.xlabel('Epochs')\n",
        "    plt.ylabel('Loss')\n",
        "    plt.title('Training and Validation Loss Curves')\n",
        "    plt.legend()\n",
        "    plt.grid(True)\n",
        "    plt.show()\n",
        "\n",
        "plot_losses(train_losses, val_losses)"
      ],
      "metadata": {
        "id": "G4wTITIFRPwO",
        "colab": {
          "base_uri": "https://localhost:8080/",
          "height": 185
        },
        "outputId": "489f3188-0907-4251-fcb6-1f72f97665a3"
      },
      "execution_count": 1,
      "outputs": [
        {
          "output_type": "error",
          "ename": "NameError",
          "evalue": "name 'train_losses' is not defined",
          "traceback": [
            "\u001b[0;31m---------------------------------------------------------------------------\u001b[0m",
            "\u001b[0;31mNameError\u001b[0m                                 Traceback (most recent call last)",
            "\u001b[0;32m<ipython-input-1-6dd3005b117e>\u001b[0m in \u001b[0;36m<cell line: 0>\u001b[0;34m()\u001b[0m\n\u001b[1;32m     10\u001b[0m     \u001b[0mplt\u001b[0m\u001b[0;34m.\u001b[0m\u001b[0mshow\u001b[0m\u001b[0;34m(\u001b[0m\u001b[0;34m)\u001b[0m\u001b[0;34m\u001b[0m\u001b[0;34m\u001b[0m\u001b[0m\n\u001b[1;32m     11\u001b[0m \u001b[0;34m\u001b[0m\u001b[0m\n\u001b[0;32m---> 12\u001b[0;31m \u001b[0mplot_losses\u001b[0m\u001b[0;34m(\u001b[0m\u001b[0mtrain_losses\u001b[0m\u001b[0;34m,\u001b[0m \u001b[0mval_losses\u001b[0m\u001b[0;34m)\u001b[0m\u001b[0;34m\u001b[0m\u001b[0;34m\u001b[0m\u001b[0m\n\u001b[0m",
            "\u001b[0;31mNameError\u001b[0m: name 'train_losses' is not defined"
          ]
        }
      ]
    },
    {
      "cell_type": "code",
      "source": [
        "model.load_state_dict(torch.load(\"iti/Computer_Vision/Day02/best_model.pth\"))\n",
        "accuracy = evaluate_model(model, val_loader, device, iou_threshold=0.5)\n",
        "print(f\"Model Accuracy (IoU > 0.5): {accuracy:.4f}\")"
      ],
      "metadata": {
        "id": "mAU03u7luuXU"
      },
      "execution_count": null,
      "outputs": []
    },
    {
      "cell_type": "code",
      "source": [
        "def visualize_predictions(model, image_dir, num_images=5):\n",
        "    model.eval()\n",
        "    image_files = sorted([f for f in os.listdir(image_dir) if f.endswith(('.jpg', '.png', '.tif'))])[:num_images]\n",
        "\n",
        "    for img_name in image_files:\n",
        "        img_path = os.path.join(image_dir, img_name)\n",
        "        img = Image.open(img_path).convert(\"RGB\")\n",
        "        img_tensor = transform(img).unsqueeze(0).to(device)\n",
        "\n",
        "        with torch.no_grad():\n",
        "            prediction = model(img_tensor)\n",
        "\n",
        "        img_np = np.array(img)\n",
        "        for box in prediction[0]['boxes'].cpu().numpy():\n",
        "            x1, y1, x2, y2 = map(int, box)\n",
        "            cv2.rectangle(img_np, (x1, y1), (x2, y2), (0, 255, 0), 2)\n",
        "\n",
        "        plt.figure(figsize=(12, 8))\n",
        "        plt.imshow(img_np)\n",
        "        plt.axis('off')\n",
        "        plt.title(f'Predictions: {img_name}')\n",
        "        plt.show()\n",
        "\n",
        "visualize_predictions(model, \"iti/Computer_Vision/Day02/TestImages\")"
      ],
      "metadata": {
        "id": "8vd_CUoAkfYD"
      },
      "execution_count": null,
      "outputs": []
    }
  ]
}