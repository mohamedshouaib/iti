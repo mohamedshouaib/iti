{
  "cells": [
    {
      "cell_type": "markdown",
      "metadata": {
        "id": "view-in-github",
        "colab_type": "text"
      },
      "source": [
        "<a href=\"https://colab.research.google.com/github/mohamedshouaib/iti/blob/main/DeepLearning/MLP/bonus.ipynb\" target=\"_parent\"><img src=\"https://colab.research.google.com/assets/colab-badge.svg\" alt=\"Open In Colab\"/></a>"
      ]
    },
    {
      "cell_type": "markdown",
      "id": "e6911b7d-415a-43d2-83aa-2aeabecdeb24",
      "metadata": {
        "id": "e6911b7d-415a-43d2-83aa-2aeabecdeb24"
      },
      "source": [
        "# Exercise"
      ]
    },
    {
      "cell_type": "markdown",
      "id": "26de9d7a-a022-45c8-95e6-cb9c71403336",
      "metadata": {
        "id": "26de9d7a-a022-45c8-95e6-cb9c71403336"
      },
      "source": [
        "Select a regression dataset you used in a previous course and train an MLP to fit the data. Create a table comparing the results obtained in the previous course with those obtained using the MLP. A portion of the score is dedicated to achieving better performance with the MLP compared to the results from the previous course."
      ]
    },
    {
      "cell_type": "code",
      "execution_count": null,
      "id": "70f71577",
      "metadata": {
        "id": "70f71577"
      },
      "outputs": [],
      "source": [
        "import numpy as np\n",
        "import pandas as pd\n",
        "import torch\n",
        "import torch.nn as nn\n",
        "from sklearn.datasets import fetch_california_housing\n",
        "from sklearn.model_selection import train_test_split\n",
        "from sklearn.preprocessing import StandardScaler\n",
        "from sklearn.linear_model import LinearRegression, Ridge\n",
        "from sklearn.metrics import mean_squared_error, r2_score"
      ]
    },
    {
      "cell_type": "code",
      "execution_count": null,
      "id": "bb41d6ec",
      "metadata": {
        "id": "bb41d6ec"
      },
      "outputs": [],
      "source": [
        "data = fetch_california_housing()\n",
        "X, y = data.data, data.target"
      ]
    },
    {
      "cell_type": "code",
      "execution_count": null,
      "id": "1cbe94b6",
      "metadata": {
        "id": "1cbe94b6"
      },
      "outputs": [],
      "source": [
        "X_train, X_test, y_train, y_test = train_test_split(X, y, test_size=0.2)"
      ]
    },
    {
      "cell_type": "code",
      "execution_count": null,
      "id": "3a2ab03b",
      "metadata": {
        "id": "3a2ab03b"
      },
      "outputs": [],
      "source": [
        "scaler = StandardScaler()\n",
        "X_train = scaler.fit_transform(X_train)\n",
        "X_test = scaler.transform(X_test)"
      ]
    },
    {
      "cell_type": "code",
      "execution_count": null,
      "id": "8e5f1d5a",
      "metadata": {
        "id": "8e5f1d5a"
      },
      "outputs": [],
      "source": [
        "X_train_t = torch.FloatTensor(X_train)\n",
        "y_train_t = torch.FloatTensor(y_train).view(-1, 1)\n",
        "X_test_t = torch.FloatTensor(X_test)\n",
        "y_test_t = torch.FloatTensor(y_test).view(-1, 1)"
      ]
    },
    {
      "cell_type": "code",
      "execution_count": null,
      "id": "445a9cf4",
      "metadata": {
        "id": "445a9cf4"
      },
      "outputs": [],
      "source": [
        "# Linear Regression\n",
        "lr = LinearRegression()\n",
        "lr.fit(X_train, y_train)\n",
        "y_pred_lr = lr.predict(X_test)\n",
        "mse_lr = mean_squared_error(y_test, y_pred_lr)\n",
        "r2_lr = r2_score(y_test, y_pred_lr)\n",
        "\n",
        "# Ridge Regression (L2 regularization)\n",
        "ridge = Ridge(alpha=1.0)\n",
        "ridge.fit(X_train, y_train)\n",
        "y_pred_ridge = ridge.predict(X_test)\n",
        "mse_ridge = mean_squared_error(y_test, y_pred_ridge)\n",
        "r2_ridge = r2_score(y_test, y_pred_ridge)"
      ]
    },
    {
      "cell_type": "code",
      "execution_count": null,
      "id": "78d1755b",
      "metadata": {
        "id": "78d1755b"
      },
      "outputs": [],
      "source": [
        "class MLP(nn.Module):\n",
        "    def __init__(self, input_dim=8):\n",
        "        super().__init__()\n",
        "        self.net = nn.Sequential(\n",
        "            nn.Linear(input_dim, 64),\n",
        "            nn.ReLU(),\n",
        "            nn.Linear(64, 32),\n",
        "            nn.ReLU(),\n",
        "            nn.Linear(32, 1)\n",
        "        )\n",
        "\n",
        "    def forward(self, x):\n",
        "        return self.net(x)\n",
        "\n",
        "model = MLP()\n",
        "criterion = nn.MSELoss()\n",
        "optimizer = torch.optim.Adam(model.parameters(), lr=0.001)\n"
      ]
    },
    {
      "cell_type": "code",
      "execution_count": null,
      "id": "0dd62099",
      "metadata": {
        "id": "0dd62099"
      },
      "outputs": [],
      "source": [
        "epochs = 500\n",
        "for epoch in range(epochs):\n",
        "    optimizer.zero_grad()\n",
        "    outputs = model(X_train_t)\n",
        "    loss = criterion(outputs, y_train_t)\n",
        "    loss.backward()\n",
        "    optimizer.step()\n",
        "\n",
        "with torch.no_grad():\n",
        "    y_pred_mlp = model(X_test_t).numpy()\n",
        "mse_mlp = mean_squared_error(y_test, y_pred_mlp)\n",
        "r2_mlp = r2_score(y_test, y_pred_mlp)"
      ]
    },
    {
      "cell_type": "code",
      "execution_count": null,
      "id": "8fa8c684",
      "metadata": {
        "id": "8fa8c684",
        "outputId": "effde34d-5938-4e44-a6d5-41bfb68d1c5d"
      },
      "outputs": [
        {
          "name": "stdout",
          "output_type": "stream",
          "text": [
            "               Model       MSE        R²\n",
            "0  Linear Regression  0.566780  0.583067\n",
            "1   Ridge Regression  0.566772  0.583073\n",
            "2   MLP (Neural Net)  0.363218  0.732811\n"
          ]
        }
      ],
      "source": [
        "results = {\n",
        "    \"Model\": [\"Linear Regression\", \"Ridge Regression\", \"MLP (Neural Net)\"],\n",
        "    \"MSE\": [mse_lr, mse_ridge, mse_mlp],\n",
        "    \"R²\": [r2_lr, r2_ridge, r2_mlp]\n",
        "}\n",
        "\n",
        "results_df = pd.DataFrame(results)\n",
        "print(results_df)"
      ]
    }
  ],
  "metadata": {
    "kernelspec": {
      "display_name": "base",
      "language": "python",
      "name": "python3"
    },
    "language_info": {
      "codemirror_mode": {
        "name": "ipython",
        "version": 3
      },
      "file_extension": ".py",
      "mimetype": "text/x-python",
      "name": "python",
      "nbconvert_exporter": "python",
      "pygments_lexer": "ipython3",
      "version": "3.12.7"
    },
    "colab": {
      "provenance": [],
      "include_colab_link": true
    }
  },
  "nbformat": 4,
  "nbformat_minor": 5
}