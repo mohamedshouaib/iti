{
 "cells": [
  {
   "cell_type": "markdown",
   "metadata": {},
   "source": [
    "# Data preparation"
   ]
  },
  {
   "cell_type": "markdown",
   "metadata": {},
   "source": [
    "In this assignment, we'll use the dataset and data preparation used in [Hands-on Machine Learning with Scikit-Learn, Keras and TensorFlow](https://github.com/ageron/handson-ml3/blob/main/15_processing_sequences_using_rnns_and_cnns.ipynb) book."
   ]
  },
  {
   "cell_type": "code",
   "execution_count": null,
   "metadata": {
    "colab": {
     "base_uri": "https://localhost:8080/"
    },
    "id": "9TyyHVJvdi5A",
    "outputId": "26df97fc-5418-4e66-e14e-5a4c859a3ec9"
   },
   "outputs": [],
   "source": [
    "!wget https://github.com/ageron/data/raw/main/ridership.tgz"
   ]
  },
  {
   "cell_type": "code",
   "execution_count": null,
   "metadata": {
    "id": "coBtEEBEdqq2"
   },
   "outputs": [],
   "source": [
    "!tar -xf ridership.tgz"
   ]
  },
  {
   "cell_type": "code",
   "execution_count": null,
   "metadata": {
    "id": "cP_G1ZhSduOO"
   },
   "outputs": [],
   "source": [
    "import pandas as pd\n",
    "df = pd.read_csv(\"ridership/CTA_-_Ridership_-_Daily_Boarding_Totals.csv\", parse_dates=[\"service_date\"])\n",
    "df.columns = [\"date\", \"day_type\", \"bus\", \"rail\", \"total\"] # shorter names\n",
    "df = df.sort_values(\"date\").set_index(\"date\")\n",
    "df = df.drop(\"total\", axis=1) # no need for total, it's just bus + rail\n",
    "df = df.drop_duplicates() # remove duplicated months (2011-10 and 2014-07)"
   ]
  },
  {
   "cell_type": "code",
   "execution_count": null,
   "metadata": {
    "colab": {
     "base_uri": "https://localhost:8080/",
     "height": 238
    },
    "id": "HZYguymud3A3",
    "outputId": "8f3f393e-445c-4580-b09a-e55bda5ae12b"
   },
   "outputs": [],
   "source": [
    "df.head()"
   ]
  },
  {
   "cell_type": "code",
   "execution_count": null,
   "metadata": {
    "colab": {
     "base_uri": "https://localhost:8080/",
     "height": 365
    },
    "id": "JonPYm5CeGlz",
    "outputId": "1d18dadc-90e5-4cd5-967f-a08cf28a79d3"
   },
   "outputs": [],
   "source": [
    "import matplotlib.pyplot as plt\n",
    "df[\"2019-03\":\"2019-05\"].plot(grid=True, marker=\".\", figsize=(8, 3.5))\n",
    "plt.show()"
   ]
  },
  {
   "cell_type": "code",
   "execution_count": null,
   "metadata": {
    "id": "3-bPyMLXeb2z"
   },
   "outputs": [],
   "source": [
    "rail_train = df[\"rail\"][\"2016-01\":\"2018-12\"] / 1e6\n",
    "rail_valid = df[\"rail\"][\"2019-01\":\"2019-05\"] / 1e6\n",
    "rail_test = df[\"rail\"][\"2019-06\":] / 1e6"
   ]
  },
  {
   "cell_type": "markdown",
   "metadata": {},
   "source": [
    "# Exercise\n",
    "\n",
    "You're task to model the rail's sequences. The data is split into train, validation and test. Each example consists of 57 consective time steps where the first 56 steps are the input and the last time step is the output. For each model you should report the MSE, RMSE and MAE.\n",
    "\n",
    "The required models:\n",
    "* MLP\n",
    "* RNN\n",
    "* GRU\n",
    "* Transformer encoder\n",
    "\n",
    "\n",
    "## Deliverables\n",
    "* The code.\n",
    "* Table summarizing the hyperparameters and the result.\n",
    "* A brief write-up describing the experiment, results, and analysis."
   ]
  },
  {
   "cell_type": "code",
   "execution_count": null,
   "metadata": {},
   "outputs": [],
   "source": []
  }
 ],
 "metadata": {
  "colab": {
   "provenance": []
  },
  "kernelspec": {
   "display_name": "Python 3 (ipykernel)",
   "language": "python",
   "name": "python3"
  },
  "language_info": {
   "codemirror_mode": {
    "name": "ipython",
    "version": 3
   },
   "file_extension": ".py",
   "mimetype": "text/x-python",
   "name": "python",
   "nbconvert_exporter": "python",
   "pygments_lexer": "ipython3",
   "version": "3.11.11"
  }
 },
 "nbformat": 4,
 "nbformat_minor": 4
}
