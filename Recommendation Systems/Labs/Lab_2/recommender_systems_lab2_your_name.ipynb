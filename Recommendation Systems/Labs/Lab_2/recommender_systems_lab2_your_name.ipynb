{
  "cells": [
    {
      "cell_type": "markdown",
      "metadata": {
        "id": "a-8AE1rcoUE6"
      },
      "source": [
        "$$ ITI \\space AI-Pro: \\space Intake \\space 45 $$\n",
        "$$ Recommender \\space Systems $$\n",
        "$$ Lab \\space no. \\space 2 $$"
      ]
    },
    {
      "cell_type": "markdown",
      "metadata": {
        "id": "-5DysE0zoUFA"
      },
      "source": [
        "# `01` Import Necessary Libraries"
      ]
    },
    {
      "cell_type": "markdown",
      "metadata": {
        "id": "knG5dnP7oUFB"
      },
      "source": [
        "## `i` Default Libraries"
      ]
    },
    {
      "cell_type": "code",
      "execution_count": null,
      "metadata": {
        "id": "2ka2hsQPoUFB"
      },
      "outputs": [],
      "source": [
        "import numpy as np\n",
        "import pandas as pd\n",
        "from surprise.reader import Reader\n",
        "from surprise.dataset import Dataset\n",
        "from surprise.model_selection import train_test_split\n",
        "from surprise.prediction_algorithms.knns import KNNWithMeans"
      ]
    },
    {
      "cell_type": "markdown",
      "metadata": {
        "id": "RCmRe4wBoUFD"
      },
      "source": [
        "## `ii` Additional Libraries\n",
        "Add imports for additional libraries you used throughout the notebook"
      ]
    },
    {
      "cell_type": "code",
      "execution_count": null,
      "metadata": {
        "id": "fHxX_AIjoUFD"
      },
      "outputs": [],
      "source": []
    },
    {
      "cell_type": "markdown",
      "metadata": {
        "id": "bBYJiB8yoUFE"
      },
      "source": [
        "----------------------------\n",
        "\n",
        "# `02` Load Data\n",
        "\n",
        " The dataset will have the following columns :\n",
        "   - song_id (String) : Unique identified for the song\n",
        "   - user_id (String) : Unique identifier for the user\n",
        "   - song_genre (Integer) : An integer representing a genre for the song, value is between 1 and 5, indicating that there are 5 unique genres. Each song can only have 1 genre\n",
        "   - artist_id (String) : Unique identifier for the author of the song\n",
        "   - n_listen (Integer) : The number of times this user has heard the song (0 -> 15)\n",
        "   - publish_year (Integer) : The year of song publishing"
      ]
    },
    {
      "cell_type": "code",
      "execution_count": null,
      "metadata": {
        "id": "VVOMWeL3oUFE",
        "outputId": "0e818502-1154-431a-ad5e-943186545b00"
      },
      "outputs": [
        {
          "data": {
            "text/html": [
              "<div>\n",
              "<style scoped>\n",
              "    .dataframe tbody tr th:only-of-type {\n",
              "        vertical-align: middle;\n",
              "    }\n",
              "\n",
              "    .dataframe tbody tr th {\n",
              "        vertical-align: top;\n",
              "    }\n",
              "\n",
              "    .dataframe thead th {\n",
              "        text-align: right;\n",
              "    }\n",
              "</style>\n",
              "<table border=\"1\" class=\"dataframe\">\n",
              "  <thead>\n",
              "    <tr style=\"text-align: right;\">\n",
              "      <th></th>\n",
              "      <th>song_id</th>\n",
              "      <th>artist_id</th>\n",
              "      <th>song_genre</th>\n",
              "      <th>user_id</th>\n",
              "      <th>n_listen</th>\n",
              "      <th>publish_year</th>\n",
              "    </tr>\n",
              "  </thead>\n",
              "  <tbody>\n",
              "    <tr>\n",
              "      <th>0</th>\n",
              "      <td>537</td>\n",
              "      <td>368</td>\n",
              "      <td>4</td>\n",
              "      <td>2066</td>\n",
              "      <td>13</td>\n",
              "      <td>2002</td>\n",
              "    </tr>\n",
              "    <tr>\n",
              "      <th>1</th>\n",
              "      <td>921</td>\n",
              "      <td>107</td>\n",
              "      <td>1</td>\n",
              "      <td>1179</td>\n",
              "      <td>5</td>\n",
              "      <td>2006</td>\n",
              "    </tr>\n",
              "    <tr>\n",
              "      <th>2</th>\n",
              "      <td>352</td>\n",
              "      <td>188</td>\n",
              "      <td>1</td>\n",
              "      <td>1468</td>\n",
              "      <td>11</td>\n",
              "      <td>2013</td>\n",
              "    </tr>\n",
              "    <tr>\n",
              "      <th>3</th>\n",
              "      <td>853</td>\n",
              "      <td>370</td>\n",
              "      <td>4</td>\n",
              "      <td>460</td>\n",
              "      <td>9</td>\n",
              "      <td>2020</td>\n",
              "    </tr>\n",
              "    <tr>\n",
              "      <th>4</th>\n",
              "      <td>479</td>\n",
              "      <td>408</td>\n",
              "      <td>2</td>\n",
              "      <td>1125</td>\n",
              "      <td>3</td>\n",
              "      <td>2020</td>\n",
              "    </tr>\n",
              "  </tbody>\n",
              "</table>\n",
              "</div>"
            ],
            "text/plain": [
              "   song_id  artist_id  song_genre  user_id  n_listen  publish_year\n",
              "0      537        368           4     2066        13          2002\n",
              "1      921        107           1     1179         5          2006\n",
              "2      352        188           1     1468        11          2013\n",
              "3      853        370           4      460         9          2020\n",
              "4      479        408           2     1125         3          2020"
            ]
          },
          "execution_count": 20,
          "metadata": {},
          "output_type": "execute_result"
        }
      ],
      "source": [
        "data = pd.read_csv(\"Data/songs_data.csv\")\n",
        "data.head()"
      ]
    },
    {
      "cell_type": "markdown",
      "metadata": {
        "id": "vtA_xwXIoUFF"
      },
      "source": [
        "--------------------------\n",
        "\n",
        "# `03` Content-based Filtering\n",
        "\n",
        "Practice for content-based filtering on dummy data"
      ]
    },
    {
      "cell_type": "markdown",
      "metadata": {
        "id": "YYweuJ22oUFF"
      },
      "source": [
        "## `i` Feature Engineering/Selection\n",
        "Construct the item vector representation matrix from the `data` above"
      ]
    },
    {
      "cell_type": "code",
      "execution_count": null,
      "metadata": {
        "id": "m2JhA3QloUFF"
      },
      "outputs": [],
      "source": []
    },
    {
      "cell_type": "markdown",
      "metadata": {
        "id": "b1a5UYKfoUFG"
      },
      "source": [
        "## `ii` Utility Matrix\n",
        "Construct utility matrix for the loaded dataframe `data`"
      ]
    },
    {
      "cell_type": "code",
      "execution_count": null,
      "metadata": {
        "id": "Y5UFAGL2oUFG"
      },
      "outputs": [],
      "source": []
    },
    {
      "cell_type": "markdown",
      "metadata": {
        "id": "E0j1DPNfoUFG"
      },
      "source": [
        "## `iii` Item-Item Similarity Matrix\n",
        "\n",
        "Construct item-item (Cosine/Adjusted Cosine) similarity matrix."
      ]
    },
    {
      "cell_type": "code",
      "execution_count": null,
      "metadata": {
        "id": "TifUw2iwoUFG"
      },
      "outputs": [],
      "source": []
    },
    {
      "cell_type": "markdown",
      "metadata": {
        "id": "QytUxbcwoUFG"
      },
      "source": [
        "## `iv` Top-K Candidate Generation\n",
        "\n",
        "Selet top-K (a k of your choice) similar items for each item (a user of your choice) rated from the similarity matrix above."
      ]
    },
    {
      "cell_type": "code",
      "execution_count": null,
      "metadata": {
        "id": "GMkQPTrcoUFH"
      },
      "outputs": [],
      "source": []
    },
    {
      "cell_type": "markdown",
      "metadata": {
        "id": "50gzumBIoUFH"
      },
      "source": [
        "## `v` Candidate Filtering\n",
        "\n",
        "Filter out items (your user) has rated from the candidates above."
      ]
    },
    {
      "cell_type": "code",
      "execution_count": null,
      "metadata": {
        "id": "8XQNIczDoUFH"
      },
      "outputs": [],
      "source": []
    },
    {
      "cell_type": "markdown",
      "metadata": {
        "id": "k4m4gLeioUFH"
      },
      "source": [
        "## `vi` Candidate Rating Prediction\n",
        "\n",
        "Calculate the predicted rating for each of the candidate items."
      ]
    },
    {
      "cell_type": "code",
      "execution_count": null,
      "metadata": {
        "id": "SeBESPnIoUFH"
      },
      "outputs": [],
      "source": []
    },
    {
      "cell_type": "markdown",
      "metadata": {
        "id": "DXKSCyP1oUFH"
      },
      "source": [
        "--------------------------\n",
        "\n",
        "# `04` KNN Item-based Colaborative Filtering\n",
        "\n",
        "Practice for Using Scikit Surprise Library"
      ]
    },
    {
      "cell_type": "markdown",
      "metadata": {
        "id": "jFYKJJZHoUFI"
      },
      "source": [
        "## `i` Data Loading\n",
        "\n",
        "Load `songsDataset.csv` file into a dataframe"
      ]
    },
    {
      "cell_type": "code",
      "execution_count": null,
      "metadata": {
        "id": "9xL-bPu6oUFI",
        "outputId": "a4ec1d50-9c7f-4884-c257-fcf082ef780c"
      },
      "outputs": [
        {
          "data": {
            "text/html": [
              "<div>\n",
              "<style scoped>\n",
              "    .dataframe tbody tr th:only-of-type {\n",
              "        vertical-align: middle;\n",
              "    }\n",
              "\n",
              "    .dataframe tbody tr th {\n",
              "        vertical-align: top;\n",
              "    }\n",
              "\n",
              "    .dataframe thead th {\n",
              "        text-align: right;\n",
              "    }\n",
              "</style>\n",
              "<table border=\"1\" class=\"dataframe\">\n",
              "  <thead>\n",
              "    <tr style=\"text-align: right;\">\n",
              "      <th></th>\n",
              "      <th>userID</th>\n",
              "      <th>songID</th>\n",
              "      <th>rating</th>\n",
              "    </tr>\n",
              "  </thead>\n",
              "  <tbody>\n",
              "    <tr>\n",
              "      <th>0</th>\n",
              "      <td>0</td>\n",
              "      <td>90409</td>\n",
              "      <td>5</td>\n",
              "    </tr>\n",
              "    <tr>\n",
              "      <th>1</th>\n",
              "      <td>4</td>\n",
              "      <td>91266</td>\n",
              "      <td>1</td>\n",
              "    </tr>\n",
              "    <tr>\n",
              "      <th>2</th>\n",
              "      <td>5</td>\n",
              "      <td>8063</td>\n",
              "      <td>2</td>\n",
              "    </tr>\n",
              "    <tr>\n",
              "      <th>3</th>\n",
              "      <td>5</td>\n",
              "      <td>24427</td>\n",
              "      <td>4</td>\n",
              "    </tr>\n",
              "    <tr>\n",
              "      <th>4</th>\n",
              "      <td>5</td>\n",
              "      <td>105433</td>\n",
              "      <td>4</td>\n",
              "    </tr>\n",
              "  </tbody>\n",
              "</table>\n",
              "</div>"
            ],
            "text/plain": [
              "   userID  songID  rating\n",
              "0       0   90409       5\n",
              "1       4   91266       1\n",
              "2       5    8063       2\n",
              "3       5   24427       4\n",
              "4       5  105433       4"
            ]
          },
          "execution_count": 61,
          "metadata": {},
          "output_type": "execute_result"
        }
      ],
      "source": [
        "df = pd.read_csv('Data/songsDataset.csv')\n",
        "df.head()"
      ]
    },
    {
      "cell_type": "markdown",
      "metadata": {
        "id": "Vkb8kiLfoUFI"
      },
      "source": [
        "## `ii` Prepare Data\n",
        "\n",
        "Procedures to Follow:\n",
        "- Instantiate the Reader Object (see, [Documentation](https://surprise.readthedocs.io/en/stable/reader.html))\n",
        "- Load the Data into `surprise.dataset.Dataset` (see, [Documentation](https://surprise.readthedocs.io/en/stable/dataset.html))\n",
        "- Build the full (i.e. without folds) `surprise.Trainset` (see, [Documentation](https://surprise.readthedocs.io/en/stable/trainset.html#:~:text=It%20is%20used%20by%20the%20fit()%20method%20of%20every%20prediction%20algorithm.%20You%20should%20not%20try%20to%20build%20such%20an%20object%20on%20your%20own%20but%20rather%20use%20the%20Dataset.folds()%20method%20or%20the%20DatasetAutoFolds.build_full_trainset()%20method.))"
      ]
    },
    {
      "cell_type": "code",
      "execution_count": null,
      "metadata": {
        "id": "gmLTkofQoUFI"
      },
      "outputs": [],
      "source": [
        "reader = None"
      ]
    },
    {
      "cell_type": "code",
      "execution_count": null,
      "metadata": {
        "id": "h79A2pn0oUFJ",
        "outputId": "901c8a21-5c38-48bc-815f-41f601abda23"
      },
      "outputs": [
        {
          "data": {
            "text/plain": [
              "<surprise.trainset.Trainset at 0x24713c66f70>"
            ]
          },
          "execution_count": 107,
          "metadata": {},
          "output_type": "execute_result"
        }
      ],
      "source": [
        "data = None\n",
        "data"
      ]
    },
    {
      "cell_type": "markdown",
      "metadata": {
        "id": "j_iaKXiDoUFJ"
      },
      "source": [
        "## `iii` Initialize the `KNNWithMeans` Model\n",
        "\n",
        "**Note**: `KNNWithMeans` uses the normalized ratings instead of the raw ones. (See [Documentation](https://surprise.readthedocs.io/en/stable/knn_inspired.html#surprise.prediction_algorithms.knns.KNNWithMeans))\n",
        "\n",
        "**Hint**: Use $k=10$ and configure `sim_options` to be:\n",
        "- item_based\n",
        "- pearson"
      ]
    },
    {
      "cell_type": "code",
      "execution_count": null,
      "metadata": {
        "id": "xsmFxuM8oUFJ"
      },
      "outputs": [],
      "source": [
        "knn_model = None"
      ]
    },
    {
      "cell_type": "markdown",
      "metadata": {
        "id": "u_bWEf6koUFJ"
      },
      "source": [
        "## `iv` Fit the Model on Data"
      ]
    },
    {
      "cell_type": "code",
      "execution_count": null,
      "metadata": {
        "id": "q6XOUrjZoUFK",
        "outputId": "cc863e71-5720-407e-8e4d-62a1d3b790de"
      },
      "outputs": [
        {
          "name": "stdout",
          "output_type": "stream",
          "text": [
            "Computing the pearson similarity matrix...\n",
            "Done computing similarity matrix.\n"
          ]
        },
        {
          "data": {
            "text/plain": [
              "<surprise.prediction_algorithms.knns.KNNWithMeans at 0x24713c66ac0>"
            ]
          },
          "execution_count": 109,
          "metadata": {},
          "output_type": "execute_result"
        }
      ],
      "source": [
        "None"
      ]
    },
    {
      "cell_type": "markdown",
      "metadata": {
        "id": "tSy3mH4loUFK"
      },
      "source": [
        "## `v` Calculate Predicted Rating $\\hat{r}$ for User $199988$\n",
        "\n",
        "**Hine**: you can use `.predict()` method of the model (see [Documentaion](https://surprise.readthedocs.io/en/stable/getting_started.html?highlight=.predict#train-on-a-whole-trainset-and-the-predict-method:~:text=pred%20%3D%20algo.predict(uid%2C%20iid%2C%20r_ui%3D4%2C%20verbose%3DTrue)))"
      ]
    },
    {
      "cell_type": "code",
      "execution_count": null,
      "metadata": {
        "id": "maMqelfOoUFK",
        "outputId": "0ed53757-2b05-4956-fbc1-e9b55b86bf85"
      },
      "outputs": [
        {
          "data": {
            "text/html": [
              "<div>\n",
              "<style scoped>\n",
              "    .dataframe tbody tr th:only-of-type {\n",
              "        vertical-align: middle;\n",
              "    }\n",
              "\n",
              "    .dataframe tbody tr th {\n",
              "        vertical-align: top;\n",
              "    }\n",
              "\n",
              "    .dataframe thead th {\n",
              "        text-align: right;\n",
              "    }\n",
              "</style>\n",
              "<table border=\"1\" class=\"dataframe\">\n",
              "  <thead>\n",
              "    <tr style=\"text-align: right;\">\n",
              "      <th></th>\n",
              "      <th>songID</th>\n",
              "    </tr>\n",
              "  </thead>\n",
              "  <tbody>\n",
              "    <tr>\n",
              "      <th>0</th>\n",
              "      <td>90409</td>\n",
              "    </tr>\n",
              "    <tr>\n",
              "      <th>1</th>\n",
              "      <td>91266</td>\n",
              "    </tr>\n",
              "    <tr>\n",
              "      <th>2</th>\n",
              "      <td>8063</td>\n",
              "    </tr>\n",
              "    <tr>\n",
              "      <th>3</th>\n",
              "      <td>24427</td>\n",
              "    </tr>\n",
              "    <tr>\n",
              "      <th>4</th>\n",
              "      <td>105433</td>\n",
              "    </tr>\n",
              "  </tbody>\n",
              "</table>\n",
              "</div>"
            ],
            "text/plain": [
              "   songID\n",
              "0   90409\n",
              "1   91266\n",
              "2    8063\n",
              "3   24427\n",
              "4  105433"
            ]
          },
          "execution_count": 118,
          "metadata": {},
          "output_type": "execute_result"
        }
      ],
      "source": [
        "song_predictions = None\n",
        "song_predictions.head()"
      ]
    },
    {
      "cell_type": "code",
      "execution_count": null,
      "metadata": {
        "id": "_054wXQaoUFK",
        "outputId": "845e412f-48b2-4c95-a027-647940df19f3"
      },
      "outputs": [
        {
          "data": {
            "text/html": [
              "<div>\n",
              "<style scoped>\n",
              "    .dataframe tbody tr th:only-of-type {\n",
              "        vertical-align: middle;\n",
              "    }\n",
              "\n",
              "    .dataframe tbody tr th {\n",
              "        vertical-align: top;\n",
              "    }\n",
              "\n",
              "    .dataframe thead th {\n",
              "        text-align: right;\n",
              "    }\n",
              "</style>\n",
              "<table border=\"1\" class=\"dataframe\">\n",
              "  <thead>\n",
              "    <tr style=\"text-align: right;\">\n",
              "      <th></th>\n",
              "      <th>predicted_rating</th>\n",
              "    </tr>\n",
              "    <tr>\n",
              "      <th>songID</th>\n",
              "      <th></th>\n",
              "    </tr>\n",
              "  </thead>\n",
              "  <tbody>\n",
              "    <tr>\n",
              "      <th>90409</th>\n",
              "      <td>4.808493</td>\n",
              "    </tr>\n",
              "    <tr>\n",
              "      <th>91266</th>\n",
              "      <td>4.705610</td>\n",
              "    </tr>\n",
              "    <tr>\n",
              "      <th>8063</th>\n",
              "      <td>4.239800</td>\n",
              "    </tr>\n",
              "    <tr>\n",
              "      <th>24427</th>\n",
              "      <td>4.549136</td>\n",
              "    </tr>\n",
              "    <tr>\n",
              "      <th>105433</th>\n",
              "      <td>4.872347</td>\n",
              "    </tr>\n",
              "  </tbody>\n",
              "</table>\n",
              "</div>"
            ],
            "text/plain": [
              "        predicted_rating\n",
              "songID                  \n",
              "90409           4.808493\n",
              "91266           4.705610\n",
              "8063            4.239800\n",
              "24427           4.549136\n",
              "105433          4.872347"
            ]
          },
          "execution_count": 119,
          "metadata": {},
          "output_type": "execute_result"
        }
      ],
      "source": [
        "song_predictions['predicted_rating'] = None\n",
        "song_predictions.head()"
      ]
    },
    {
      "cell_type": "markdown",
      "metadata": {
        "id": "gxcG8mJ0oUFL"
      },
      "source": [
        "## `vi` Recommend Top 10 Songs"
      ]
    },
    {
      "cell_type": "code",
      "execution_count": null,
      "metadata": {
        "id": "ptMj0kTDoUFM",
        "outputId": "6cdebc0f-e16a-4dff-d510-63dd96046090"
      },
      "outputs": [
        {
          "data": {
            "text/html": [
              "<div>\n",
              "<style scoped>\n",
              "    .dataframe tbody tr th:only-of-type {\n",
              "        vertical-align: middle;\n",
              "    }\n",
              "\n",
              "    .dataframe tbody tr th {\n",
              "        vertical-align: top;\n",
              "    }\n",
              "\n",
              "    .dataframe thead th {\n",
              "        text-align: right;\n",
              "    }\n",
              "</style>\n",
              "<table border=\"1\" class=\"dataframe\">\n",
              "  <thead>\n",
              "    <tr style=\"text-align: right;\">\n",
              "      <th></th>\n",
              "      <th>predicted_rating</th>\n",
              "    </tr>\n",
              "    <tr>\n",
              "      <th>songID</th>\n",
              "      <th></th>\n",
              "    </tr>\n",
              "  </thead>\n",
              "  <tbody>\n",
              "    <tr>\n",
              "      <th>60888</th>\n",
              "      <td>5.000000</td>\n",
              "    </tr>\n",
              "    <tr>\n",
              "      <th>122065</th>\n",
              "      <td>5.000000</td>\n",
              "    </tr>\n",
              "    <tr>\n",
              "      <th>132189</th>\n",
              "      <td>5.000000</td>\n",
              "    </tr>\n",
              "    <tr>\n",
              "      <th>71582</th>\n",
              "      <td>5.000000</td>\n",
              "    </tr>\n",
              "    <tr>\n",
              "      <th>52611</th>\n",
              "      <td>5.000000</td>\n",
              "    </tr>\n",
              "    <tr>\n",
              "      <th>62954</th>\n",
              "      <td>5.000000</td>\n",
              "    </tr>\n",
              "    <tr>\n",
              "      <th>112023</th>\n",
              "      <td>5.000000</td>\n",
              "    </tr>\n",
              "    <tr>\n",
              "      <th>40712</th>\n",
              "      <td>5.000000</td>\n",
              "    </tr>\n",
              "    <tr>\n",
              "      <th>126757</th>\n",
              "      <td>4.983563</td>\n",
              "    </tr>\n",
              "    <tr>\n",
              "      <th>92881</th>\n",
              "      <td>4.941095</td>\n",
              "    </tr>\n",
              "  </tbody>\n",
              "</table>\n",
              "</div>"
            ],
            "text/plain": [
              "        predicted_rating\n",
              "songID                  \n",
              "60888           5.000000\n",
              "122065          5.000000\n",
              "132189          5.000000\n",
              "71582           5.000000\n",
              "52611           5.000000\n",
              "62954           5.000000\n",
              "112023          5.000000\n",
              "40712           5.000000\n",
              "126757          4.983563\n",
              "92881           4.941095"
            ]
          },
          "execution_count": 116,
          "metadata": {},
          "output_type": "execute_result"
        }
      ],
      "source": [
        "song_predictions_sorted = None\n",
        "song_predictions_sorted.head(10)"
      ]
    },
    {
      "cell_type": "markdown",
      "metadata": {
        "id": "lO44W2tHoUFM"
      },
      "source": [
        "----------------------------------------------\n",
        "\n",
        "$$ Wish \\space you \\space all \\space the \\space best \\space ♡ $$\n",
        "$$ Mahmoud \\space Shawqi $$"
      ]
    }
  ],
  "metadata": {
    "colab": {
      "provenance": []
    },
    "kernelspec": {
      "display_name": "base",
      "language": "python",
      "name": "python3"
    },
    "language_info": {
      "codemirror_mode": {
        "name": "ipython",
        "version": 3
      },
      "file_extension": ".py",
      "mimetype": "text/x-python",
      "name": "python",
      "nbconvert_exporter": "python",
      "pygments_lexer": "ipython3",
      "version": "3.9.13"
    },
    "orig_nbformat": 4,
    "vscode": {
      "interpreter": {
        "hash": "ad2bdc8ecc057115af97d19610ffacc2b4e99fae6737bb82f5d7fb13d2f2c186"
      }
    }
  },
  "nbformat": 4,
  "nbformat_minor": 0
}
