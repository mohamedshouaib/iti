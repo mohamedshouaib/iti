{
  "cells": [
    {
      "cell_type": "markdown",
      "metadata": {
        "id": "vAXEKvNzNdjD"
      },
      "source": [
        "$$ ITI \\space AI-Pro: \\space Intake \\space 45 $$\n",
        "$$ Recommender \\space Systems $$\n",
        "$$ Lab \\space no. \\space 3 $$"
      ]
    },
    {
      "cell_type": "markdown",
      "metadata": {
        "id": "OhXUq0fxNdjF"
      },
      "source": [
        "# `01` Import Necessary Libraries"
      ]
    },
    {
      "cell_type": "markdown",
      "metadata": {
        "id": "f_Hm7bFcNdjG"
      },
      "source": [
        "## `i` Default Libraries"
      ]
    },
    {
      "cell_type": "code",
      "execution_count": null,
      "metadata": {
        "id": "iLtkrZySNdjH"
      },
      "outputs": [],
      "source": [
        "import numpy as np\n",
        "import pandas as pd"
      ]
    },
    {
      "cell_type": "markdown",
      "metadata": {
        "id": "9WRXo8UpNdjI"
      },
      "source": [
        "## `ii` Additional Libraries\n",
        "Add imports for additional libraries you used throughout the notebook"
      ]
    },
    {
      "cell_type": "code",
      "execution_count": null,
      "metadata": {
        "id": "VlMLVZwENdjJ"
      },
      "outputs": [],
      "source": []
    },
    {
      "cell_type": "markdown",
      "metadata": {
        "id": "IU8nwlkPNdjJ"
      },
      "source": [
        "----------------------------\n",
        "\n",
        "# `02` Load Data\n",
        "\n",
        "Load `songsDataset.csv` file into a dataframe"
      ]
    },
    {
      "cell_type": "code",
      "execution_count": null,
      "metadata": {
        "id": "KppQFXKLNdjJ",
        "outputId": "51b51290-9de0-4c3e-b97a-d15111cff442"
      },
      "outputs": [
        {
          "data": {
            "text/html": [
              "<div>\n",
              "<style scoped>\n",
              "    .dataframe tbody tr th:only-of-type {\n",
              "        vertical-align: middle;\n",
              "    }\n",
              "\n",
              "    .dataframe tbody tr th {\n",
              "        vertical-align: top;\n",
              "    }\n",
              "\n",
              "    .dataframe thead th {\n",
              "        text-align: right;\n",
              "    }\n",
              "</style>\n",
              "<table border=\"1\" class=\"dataframe\">\n",
              "  <thead>\n",
              "    <tr style=\"text-align: right;\">\n",
              "      <th></th>\n",
              "      <th>userID</th>\n",
              "      <th>songID</th>\n",
              "      <th>rating</th>\n",
              "    </tr>\n",
              "  </thead>\n",
              "  <tbody>\n",
              "    <tr>\n",
              "      <th>0</th>\n",
              "      <td>0</td>\n",
              "      <td>90409</td>\n",
              "      <td>5</td>\n",
              "    </tr>\n",
              "    <tr>\n",
              "      <th>1</th>\n",
              "      <td>4</td>\n",
              "      <td>91266</td>\n",
              "      <td>1</td>\n",
              "    </tr>\n",
              "    <tr>\n",
              "      <th>2</th>\n",
              "      <td>5</td>\n",
              "      <td>8063</td>\n",
              "      <td>2</td>\n",
              "    </tr>\n",
              "    <tr>\n",
              "      <th>3</th>\n",
              "      <td>5</td>\n",
              "      <td>24427</td>\n",
              "      <td>4</td>\n",
              "    </tr>\n",
              "    <tr>\n",
              "      <th>4</th>\n",
              "      <td>5</td>\n",
              "      <td>105433</td>\n",
              "      <td>4</td>\n",
              "    </tr>\n",
              "  </tbody>\n",
              "</table>\n",
              "</div>"
            ],
            "text/plain": [
              "   userID  songID  rating\n",
              "0       0   90409       5\n",
              "1       4   91266       1\n",
              "2       5    8063       2\n",
              "3       5   24427       4\n",
              "4       5  105433       4"
            ]
          },
          "execution_count": 2,
          "metadata": {},
          "output_type": "execute_result"
        }
      ],
      "source": [
        "data = pd.read_csv(\"Data/songsDataset.csv\")\n",
        "data.head()"
      ]
    },
    {
      "cell_type": "markdown",
      "metadata": {
        "id": "fUkYSo7_NdjJ"
      },
      "source": [
        "--------------------------\n",
        "\n",
        "# `03` Matrix Factorization using Gradient Descent\n",
        "\n",
        "Practice for Matrix Factorization Implementation"
      ]
    },
    {
      "cell_type": "markdown",
      "metadata": {
        "id": "D5z2esDrNdjJ"
      },
      "source": [
        "**Matrix Factorization Mathematical Derivation**\n",
        "\n",
        "We know that the matrix factorization breaks the rating matrix $R$ into two matrices $U \\in \\mathbb{R}^{\\#users \\times K}$ and $M \\in \\mathbb{R}^{K \\times \\#items}$ where K represent the latent space dimensionality.\n",
        "\n",
        "$R$ can then be approximated through the following equation:\n",
        "\n",
        "$$\n",
        "\\mathbf{R} \\approx \\mathbf{U} \\times \\mathbf{M} = \\hat{\\mathbf{R}}\n",
        "$$\n",
        "\n",
        "The error, incorporating the regularization term, is calculated as follows:\n",
        "\n",
        "$$\n",
        "e_{ij}^2 = (r_{ij} - \\sum_{k=1}^K{u_{ik}m_{kj}})^2 + \\frac{\\beta}{2} \\sum_{k=1}^K{(||U||^2 + ||M||^2)}\n",
        "$$\n",
        "\n",
        "In order to be able to use Stochastic Gradient Descent (SGD) to optimize $U$ and $M$, we need to find the partial derivatives of the error function with respect to both $u_{ik}$ and $m_{kj}$. The partial derivatives can be derived as follows:\n",
        "\n",
        "$$\n",
        "\\frac{\\partial}{\\partial u_{ik}}e_{ij}^2 = -2(r_{ij} - \\hat{r}_{ij})(m_{kj}) + \\frac{\\beta}{2} \\times (2 u_{ik}) = -2 e_{ij} m_{kj} + \\beta u_{ik}\n",
        "$$\n",
        "\n",
        "$$\n",
        "\\frac{\\partial}{\\partial m_{ik}}e_{ij}^2 = -2(r_{ij} - \\hat{r}_{ij})(u_{ik}) + \\frac{\\beta}{2} \\times (2 m_{kj}) = -2 e_{ij} u_{ik} + \\beta m_{kj}\n",
        "$$\n",
        "\n",
        "Thus the update rules will be:\n",
        "\n",
        "$$\n",
        "u'_{ik} = u_{ik} + \\alpha \\frac{\\partial}{\\partial u_{ik}}e_{ij}^2 = u_{ik} - \\alpha(-2 e_{ij} m_{kj} + \\beta u_{ik} ) = u_{ik} + \\alpha(2 e_{ij} m_{kj} - \\beta u_{ik} )\n",
        "$$\n",
        "\n",
        "$$\n",
        "m'_{kj} = m_{kj} + \\alpha \\frac{\\partial}{\\partial m_{kj}}e_{ij}^2 = m_{kj} - \\alpha(-2 e_{ij} u_{ik} + \\beta m_{kj} ) = m_{kj} + \\alpha(2 e_{ij} u_{ik} - \\beta m_{kj} )\n",
        "$$"
      ]
    },
    {
      "cell_type": "markdown",
      "metadata": {
        "id": "gEBYlA7RNdjK"
      },
      "source": [
        "## `0` Construct Utility Matrix from the Data"
      ]
    },
    {
      "cell_type": "code",
      "execution_count": null,
      "metadata": {
        "id": "0AMdl6HRNdjK",
        "outputId": "ce247800-299a-4af1-8de2-0cc32eace722"
      },
      "outputs": [
        {
          "data": {
            "text/html": [
              "<div>\n",
              "<style scoped>\n",
              "    .dataframe tbody tr th:only-of-type {\n",
              "        vertical-align: middle;\n",
              "    }\n",
              "\n",
              "    .dataframe tbody tr th {\n",
              "        vertical-align: top;\n",
              "    }\n",
              "\n",
              "    .dataframe thead th {\n",
              "        text-align: right;\n",
              "    }\n",
              "</style>\n",
              "<table border=\"1\" class=\"dataframe\">\n",
              "  <thead>\n",
              "    <tr style=\"text-align: right;\">\n",
              "      <th>songID</th>\n",
              "      <th>2263</th>\n",
              "      <th>2726</th>\n",
              "      <th>3785</th>\n",
              "      <th>8063</th>\n",
              "      <th>12709</th>\n",
              "      <th>13859</th>\n",
              "      <th>16548</th>\n",
              "      <th>17029</th>\n",
              "      <th>19299</th>\n",
              "      <th>19670</th>\n",
              "      <th>...</th>\n",
              "      <th>113954</th>\n",
              "      <th>119103</th>\n",
              "      <th>120147</th>\n",
              "      <th>122065</th>\n",
              "      <th>123176</th>\n",
              "      <th>125557</th>\n",
              "      <th>126757</th>\n",
              "      <th>131048</th>\n",
              "      <th>132189</th>\n",
              "      <th>134732</th>\n",
              "    </tr>\n",
              "    <tr>\n",
              "      <th>userID</th>\n",
              "      <th></th>\n",
              "      <th></th>\n",
              "      <th></th>\n",
              "      <th></th>\n",
              "      <th></th>\n",
              "      <th></th>\n",
              "      <th></th>\n",
              "      <th></th>\n",
              "      <th></th>\n",
              "      <th></th>\n",
              "      <th></th>\n",
              "      <th></th>\n",
              "      <th></th>\n",
              "      <th></th>\n",
              "      <th></th>\n",
              "      <th></th>\n",
              "      <th></th>\n",
              "      <th></th>\n",
              "      <th></th>\n",
              "      <th></th>\n",
              "      <th></th>\n",
              "    </tr>\n",
              "  </thead>\n",
              "  <tbody>\n",
              "    <tr>\n",
              "      <th>0</th>\n",
              "      <td>0.0</td>\n",
              "      <td>0.0</td>\n",
              "      <td>0.0</td>\n",
              "      <td>0.0</td>\n",
              "      <td>0.0</td>\n",
              "      <td>0.0</td>\n",
              "      <td>0.0</td>\n",
              "      <td>0.0</td>\n",
              "      <td>0.0</td>\n",
              "      <td>0.0</td>\n",
              "      <td>...</td>\n",
              "      <td>0.0</td>\n",
              "      <td>0.0</td>\n",
              "      <td>0.0</td>\n",
              "      <td>0.0</td>\n",
              "      <td>0.0</td>\n",
              "      <td>0.0</td>\n",
              "      <td>0.0</td>\n",
              "      <td>0.0</td>\n",
              "      <td>0.0</td>\n",
              "      <td>0.0</td>\n",
              "    </tr>\n",
              "    <tr>\n",
              "      <th>4</th>\n",
              "      <td>0.0</td>\n",
              "      <td>0.0</td>\n",
              "      <td>0.0</td>\n",
              "      <td>0.0</td>\n",
              "      <td>0.0</td>\n",
              "      <td>0.0</td>\n",
              "      <td>0.0</td>\n",
              "      <td>0.0</td>\n",
              "      <td>0.0</td>\n",
              "      <td>0.0</td>\n",
              "      <td>...</td>\n",
              "      <td>0.0</td>\n",
              "      <td>0.0</td>\n",
              "      <td>0.0</td>\n",
              "      <td>0.0</td>\n",
              "      <td>0.0</td>\n",
              "      <td>0.0</td>\n",
              "      <td>0.0</td>\n",
              "      <td>0.0</td>\n",
              "      <td>0.0</td>\n",
              "      <td>0.0</td>\n",
              "    </tr>\n",
              "    <tr>\n",
              "      <th>5</th>\n",
              "      <td>0.0</td>\n",
              "      <td>0.0</td>\n",
              "      <td>0.0</td>\n",
              "      <td>2.0</td>\n",
              "      <td>0.0</td>\n",
              "      <td>0.0</td>\n",
              "      <td>0.0</td>\n",
              "      <td>0.0</td>\n",
              "      <td>0.0</td>\n",
              "      <td>0.0</td>\n",
              "      <td>...</td>\n",
              "      <td>0.0</td>\n",
              "      <td>0.0</td>\n",
              "      <td>0.0</td>\n",
              "      <td>0.0</td>\n",
              "      <td>0.0</td>\n",
              "      <td>0.0</td>\n",
              "      <td>0.0</td>\n",
              "      <td>0.0</td>\n",
              "      <td>0.0</td>\n",
              "      <td>0.0</td>\n",
              "    </tr>\n",
              "    <tr>\n",
              "      <th>7</th>\n",
              "      <td>0.0</td>\n",
              "      <td>0.0</td>\n",
              "      <td>0.0</td>\n",
              "      <td>0.0</td>\n",
              "      <td>0.0</td>\n",
              "      <td>0.0</td>\n",
              "      <td>0.0</td>\n",
              "      <td>0.0</td>\n",
              "      <td>0.0</td>\n",
              "      <td>0.0</td>\n",
              "      <td>...</td>\n",
              "      <td>0.0</td>\n",
              "      <td>0.0</td>\n",
              "      <td>0.0</td>\n",
              "      <td>0.0</td>\n",
              "      <td>0.0</td>\n",
              "      <td>0.0</td>\n",
              "      <td>0.0</td>\n",
              "      <td>0.0</td>\n",
              "      <td>0.0</td>\n",
              "      <td>3.0</td>\n",
              "    </tr>\n",
              "    <tr>\n",
              "      <th>14</th>\n",
              "      <td>0.0</td>\n",
              "      <td>0.0</td>\n",
              "      <td>0.0</td>\n",
              "      <td>0.0</td>\n",
              "      <td>0.0</td>\n",
              "      <td>0.0</td>\n",
              "      <td>0.0</td>\n",
              "      <td>0.0</td>\n",
              "      <td>0.0</td>\n",
              "      <td>0.0</td>\n",
              "      <td>...</td>\n",
              "      <td>0.0</td>\n",
              "      <td>0.0</td>\n",
              "      <td>0.0</td>\n",
              "      <td>0.0</td>\n",
              "      <td>0.0</td>\n",
              "      <td>0.0</td>\n",
              "      <td>0.0</td>\n",
              "      <td>0.0</td>\n",
              "      <td>0.0</td>\n",
              "      <td>0.0</td>\n",
              "    </tr>\n",
              "    <tr>\n",
              "      <th>...</th>\n",
              "      <td>...</td>\n",
              "      <td>...</td>\n",
              "      <td>...</td>\n",
              "      <td>...</td>\n",
              "      <td>...</td>\n",
              "      <td>...</td>\n",
              "      <td>...</td>\n",
              "      <td>...</td>\n",
              "      <td>...</td>\n",
              "      <td>...</td>\n",
              "      <td>...</td>\n",
              "      <td>...</td>\n",
              "      <td>...</td>\n",
              "      <td>...</td>\n",
              "      <td>...</td>\n",
              "      <td>...</td>\n",
              "      <td>...</td>\n",
              "      <td>...</td>\n",
              "      <td>...</td>\n",
              "      <td>...</td>\n",
              "      <td>...</td>\n",
              "    </tr>\n",
              "    <tr>\n",
              "      <th>199976</th>\n",
              "      <td>0.0</td>\n",
              "      <td>0.0</td>\n",
              "      <td>0.0</td>\n",
              "      <td>0.0</td>\n",
              "      <td>0.0</td>\n",
              "      <td>0.0</td>\n",
              "      <td>0.0</td>\n",
              "      <td>0.0</td>\n",
              "      <td>0.0</td>\n",
              "      <td>0.0</td>\n",
              "      <td>...</td>\n",
              "      <td>0.0</td>\n",
              "      <td>0.0</td>\n",
              "      <td>0.0</td>\n",
              "      <td>0.0</td>\n",
              "      <td>0.0</td>\n",
              "      <td>0.0</td>\n",
              "      <td>5.0</td>\n",
              "      <td>0.0</td>\n",
              "      <td>0.0</td>\n",
              "      <td>0.0</td>\n",
              "    </tr>\n",
              "    <tr>\n",
              "      <th>199980</th>\n",
              "      <td>0.0</td>\n",
              "      <td>0.0</td>\n",
              "      <td>0.0</td>\n",
              "      <td>0.0</td>\n",
              "      <td>0.0</td>\n",
              "      <td>0.0</td>\n",
              "      <td>0.0</td>\n",
              "      <td>0.0</td>\n",
              "      <td>0.0</td>\n",
              "      <td>0.0</td>\n",
              "      <td>...</td>\n",
              "      <td>0.0</td>\n",
              "      <td>0.0</td>\n",
              "      <td>0.0</td>\n",
              "      <td>0.0</td>\n",
              "      <td>0.0</td>\n",
              "      <td>0.0</td>\n",
              "      <td>0.0</td>\n",
              "      <td>0.0</td>\n",
              "      <td>0.0</td>\n",
              "      <td>0.0</td>\n",
              "    </tr>\n",
              "    <tr>\n",
              "      <th>199988</th>\n",
              "      <td>0.0</td>\n",
              "      <td>5.0</td>\n",
              "      <td>0.0</td>\n",
              "      <td>0.0</td>\n",
              "      <td>0.0</td>\n",
              "      <td>0.0</td>\n",
              "      <td>0.0</td>\n",
              "      <td>0.0</td>\n",
              "      <td>5.0</td>\n",
              "      <td>0.0</td>\n",
              "      <td>...</td>\n",
              "      <td>0.0</td>\n",
              "      <td>0.0</td>\n",
              "      <td>0.0</td>\n",
              "      <td>0.0</td>\n",
              "      <td>0.0</td>\n",
              "      <td>0.0</td>\n",
              "      <td>0.0</td>\n",
              "      <td>0.0</td>\n",
              "      <td>0.0</td>\n",
              "      <td>0.0</td>\n",
              "    </tr>\n",
              "    <tr>\n",
              "      <th>199990</th>\n",
              "      <td>0.0</td>\n",
              "      <td>0.0</td>\n",
              "      <td>0.0</td>\n",
              "      <td>0.0</td>\n",
              "      <td>0.0</td>\n",
              "      <td>0.0</td>\n",
              "      <td>0.0</td>\n",
              "      <td>0.0</td>\n",
              "      <td>0.0</td>\n",
              "      <td>0.0</td>\n",
              "      <td>...</td>\n",
              "      <td>0.0</td>\n",
              "      <td>0.0</td>\n",
              "      <td>0.0</td>\n",
              "      <td>0.0</td>\n",
              "      <td>0.0</td>\n",
              "      <td>0.0</td>\n",
              "      <td>0.0</td>\n",
              "      <td>0.0</td>\n",
              "      <td>0.0</td>\n",
              "      <td>0.0</td>\n",
              "    </tr>\n",
              "    <tr>\n",
              "      <th>199996</th>\n",
              "      <td>5.0</td>\n",
              "      <td>0.0</td>\n",
              "      <td>0.0</td>\n",
              "      <td>0.0</td>\n",
              "      <td>0.0</td>\n",
              "      <td>0.0</td>\n",
              "      <td>0.0</td>\n",
              "      <td>0.0</td>\n",
              "      <td>0.0</td>\n",
              "      <td>0.0</td>\n",
              "      <td>...</td>\n",
              "      <td>0.0</td>\n",
              "      <td>0.0</td>\n",
              "      <td>0.0</td>\n",
              "      <td>0.0</td>\n",
              "      <td>0.0</td>\n",
              "      <td>0.0</td>\n",
              "      <td>0.0</td>\n",
              "      <td>0.0</td>\n",
              "      <td>0.0</td>\n",
              "      <td>0.0</td>\n",
              "    </tr>\n",
              "  </tbody>\n",
              "</table>\n",
              "<p>53963 rows × 56 columns</p>\n",
              "</div>"
            ],
            "text/plain": [
              "songID  2263    2726    3785    8063    12709   13859   16548   17029   \\\n",
              "userID                                                                   \n",
              "0          0.0     0.0     0.0     0.0     0.0     0.0     0.0     0.0   \n",
              "4          0.0     0.0     0.0     0.0     0.0     0.0     0.0     0.0   \n",
              "5          0.0     0.0     0.0     2.0     0.0     0.0     0.0     0.0   \n",
              "7          0.0     0.0     0.0     0.0     0.0     0.0     0.0     0.0   \n",
              "14         0.0     0.0     0.0     0.0     0.0     0.0     0.0     0.0   \n",
              "...        ...     ...     ...     ...     ...     ...     ...     ...   \n",
              "199976     0.0     0.0     0.0     0.0     0.0     0.0     0.0     0.0   \n",
              "199980     0.0     0.0     0.0     0.0     0.0     0.0     0.0     0.0   \n",
              "199988     0.0     5.0     0.0     0.0     0.0     0.0     0.0     0.0   \n",
              "199990     0.0     0.0     0.0     0.0     0.0     0.0     0.0     0.0   \n",
              "199996     5.0     0.0     0.0     0.0     0.0     0.0     0.0     0.0   \n",
              "\n",
              "songID  19299   19670   ...  113954  119103  120147  122065  123176  125557  \\\n",
              "userID                  ...                                                   \n",
              "0          0.0     0.0  ...     0.0     0.0     0.0     0.0     0.0     0.0   \n",
              "4          0.0     0.0  ...     0.0     0.0     0.0     0.0     0.0     0.0   \n",
              "5          0.0     0.0  ...     0.0     0.0     0.0     0.0     0.0     0.0   \n",
              "7          0.0     0.0  ...     0.0     0.0     0.0     0.0     0.0     0.0   \n",
              "14         0.0     0.0  ...     0.0     0.0     0.0     0.0     0.0     0.0   \n",
              "...        ...     ...  ...     ...     ...     ...     ...     ...     ...   \n",
              "199976     0.0     0.0  ...     0.0     0.0     0.0     0.0     0.0     0.0   \n",
              "199980     0.0     0.0  ...     0.0     0.0     0.0     0.0     0.0     0.0   \n",
              "199988     5.0     0.0  ...     0.0     0.0     0.0     0.0     0.0     0.0   \n",
              "199990     0.0     0.0  ...     0.0     0.0     0.0     0.0     0.0     0.0   \n",
              "199996     0.0     0.0  ...     0.0     0.0     0.0     0.0     0.0     0.0   \n",
              "\n",
              "songID  126757  131048  132189  134732  \n",
              "userID                                  \n",
              "0          0.0     0.0     0.0     0.0  \n",
              "4          0.0     0.0     0.0     0.0  \n",
              "5          0.0     0.0     0.0     0.0  \n",
              "7          0.0     0.0     0.0     3.0  \n",
              "14         0.0     0.0     0.0     0.0  \n",
              "...        ...     ...     ...     ...  \n",
              "199976     5.0     0.0     0.0     0.0  \n",
              "199980     0.0     0.0     0.0     0.0  \n",
              "199988     0.0     0.0     0.0     0.0  \n",
              "199990     0.0     0.0     0.0     0.0  \n",
              "199996     0.0     0.0     0.0     0.0  \n",
              "\n",
              "[53963 rows x 56 columns]"
            ]
          },
          "execution_count": 5,
          "metadata": {},
          "output_type": "execute_result"
        }
      ],
      "source": [
        "utility_matrix = None\n",
        "utility_matrix"
      ]
    },
    {
      "cell_type": "markdown",
      "metadata": {
        "id": "n9QGfMQ6NdjL"
      },
      "source": [
        "## `i` Matrices Initialization\n",
        "\n",
        "Initialize the two random weights matrices $U$ and $M$ (Try $K=3$)\n",
        "\n",
        "**Note**: Refer to the next cell for the dimensions of $U$ and $M$\n",
        "\n",
        "**Hine**: You may use a function from `numpy.random` module (see, [Documentation](https://numpy.org/doc/stable/reference/random/index.html))"
      ]
    },
    {
      "cell_type": "code",
      "execution_count": null,
      "metadata": {
        "id": "C_EVI8PxNdjL"
      },
      "outputs": [],
      "source": [
        "U = None\n",
        "M = None"
      ]
    },
    {
      "cell_type": "markdown",
      "metadata": {
        "id": "mm4t3qKgNdjM"
      },
      "source": [
        "## `ii` Define a Function to Implement Matrix Factorization\n",
        "\n",
        "**Function Parameters**:\n",
        "- `R`: Utility Matrix [of shape: (no. of users, no. of items)]\n",
        "- `U`: User Latent Features Array [of shape: (no. of users, K)]\n",
        "- `M`: Items Latent Features Array [of shape: (K, no. of items)]\n",
        "- `epochs`: No. of training epochs\n",
        "- `lr`: Learning rate (alpha)\n",
        "- `beta`: Regularization Parameter\n",
        "\n",
        "**Function Output**:\n",
        "- `U`: Optimized User Latent Features Array\n",
        "- `M`: Optimized Items Latent Features Array\n",
        "\n",
        "**Main Procedures**:\n",
        "1. Calculate predicted ratings\n",
        "2. Calculate MSE Error\n",
        "3. Calculate gradients\n",
        "4. Update $U$ and $M$\n"
      ]
    },
    {
      "cell_type": "code",
      "execution_count": null,
      "metadata": {
        "id": "Lon7ovGdNdjM"
      },
      "outputs": [],
      "source": [
        "def matrix_factorization(R: np.ndarray, U: np.ndarray, M: np.ndarray, epochs: int, lr: float, beta: float):\n",
        "    \"\"\"\n",
        "    Function Parameters:\n",
        "    - `R`: Utility Matrix [of shape: `(no. of users, no. of items)`]\n",
        "    - `U`: User Latent Features Array [of shape: `(no. of users, K)`]\n",
        "    - `M`: Items Latent Features Array [of shape: `(K, no. of items)`]\n",
        "    - `epochs`: No. of training epochs\n",
        "    - `lr`: Learning rate (alpha)\n",
        "    - `beta`: Regularization Parameter\n",
        "\n",
        "    Function Output:\n",
        "    - `U`: Optimized User Latent Features Array\n",
        "    - `M`: Optimized Items Latent Features Array\n",
        "    \"\"\"\n",
        "\n",
        "    # Confirm that no. of features is consistent between U and M\n",
        "    assert U.shape[1] == M.shape[0], f'U and M must have consistent K. Found K={U.shape[1]} for U and K={M.shape[0]} for M'\n",
        "\n",
        "    # Extract No. of Features (K)\n",
        "    K = None\n",
        "\n",
        "    # Define the Epochs loop\n",
        "    for epoch in range(epochs):\n",
        "        # Loop over every element in R\n",
        "        for None: # Loop over each user\n",
        "            for None: # Loop over each item\n",
        "                if None: # Only proceed if the current interaction (i, j) is not missing\n",
        "                    eij = None # Calculate the error in prediction\n",
        "                    for None: # Loop over each latent features dimension\n",
        "                        # Update Rules for both U and M:\n",
        "                        U[i, k] = None\n",
        "                        M[k, j] = None\n",
        "\n",
        "        ## Error Calculation ##\n",
        "        e_last = e if epoch > 0 else 100000000\n",
        "        e = 0 # Initialize a variable to accumelate the errors\n",
        "        for None: # Loop over each user\n",
        "            for None: # Loop over each item\n",
        "                if None: # Only proceed if the current interaction (i, j) is not missing\n",
        "                                # since we only calculate the error for interactions having a ground truth value\n",
        "\n",
        "                    first_part = None # calculate the first part of the error\n",
        "                    second_part = 0 # Initialize a variable to accumelate the second part of the error\n",
        "\n",
        "                    for None: # Loop over each latent features dimension\n",
        "                        second_part += None\n",
        "\n",
        "                    e += first_part + second_part # accumelate the error to the total error\n",
        "\n",
        "        print(f'Epoch {epoch+1}/{epochs}: Total Error = {e}')\n",
        "\n",
        "        if e < 0.001 or e_last-e < 0.001: # Stop if error is so small or improvement is not significant\n",
        "            break\n",
        "\n",
        "    return U, M\n"
      ]
    },
    {
      "cell_type": "markdown",
      "metadata": {
        "id": "_eTo-YOaNdjM"
      },
      "source": [
        "### `[Bonus]` Vectorized Error Calculation\n",
        "\n",
        "Can the error calculation part be vectorized to get rid of for loops?\n",
        "\n",
        "If you would like a challenge, try to redefine the function in the next cell with a vectorized error calculation."
      ]
    },
    {
      "cell_type": "code",
      "execution_count": null,
      "metadata": {
        "id": "Wkwjc7s0NdjN"
      },
      "outputs": [],
      "source": []
    },
    {
      "cell_type": "markdown",
      "metadata": {
        "id": "1jDu2LCeNdjN"
      },
      "source": [
        "## `iii` Use the Function to to Optimize the $U$ and $V$"
      ]
    },
    {
      "cell_type": "code",
      "execution_count": null,
      "metadata": {
        "id": "tyUWxdKzNdjN"
      },
      "outputs": [],
      "source": [
        "U, M = matrix_factorization(R=utility_matrix.values, U=U, M=M, epochs=None, lr=None, beta=None)"
      ]
    },
    {
      "cell_type": "markdown",
      "metadata": {
        "id": "RqASGwFQNdjN"
      },
      "source": [
        "## `iv` Recommend top-K Songs\n",
        "\n",
        "Recommend top-K ($K=5$) songs for user ($userID=199988$)\n",
        "\n",
        "Note: Make sure to filter songs they already rated before"
      ]
    },
    {
      "cell_type": "code",
      "execution_count": null,
      "metadata": {
        "id": "RciNifgfNdjN"
      },
      "outputs": [],
      "source": []
    },
    {
      "cell_type": "code",
      "execution_count": null,
      "metadata": {
        "id": "kRdjpCzhNdjN",
        "outputId": "12263ce6-fb20-41f9-a583-20cf063ee3d5"
      },
      "outputs": [
        {
          "name": "stdout",
          "output_type": "stream",
          "text": [
            "Top 5 Recommended Items for User 199988:\n",
            "\t- Top 1 Song: 122065 (Predicted Rating: 6.006507760135539)\n",
            "\t- Top 2 Song: 125557 (Predicted Rating: 5.819802641310125)\n",
            "\t- Top 3 Song: 52611 (Predicted Rating: 5.740148229067794)\n",
            "\t- Top 4 Song: 79622 (Predicted Rating: 5.701478248255747)\n",
            "\t- Top 5 Song: 71582 (Predicted Rating: 5.691077461653294)\n"
          ]
        }
      ],
      "source": []
    },
    {
      "cell_type": "markdown",
      "metadata": {
        "id": "3x8YZKJFNdjO"
      },
      "source": [
        "------------------------\n",
        "\n",
        "# `04` Matrix Factorization using SVD Algorithm\n",
        "\n",
        "Practice for using `SVD` algorithm implementation from `scikit surprise` library."
      ]
    },
    {
      "cell_type": "markdown",
      "metadata": {
        "id": "m6-zG0jINdjO"
      },
      "source": [
        "## `i` Prepare the Data\n",
        "\n",
        "- Load the Data into `surprise` Dataset\n",
        "- Split data into train and test\n"
      ]
    },
    {
      "cell_type": "code",
      "execution_count": null,
      "metadata": {
        "id": "ouBYdJGQNdjO"
      },
      "outputs": [],
      "source": []
    },
    {
      "cell_type": "markdown",
      "metadata": {
        "id": "R-bvTaz0NdjO"
      },
      "source": [
        "## `ii` Model Initialization\n",
        "\n",
        "Instantiate two models:\n",
        "- Model with baselines (biases)\n",
        "- Model without baselines\n",
        "\n",
        "**Note**: Use `surprise.prediction_algorithms.matrix_factorization.SVD` (see, [Documentation](https://surprise.readthedocs.io/en/stable/matrix_factorization.html#:~:text=surprise.prediction_algorithms.matrix_factorization.-,SVD,-(n_factors%3D)))"
      ]
    },
    {
      "cell_type": "code",
      "execution_count": null,
      "metadata": {
        "id": "3to8YADlNdjO"
      },
      "outputs": [],
      "source": [
        "# Biased Model\n"
      ]
    },
    {
      "cell_type": "code",
      "execution_count": null,
      "metadata": {
        "id": "Ddmzo9xoNdjO"
      },
      "outputs": [],
      "source": [
        "# Non-Biased Model\n"
      ]
    },
    {
      "cell_type": "markdown",
      "metadata": {
        "id": "nQsysgRlNdjO"
      },
      "source": [
        "## `iii` Fit each Model on Training Data"
      ]
    },
    {
      "cell_type": "code",
      "execution_count": null,
      "metadata": {
        "id": "FOW7dnTCNdjP"
      },
      "outputs": [],
      "source": [
        "# Biased Model\n"
      ]
    },
    {
      "cell_type": "code",
      "execution_count": null,
      "metadata": {
        "id": "ox0tzP1gNdjP"
      },
      "outputs": [],
      "source": [
        "# Non-Biased Model\n"
      ]
    },
    {
      "cell_type": "markdown",
      "metadata": {
        "id": "lGfQq52SNdjP"
      },
      "source": [
        "## `iv` Test both Models on the Testing Data\n",
        "\n",
        "Compare the errors of the two models using multiple error formulas.\n",
        "\n",
        "**Note**: Refer to `surprise.accuracy` module (see, [Documentation](https://surprise.readthedocs.io/en/stable/accuracy.html))"
      ]
    },
    {
      "cell_type": "code",
      "execution_count": null,
      "metadata": {
        "id": "yyY7nwOvNdjP"
      },
      "outputs": [],
      "source": [
        "# Biased Model\n"
      ]
    },
    {
      "cell_type": "code",
      "execution_count": null,
      "metadata": {
        "id": "FeWbr8QXNdjP"
      },
      "outputs": [],
      "source": [
        "# Non-Biased Model\n"
      ]
    },
    {
      "cell_type": "markdown",
      "metadata": {
        "id": "A0IT0KdgNdjQ"
      },
      "source": [
        "## `v` Recommend Top $10$ Songs for User $199988$\n",
        "\n",
        "Is there a difference in recommended songs from the two models?"
      ]
    },
    {
      "cell_type": "code",
      "execution_count": null,
      "metadata": {
        "id": "HDN47NMJNdjQ"
      },
      "outputs": [],
      "source": [
        "# Biased Model\n"
      ]
    },
    {
      "cell_type": "code",
      "execution_count": null,
      "metadata": {
        "id": "uDK2TLB0NdjQ"
      },
      "outputs": [],
      "source": [
        "# Non-Biased Model\n"
      ]
    },
    {
      "cell_type": "markdown",
      "metadata": {
        "id": "F4830HYlNdjQ"
      },
      "source": [
        "----------------------------------------------\n",
        "\n",
        "$$ Wish \\space you \\space all \\space the \\space best \\space ♡ $$\n",
        "$$ Mahmoud \\space Shawqi $$"
      ]
    }
  ],
  "metadata": {
    "colab": {
      "provenance": []
    },
    "kernelspec": {
      "display_name": "base",
      "language": "python",
      "name": "python3"
    },
    "language_info": {
      "codemirror_mode": {
        "name": "ipython",
        "version": 3
      },
      "file_extension": ".py",
      "mimetype": "text/x-python",
      "name": "python",
      "nbconvert_exporter": "python",
      "pygments_lexer": "ipython3",
      "version": "3.9.13"
    },
    "orig_nbformat": 4,
    "vscode": {
      "interpreter": {
        "hash": "ad2bdc8ecc057115af97d19610ffacc2b4e99fae6737bb82f5d7fb13d2f2c186"
      }
    }
  },
  "nbformat": 4,
  "nbformat_minor": 0
}
