{
  "nbformat": 4,
  "nbformat_minor": 0,
  "metadata": {
    "kernelspec": {
      "display_name": "Python 3",
      "language": "python",
      "name": "python3"
    },
    "language_info": {
      "codemirror_mode": {
        "name": "ipython",
        "version": 3
      },
      "file_extension": ".py",
      "mimetype": "text/x-python",
      "name": "python",
      "nbconvert_exporter": "python",
      "pygments_lexer": "ipython3",
      "version": "3.7.6"
    },
    "colab": {
      "name": "Copy of Polynomial_regression_regularization.ipynb",
      "provenance": [],
      "include_colab_link": true
    }
  },
  "cells": [
    {
      "cell_type": "markdown",
      "metadata": {
        "id": "view-in-github",
        "colab_type": "text"
      },
      "source": [
        "<a href=\"https://colab.research.google.com/github/mohamedshouaib/iti/blob/main/spervised_ML/Polynomial_regression_regularization.ipynb\" target=\"_parent\"><img src=\"https://colab.research.google.com/assets/colab-badge.svg\" alt=\"Open In Colab\"/></a>"
      ]
    },
    {
      "cell_type": "markdown",
      "metadata": {
        "id": "eyjewtSBMA95"
      },
      "source": [
        "# Testing and regularization"
      ]
    },
    {
      "cell_type": "code",
      "metadata": {
        "id": "y_RXtj1eMCb3",
        "outputId": "6876937f-8962-4a99-aefa-4c1b3ec8b6fd",
        "colab": {
          "base_uri": "https://localhost:8080/"
        }
      },
      "source": [
        "!git clone https://github.com/s7s/machine_learning_1.git\n",
        "%cd  machine_learning_1/polynomial_regression"
      ],
      "execution_count": 1,
      "outputs": [
        {
          "output_type": "stream",
          "name": "stdout",
          "text": [
            "Cloning into 'machine_learning_1'...\n",
            "remote: Enumerating objects: 378, done.\u001b[K\n",
            "remote: Counting objects: 100% (126/126), done.\u001b[K\n",
            "remote: Compressing objects: 100% (125/125), done.\u001b[K\n",
            "remote: Total 378 (delta 74), reused 3 (delta 1), pack-reused 252 (from 1)\u001b[K\n",
            "Receiving objects: 100% (378/378), 42.71 MiB | 7.27 MiB/s, done.\n",
            "Resolving deltas: 100% (197/197), done.\n",
            "/content/machine_learning_1/polynomial_regression\n"
          ]
        }
      ]
    },
    {
      "cell_type": "code",
      "metadata": {
        "id": "YpX56PtFMA-A"
      },
      "source": [
        "import pandas as pd\n",
        "import numpy as np\n",
        "import random\n",
        "import matplotlib.pyplot as plt\n",
        "random.seed(0)"
      ],
      "execution_count": 2,
      "outputs": []
    },
    {
      "cell_type": "markdown",
      "metadata": {
        "id": "WBD0ZY2wMA-B"
      },
      "source": [
        "## Defining our dataset"
      ]
    },
    {
      "cell_type": "code",
      "metadata": {
        "id": "4sDgbZNRMA-C"
      },
      "source": [
        "# Our original polynomial is -35x^2+x+15\n",
        "coefs = [15,0,-35]\n",
        "\n",
        "def polynomial(coefs, x):\n",
        "    n = len(coefs)\n",
        "    return sum([coefs[i]*x**i for i in range(n)])\n",
        "\n",
        "def draw_polynomial(coefs):\n",
        "    n = len(coefs)\n",
        "    x = np.linspace(-1, 1, 1000)\n",
        "    plt.ylim(-20,20)\n",
        "    plt.plot(x, sum([coefs[i]*x**i for i in range(n)]), linestyle='-', color='black')\n",
        "\n",
        "draw_polynomial(coefs)"
      ],
      "execution_count": null,
      "outputs": []
    },
    {
      "cell_type": "code",
      "metadata": {
        "id": "WvGqHRFCMA-E"
      },
      "source": [
        "X = []\n",
        "Y = []\n",
        "for i in range(40):\n",
        "    x = random.uniform(-1,1)\n",
        "    y = polynomial(coefs, x) + random.gauss(0,2)\n",
        "    X.append(x)\n",
        "    Y.append(y)\n",
        "X=np.array(X)\n",
        "Y=np.array(Y)"
      ],
      "execution_count": null,
      "outputs": []
    },
    {
      "cell_type": "code",
      "metadata": {
        "id": "ETQxgGiFMA-E"
      },
      "source": [
        "plt.scatter(X, Y)\n",
        "#draw_polynomial(coefs)"
      ],
      "execution_count": null,
      "outputs": []
    },
    {
      "cell_type": "markdown",
      "metadata": {
        "id": "wLUfmV9iMA-F"
      },
      "source": [
        "## Training a polynomial regression model"
      ]
    },
    {
      "cell_type": "code",
      "metadata": {
        "id": "xsNmJ6hoGPjb"
      },
      "source": [
        "for datasample in zip(X,Y):\n",
        "    print(datasample)"
      ],
      "execution_count": null,
      "outputs": []
    },
    {
      "cell_type": "markdown",
      "metadata": {
        "id": "Pze2ZphQMA-G"
      },
      "source": [
        "### Adding columns to our dataset corresponding to $x^2, x^3, \\ldots, x^{200}$"
      ]
    },
    {
      "cell_type": "code",
      "metadata": {
        "id": "c2XZgASOGfVv"
      },
      "source": [
        "from sklearn.preprocessing import PolynomialFeatures\n",
        "def addPoly(X,polyDegree):\n",
        "    ## TODO ##\n",
        "    #use sklearn (PolynomialFeatures method)\n",
        "\n",
        "    return X\n",
        "X_poly=addPoly(X,200)"
      ],
      "execution_count": null,
      "outputs": []
    },
    {
      "cell_type": "code",
      "metadata": {
        "id": "kKXdyM7fGzLC"
      },
      "source": [
        "print(X_poly.shape)\n",
        "print(X_poly[0,:])"
      ],
      "execution_count": null,
      "outputs": []
    },
    {
      "cell_type": "markdown",
      "metadata": {
        "id": "S8uYLISVMA-H"
      },
      "source": [
        "## Splitting data into training and testing"
      ]
    },
    {
      "cell_type": "code",
      "metadata": {
        "id": "fVnfiOyqMNLg"
      },
      "source": [
        "from sklearn.model_selection import train_test_split\n",
        "## TODO ##\n",
        "# use sklearn (train_test_split) to split data to 80% training 20% testing\n",
        "X_train, X_test, y_train, y_test ="
      ],
      "execution_count": null,
      "outputs": []
    },
    {
      "cell_type": "code",
      "metadata": {
        "id": "WmHYknzXMA-I"
      },
      "source": [
        "from sklearn.metrics import mean_squared_error\n",
        "def display_results(model):\n",
        "    coefs = [model.intercept_]\n",
        "    coefs += list(model.coef_)\n",
        "    ytrain_predict=model.predict(X_train)\n",
        "    ytest_predict=model.predict(X_test)\n",
        "    train_error=np.sqrt(mean_squared_error(y_train,ytrain_predict))\n",
        "    test_error=np.sqrt(mean_squared_error(y_test,ytest_predict))\n",
        "    print(\"Training error (rmse):\", train_error)\n",
        "    print(\"Testing error (rmse):\", test_error)\n",
        "    plt.scatter(X_train[:,0], y_train, marker='o')\n",
        "    plt.scatter(X_test[:,0], y_test, marker='^')\n",
        "    draw_polynomial(coefs)\n",
        "    plt.show()\n",
        "    print(\"Polynomial coefficients\")\n",
        "    print(coefs)"
      ],
      "execution_count": null,
      "outputs": []
    },
    {
      "cell_type": "markdown",
      "metadata": {
        "id": "G9x4Q5S3MA-I"
      },
      "source": [
        "## Training a polynomial regression model with no regularization"
      ]
    },
    {
      "cell_type": "code",
      "metadata": {
        "id": "QKm7sV7JMA-J"
      },
      "source": [
        "from sklearn.linear_model import LinearRegression\n",
        "## TODO ##\n",
        "# use sklearn linear regression to fit the data\n",
        "\n",
        "model_no_reg ="
      ],
      "execution_count": null,
      "outputs": []
    },
    {
      "cell_type": "code",
      "metadata": {
        "id": "uje8MamakgwD"
      },
      "source": [
        "display_results(model_no_reg)"
      ],
      "execution_count": null,
      "outputs": []
    },
    {
      "cell_type": "markdown",
      "metadata": {
        "id": "TLTU-3ojMA-J"
      },
      "source": [
        "## Training a polynomial regression model with L1 regularization"
      ]
    },
    {
      "cell_type": "code",
      "metadata": {
        "id": "sBfyPNvMMA-J"
      },
      "source": [
        "from sklearn import linear_model\n",
        "## TODO ##\n",
        "# use sklearn Lasso (linear regression with L1 Norm) to fit the data\n",
        "\n",
        "model_L1_reg ="
      ],
      "execution_count": null,
      "outputs": []
    },
    {
      "cell_type": "code",
      "metadata": {
        "id": "LOYlQsU5MA-K"
      },
      "source": [
        "display_results(model_L1_reg)"
      ],
      "execution_count": null,
      "outputs": []
    },
    {
      "cell_type": "markdown",
      "metadata": {
        "id": "21v4zgmbMA-K"
      },
      "source": [
        "## Training a polynomial regression model with L2 regularization"
      ]
    },
    {
      "cell_type": "code",
      "metadata": {
        "id": "MrSeiPXPMA-K"
      },
      "source": [
        "from sklearn import linear_model\n",
        "## TODO ##\n",
        "# use sklearn Ridge (linear regression with L2 Norm) to fit the data\n",
        "\n",
        "model_L2_reg ="
      ],
      "execution_count": null,
      "outputs": []
    },
    {
      "cell_type": "code",
      "metadata": {
        "id": "TyLoFFM_MA-L"
      },
      "source": [
        "display_results(model_L2_reg)"
      ],
      "execution_count": null,
      "outputs": []
    },
    {
      "cell_type": "markdown",
      "metadata": {
        "id": "1EsLoBMqMA-L"
      },
      "source": [
        "## Viewing the predictions in the testing set"
      ]
    },
    {
      "cell_type": "code",
      "metadata": {
        "id": "TPp6zYZ6MA-L"
      },
      "source": [
        "import pandas as pd\n",
        "from IPython.display import display\n",
        "predictions={}\n",
        "predictions ['x']=X_test[:,0]\n",
        "predictions ['y']=y_test\n",
        "predictions['No reg'] = model_no_reg.predict(X_test)\n",
        "predictions['L1 reg'] = model_L1_reg.predict(X_test)\n",
        "predictions['L2 reg'] = model_L2_reg.predict(X_test)\n",
        "predictions=pd.DataFrame.from_dict(predictions)\n",
        "display(predictions)"
      ],
      "execution_count": null,
      "outputs": []
    },
    {
      "cell_type": "markdown",
      "source": [
        "### Real Example (Predict fuel efficiency)"
      ],
      "metadata": {
        "id": "8dghw9lZBujI"
      }
    },
    {
      "cell_type": "code",
      "source": [
        "import matplotlib.pyplot as plt\n",
        "import numpy as np\n",
        "import pandas as pd\n",
        "import seaborn as sns"
      ],
      "metadata": {
        "id": "VHDQkCyRB1Bv"
      },
      "execution_count": null,
      "outputs": []
    },
    {
      "cell_type": "code",
      "source": [
        "#### Get data\n",
        "\n",
        "url = 'http://archive.ics.uci.edu/ml/machine-learning-databases/auto-mpg/auto-mpg.data'\n",
        "column_names = ['MPG', 'Cylinders', 'Displacement', 'Horsepower', 'Weight',\n",
        "                'Acceleration', 'Model Year', 'Origin']\n",
        "\n",
        "raw_dataset = pd.read_csv(url, names=column_names,\n",
        "                          na_values='?', comment='\\t',\n",
        "                          sep=' ', skipinitialspace=True)\n",
        "\n",
        "dataset = raw_dataset.copy()\n",
        "\n",
        "#### Clean data\n",
        "\n",
        "dataset.isna().sum()\n",
        "\n",
        "dataset = dataset.dropna()\n",
        "\n",
        "dataset.isna().sum()\n",
        "\n",
        "dataset.head()\n",
        "\n",
        "dataset['Origin'] = dataset['Origin'].map({1: 'USA', 2: 'Europe', 3: 'Japan'})\n",
        "\n",
        "dataset = pd.get_dummies(dataset, columns=['Origin'], prefix='', prefix_sep='')\n",
        "\n",
        "dataset.head()"
      ],
      "metadata": {
        "id": "61DLwtWaBKJp"
      },
      "execution_count": null,
      "outputs": []
    },
    {
      "cell_type": "code",
      "source": [
        "train_dataset = dataset.sample(frac=0.8, random_state=0)\n",
        "test_dataset = dataset.drop(train_dataset.index)"
      ],
      "metadata": {
        "id": "EgNCv8bXCpHP"
      },
      "execution_count": null,
      "outputs": []
    },
    {
      "cell_type": "markdown",
      "source": [
        "#### using 50th order"
      ],
      "metadata": {
        "id": "eR4xFbd_M8ed"
      }
    },
    {
      "cell_type": "code",
      "source": [
        "from sklearn import preprocessing\n",
        "\n",
        "X_train=train_dataset[['Horsepower']]\n",
        "y_train=train_dataset[['MPG']]\n",
        "\n",
        "X_test=test_dataset[['Horsepower']]\n",
        "y_test=test_dataset[['MPG']]\n",
        "\n",
        "from sklearn.preprocessing import PolynomialFeatures\n",
        "def addPoly(X,polyDegree):\n",
        "    poly = PolynomialFeatures(polyDegree,include_bias=False)\n",
        "    X=poly.fit_transform(X)\n",
        "    return X\n",
        "\n",
        "X_trainPoly=addPoly(X_train,50)\n",
        "X_testPoly=addPoly(X_test,50)\n",
        "scaler=preprocessing.StandardScaler().fit(X_trainPoly)\n",
        "\n",
        "X_trainPoly=scaler.transform(X_trainPoly)\n",
        "X_testPoly=scaler.transform(X_testPoly)"
      ],
      "metadata": {
        "id": "3ZlQ5TqTCMgB"
      },
      "execution_count": null,
      "outputs": []
    },
    {
      "cell_type": "markdown",
      "source": [
        "##### no regularization"
      ],
      "metadata": {
        "id": "hl6_zfNONDum"
      }
    },
    {
      "cell_type": "code",
      "source": [
        "# no regularization\n",
        "from sklearn.linear_model import LinearRegression\n",
        "model_no_reg = LinearRegression()\n",
        "model_no_reg.fit(X_trainPoly, y_train)\n",
        "ytest_predict=model_no_reg.predict(X_testPoly)\n",
        "test_error=np.sqrt(mean_squared_error(y_test,ytest_predict))\n",
        "print(test_error)"
      ],
      "metadata": {
        "id": "DqJwiQ5zDFiO"
      },
      "execution_count": null,
      "outputs": []
    },
    {
      "cell_type": "markdown",
      "source": [
        "##### lasso regularization"
      ],
      "metadata": {
        "id": "fez5Ol6sNJXr"
      }
    },
    {
      "cell_type": "code",
      "source": [
        "# lasso regularization\n",
        "from sklearn import linear_model\n",
        "model_L1_reg = linear_model.Lasso(alpha=0.5)\n",
        "model_L1_reg.fit(X_trainPoly, y_train)\n",
        "ytest_predict=model_L1_reg.predict(X_testPoly)\n",
        "test_error=np.sqrt(mean_squared_error(y_test,ytest_predict))\n",
        "print(test_error)"
      ],
      "metadata": {
        "id": "uNSDrAYUCT2t"
      },
      "execution_count": null,
      "outputs": []
    },
    {
      "cell_type": "markdown",
      "source": [
        "##### ridge regularization"
      ],
      "metadata": {
        "id": "ChpoqToZNPnx"
      }
    },
    {
      "cell_type": "code",
      "source": [
        "# ridge regularization\n",
        "from sklearn import linear_model\n",
        "model_L2_reg = linear_model.Ridge(alpha=0.5)\n",
        "model_L2_reg.fit(X_trainPoly, y_train)\n",
        "ytest_predict=model_L2_reg.predict(X_testPoly)\n",
        "test_error=np.sqrt(mean_squared_error(y_test,ytest_predict))\n",
        "print(test_error)"
      ],
      "metadata": {
        "id": "iBucMZueDGDA"
      },
      "execution_count": null,
      "outputs": []
    },
    {
      "cell_type": "code",
      "source": [],
      "metadata": {
        "id": "3kmWCSSFFkEJ"
      },
      "execution_count": null,
      "outputs": []
    }
  ]
}